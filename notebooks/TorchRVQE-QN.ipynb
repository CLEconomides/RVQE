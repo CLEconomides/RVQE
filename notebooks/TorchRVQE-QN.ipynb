{
 "cells": [
  {
   "cell_type": "code",
   "execution_count": 1,
   "metadata": {},
   "outputs": [],
   "source": [
    "from typing import Tuple, List, Dict, Optional, Union"
   ]
  },
  {
   "cell_type": "code",
   "execution_count": 2,
   "metadata": {},
   "outputs": [],
   "source": [
    "import torch\n",
    "from torch import nn, tensor\n",
    "import torchviz"
   ]
  },
  {
   "cell_type": "code",
   "execution_count": 3,
   "metadata": {},
   "outputs": [],
   "source": [
    "from math import pi, sqrt, ceil, floor"
   ]
  },
  {
   "cell_type": "code",
   "execution_count": null,
   "metadata": {},
   "outputs": [],
   "source": []
  },
  {
   "cell_type": "code",
   "execution_count": 4,
   "metadata": {},
   "outputs": [],
   "source": [
    "import itertools\n",
    "import functools"
   ]
  },
  {
   "cell_type": "code",
   "execution_count": null,
   "metadata": {},
   "outputs": [],
   "source": []
  },
  {
   "cell_type": "markdown",
   "metadata": {},
   "source": [
    "# Utilities"
   ]
  },
  {
   "cell_type": "markdown",
   "metadata": {},
   "source": [
    "## Iterators"
   ]
  },
  {
   "cell_type": "code",
   "execution_count": 5,
   "metadata": {},
   "outputs": [],
   "source": [
    "def pairwise(iterable):\n",
    "    \"\"\"\n",
    "        s -> (s0,s1), (s1,s2), (s2, s3), ...\n",
    "    \"\"\"\n",
    "    a, b = itertools.tee(iterable)\n",
    "    next(b, None)\n",
    "    return zip(a, b)"
   ]
  },
  {
   "cell_type": "code",
   "execution_count": null,
   "metadata": {},
   "outputs": [],
   "source": []
  },
  {
   "cell_type": "markdown",
   "metadata": {},
   "source": [
    "# Torch Quantum Circuits"
   ]
  },
  {
   "cell_type": "markdown",
   "metadata": {},
   "source": [
    "## States"
   ]
  },
  {
   "cell_type": "code",
   "execution_count": 6,
   "metadata": {},
   "outputs": [],
   "source": [
    "def ket0(num_qubits: int) -> tensor:\n",
    "    psi = torch.zeros(2**num_qubits)\n",
    "    psi[0] = 1\n",
    "    return psi.reshape(shape=[2]*num_qubits)\n",
    "\n",
    "def ket1(num_qubits: int) -> tensor:\n",
    "    psi = torch.zeros(2**num_qubits)\n",
    "    psi[-1] = 1\n",
    "    return psi.reshape(shape=[2]*num_qubits)\n",
    "\n",
    "def ket(descr: str) -> tensor:\n",
    "    out = None\n",
    "    for s in descr:\n",
    "        if s == \"0\":\n",
    "            psi = tensor([1., 0.])\n",
    "        elif s == \"1\":\n",
    "            psi = tensor([0., 1.])\n",
    "        elif s == \"+\":\n",
    "            psi = normalize(tensor([1., 1.]))\n",
    "        elif s == \"-\":\n",
    "            psi = normalize(tensor([1., -1.]))\n",
    "        else:\n",
    "            assert False, \"description has to be one of 0, 1, + or -\"\n",
    "            \n",
    "        if out is None:\n",
    "            out = psi\n",
    "        else:\n",
    "            out = torch.ger(out, psi).view(-1)\n",
    "            \n",
    "    return out.reshape(shape=[2]*len(descr))\n",
    "\n",
    "def normalize(psi: tensor) -> tensor:\n",
    "    return psi / psi.norm(p=2)\n",
    "\n",
    "def num_state_qubits(psi: tensor) -> int:\n",
    "    return len(psi.shape)\n",
    "\n",
    "def num_operator_qubits(op: tensor) -> int:\n",
    "    assert len(op.shape) % 2 == 0, \"operator does not have same input and output indices\"\n",
    "    return len(op.shape) // 2"
   ]
  },
  {
   "cell_type": "code",
   "execution_count": 7,
   "metadata": {},
   "outputs": [
    {
     "name": "stdout",
     "output_type": "stream",
     "text": [
      "00 tensor([1., 0., 0., 0.])\n",
      "01 tensor([0., 1., 0., 0.])\n",
      "10 tensor([0., 0., 1., 0.])\n",
      "11 tensor([0., 0., 0., 1.])\n"
     ]
    }
   ],
   "source": [
    "for s in [\"00\", \"01\", \"10\", \"11\"]:\n",
    "    print(s, ket(s).view(-1))"
   ]
  },
  {
   "cell_type": "code",
   "execution_count": 8,
   "metadata": {},
   "outputs": [
    {
     "data": {
      "text/plain": [
       "tensor([0.0000, 0.7071, 0.0000, 0.7071, 0.0000, 0.0000, 0.0000, 0.0000])"
      ]
     },
     "execution_count": 8,
     "metadata": {},
     "output_type": "execute_result"
    }
   ],
   "source": [
    "ket(\"0+1\").view(-1)"
   ]
  },
  {
   "cell_type": "code",
   "execution_count": 9,
   "metadata": {},
   "outputs": [
    {
     "data": {
      "text/plain": [
       "tensor([[0.5000, 0.5000],\n",
       "        [0.5000, 0.5000]])"
      ]
     },
     "execution_count": 9,
     "metadata": {},
     "output_type": "execute_result"
    }
   ],
   "source": [
    "normalize(torch.ones(4).reshape(2,2))"
   ]
  },
  {
   "cell_type": "code",
   "execution_count": null,
   "metadata": {},
   "outputs": [],
   "source": []
  },
  {
   "cell_type": "code",
   "execution_count": null,
   "metadata": {},
   "outputs": [],
   "source": []
  },
  {
   "cell_type": "markdown",
   "metadata": {},
   "source": [
    "## Operations"
   ]
  },
  {
   "cell_type": "code",
   "execution_count": 10,
   "metadata": {},
   "outputs": [],
   "source": [
    "EINSUM_ALPHABET = \"abcdefghijklmnopqrstuvwxyz\""
   ]
  },
  {
   "cell_type": "code",
   "execution_count": 11,
   "metadata": {},
   "outputs": [],
   "source": [
    "def squish_idcs_up(idcs: str) -> str:\n",
    "    sorted_idcs = sorted(idcs)\n",
    "    return \"\".join([\n",
    "        EINSUM_ALPHABET[-i-1]\n",
    "        for i in [ len(idcs)-1-sorted_idcs.index(c) for c in idcs ]\n",
    "    ])\n",
    "\n",
    "@functools.lru_cache(maxsize=10**6)\n",
    "def einsum_indices(m: int, n: int, target_lanes: Tuple[int]) -> Tuple[str, str, str]:\n",
    "    assert len(target_lanes) == m, \"number of target and operator indices don't match\"\n",
    "    assert torch.all( tensor(target_lanes) < n ), \"target lanes not present in state\"\n",
    "    \n",
    "    idcs_op = squish_idcs_up(\"\".join( EINSUM_ALPHABET[-l-1] for l in target_lanes )) + \"\".join( EINSUM_ALPHABET[r] for r in target_lanes )\n",
    "    idcs_target = EINSUM_ALPHABET[:n]\n",
    "    \n",
    "    idcs_result = \"\"\n",
    "    idcs_op_lut = dict(zip(idcs_op[m:], idcs_op[:m]))  # lookup table from operator's right to operator's left indices\n",
    "    for c in idcs_target:\n",
    "        if c in idcs_op_lut:\n",
    "            idcs_result += idcs_op_lut[c]\n",
    "        else:\n",
    "            idcs_result += c\n",
    "            \n",
    "    return (idcs_op, idcs_target, idcs_result)"
   ]
  },
  {
   "cell_type": "code",
   "execution_count": 12,
   "metadata": {},
   "outputs": [
    {
     "data": {
      "text/plain": [
       "'zwyx'"
      ]
     },
     "execution_count": 12,
     "metadata": {},
     "output_type": "execute_result"
    }
   ],
   "source": [
    "squish_idcs_up(\"zkxm\")"
   ]
  },
  {
   "cell_type": "code",
   "execution_count": 13,
   "metadata": {},
   "outputs": [],
   "source": [
    "def apply(op: tensor, psi: tensor, target_lanes: List[int], verbose: bool = False) -> tensor:\n",
    "    n = num_state_qubits(psi)\n",
    "    m = num_operator_qubits(op)\n",
    "    \n",
    "    idcs_op, idcs_target, idcs_result = einsum_indices(m, n, tuple(target_lanes))\n",
    "    idcs_einsum = f\"{idcs_op},{idcs_target}->{idcs_result}\"\n",
    "    verbose and print(idcs_einsum)\n",
    "    \n",
    "    return torch.einsum(idcs_einsum, op, psi)\n",
    "\n",
    "def dot(a: tensor, b: tensor) -> tensor:\n",
    "    idcs_einsum = f\"{EINSUM_ALPHABET[:len(a.shape)]},{EINSUM_ALPHABET[:len(b.shape)]}->\"\n",
    "    return torch.einsum(idcs_einsum, a, b)"
   ]
  },
  {
   "cell_type": "code",
   "execution_count": null,
   "metadata": {},
   "outputs": [],
   "source": []
  },
  {
   "cell_type": "code",
   "execution_count": 14,
   "metadata": {},
   "outputs": [],
   "source": [
    "# for tests see below at Gate Layers"
   ]
  },
  {
   "cell_type": "code",
   "execution_count": null,
   "metadata": {},
   "outputs": [],
   "source": []
  },
  {
   "cell_type": "code",
   "execution_count": 15,
   "metadata": {},
   "outputs": [],
   "source": [
    "def probabilities(psi: tensor, measured_lanes: Optional[List[int]] = None, verbose: bool = False):\n",
    "    if measured_lanes is None:\n",
    "        measured_lanes = range(len(psi.shape))\n",
    "    n = num_state_qubits(psi)\n",
    "    \n",
    "    idcs_kept = \"\".join( EINSUM_ALPHABET[i] for i in measured_lanes )\n",
    "    idcs_einsum = f\"{ EINSUM_ALPHABET[:n] },{ EINSUM_ALPHABET[:n] }->{idcs_kept}\"\n",
    "    verbose and print(idcs_einsum)\n",
    "    return torch.einsum(idcs_einsum, psi, psi).reshape(-1)"
   ]
  },
  {
   "cell_type": "code",
   "execution_count": 16,
   "metadata": {},
   "outputs": [
    {
     "data": {
      "text/plain": [
       "tensor([1., 0., 0., 0.])"
      ]
     },
     "execution_count": 16,
     "metadata": {},
     "output_type": "execute_result"
    }
   ],
   "source": [
    "probabilities(ket(\"00\"), [0, 1])"
   ]
  },
  {
   "cell_type": "code",
   "execution_count": 17,
   "metadata": {},
   "outputs": [
    {
     "data": {
      "text/plain": [
       "tensor([0., 1.])"
      ]
     },
     "execution_count": 17,
     "metadata": {},
     "output_type": "execute_result"
    }
   ],
   "source": [
    "probabilities(ket(\"11\"), [0])"
   ]
  },
  {
   "cell_type": "code",
   "execution_count": 18,
   "metadata": {},
   "outputs": [
    {
     "data": {
      "text/plain": [
       "tensor([1., 0.])"
      ]
     },
     "execution_count": 18,
     "metadata": {},
     "output_type": "execute_result"
    }
   ],
   "source": [
    "probabilities(ket0(5), [1])"
   ]
  },
  {
   "cell_type": "code",
   "execution_count": 19,
   "metadata": {},
   "outputs": [
    {
     "name": "stdout",
     "output_type": "stream",
     "text": [
      "tensor([[ 0.7071,  0.0000],\n",
      "        [ 0.0000, -0.7071]])\n"
     ]
    },
    {
     "data": {
      "text/plain": [
       "tensor([0.5000, 0.0000, 0.0000, 0.5000])"
      ]
     },
     "execution_count": 19,
     "metadata": {},
     "output_type": "execute_result"
    }
   ],
   "source": [
    "# EPR pair\n",
    "psiminus = normalize(tensor([[1., 0.], [0., -1.]]))\n",
    "print(psiminus)\n",
    "probabilities(psiminus, [0, 1])"
   ]
  },
  {
   "cell_type": "code",
   "execution_count": 20,
   "metadata": {},
   "outputs": [
    {
     "data": {
      "text/plain": [
       "tensor([0.5000, 0.5000])"
      ]
     },
     "execution_count": 20,
     "metadata": {},
     "output_type": "execute_result"
    }
   ],
   "source": [
    "probabilities(psiminus, [1])"
   ]
  },
  {
   "cell_type": "code",
   "execution_count": null,
   "metadata": {},
   "outputs": [],
   "source": []
  },
  {
   "cell_type": "code",
   "execution_count": null,
   "metadata": {},
   "outputs": [],
   "source": []
  },
  {
   "cell_type": "markdown",
   "metadata": {},
   "source": [
    "## Gate Layers"
   ]
  },
  {
   "cell_type": "code",
   "execution_count": 21,
   "metadata": {},
   "outputs": [],
   "source": [
    "import copy"
   ]
  },
  {
   "cell_type": "code",
   "execution_count": 22,
   "metadata": {},
   "outputs": [],
   "source": [
    "_gate_layer_id = 0\n",
    "class GateLayer(nn.Module):    \n",
    "    def __init__(self):\n",
    "        super().__init__()\n",
    "        \n",
    "        self.dagger = False\n",
    "        \n",
    "        global _gate_layer_id\n",
    "        _gate_layer_id += 1\n",
    "        self._id = _gate_layer_id\n",
    "    \n",
    "    @property\n",
    "    def Ut(self) -> tensor:\n",
    "        U = self.U\n",
    "        shape = U.shape\n",
    "        dim = tensor(U.shape[:len(U.shape)//2]).prod()  # product of half of the dimensions\n",
    "        return U.reshape(dim, dim).T.reshape(shape)\n",
    "    \n",
    "    @property\n",
    "    def T(self):\n",
    "        new = copy.copy(self)\n",
    "        new.dagger = not new.dagger\n",
    "        return new\n",
    "    \n",
    "    def forward(self, psi: tensor, normalize_afterwards: bool = False) -> tensor:\n",
    "        psi = apply(self.U if not self.dagger else self.Ut, psi, self.lanes)\n",
    "        return psi if not normalize_afterwards else normalize(psi)\n",
    "    \n",
    "    def extra_repr(self):\n",
    "        return f\"lanes={self.lanes}, id={self._id}{', †' if self.dagger else ''}\"\n",
    "    \n",
    "    def to_mat(self):\n",
    "        n = num_operator_qubits(self.U)\n",
    "        basis = list(itertools.product(\"01\", repeat=n))\n",
    "        \n",
    "        out = tensor([[\n",
    "            dot(ket(\"\".join(x)), self.forward(ket(\"\".join(y))))\n",
    "            for x in basis\n",
    "        ] for y in basis\n",
    "        ])\n",
    "\n",
    "        return out"
   ]
  },
  {
   "cell_type": "code",
   "execution_count": null,
   "metadata": {},
   "outputs": [],
   "source": []
  },
  {
   "cell_type": "markdown",
   "metadata": {},
   "source": [
    "### X"
   ]
  },
  {
   "cell_type": "code",
   "execution_count": 23,
   "metadata": {},
   "outputs": [],
   "source": [
    "class XLayer(GateLayer):\n",
    "    def __init__(self, target_lane: int):\n",
    "        super().__init__()\n",
    "        self.lanes = [target_lane]\n",
    "        self.U = tensor(\n",
    "              [[ 0.,  1. ],\n",
    "               [ 1.,  0. ]]\n",
    "        )"
   ]
  },
  {
   "cell_type": "code",
   "execution_count": 24,
   "metadata": {},
   "outputs": [
    {
     "data": {
      "text/plain": [
       "tensor([[0., 1.],\n",
       "        [1., 0.]])"
      ]
     },
     "execution_count": 24,
     "metadata": {},
     "output_type": "execute_result"
    }
   ],
   "source": [
    "XLayer(0).to_mat()"
   ]
  },
  {
   "cell_type": "markdown",
   "metadata": {},
   "source": [
    "### H"
   ]
  },
  {
   "cell_type": "code",
   "execution_count": 25,
   "metadata": {},
   "outputs": [],
   "source": [
    "class HLayer(GateLayer):\n",
    "    def __init__(self, target_lane: int):\n",
    "        super().__init__()\n",
    "        self.lanes = [target_lane]\n",
    "        self.U = tensor(\n",
    "              [[ 1.,  1. ],\n",
    "               [ 1., -1. ]]\n",
    "        ) / sqrt(2.)"
   ]
  },
  {
   "cell_type": "code",
   "execution_count": 26,
   "metadata": {},
   "outputs": [
    {
     "data": {
      "text/plain": [
       "tensor([[ 0.7071,  0.7071],\n",
       "        [ 0.7071, -0.7071]])"
      ]
     },
     "execution_count": 26,
     "metadata": {},
     "output_type": "execute_result"
    }
   ],
   "source": [
    "HLayer(0).to_mat()"
   ]
  },
  {
   "cell_type": "markdown",
   "metadata": {},
   "source": [
    "### rY"
   ]
  },
  {
   "cell_type": "code",
   "execution_count": 27,
   "metadata": {},
   "outputs": [],
   "source": [
    "class rYLayer(GateLayer):\n",
    "    def __init__(self, target_lane: int, initial_θ: float = 1.):\n",
    "        super().__init__()\n",
    "        \n",
    "        self.lanes = [target_lane]\n",
    "        self.θ = nn.Parameter(tensor(initial_θ, requires_grad=True))\n",
    "        self.register_parameter(\"θ\", self.θ)\n",
    "        \n",
    "    @property\n",
    "    def U(self) -> tensor:\n",
    "        # note: these matrices are TRANSPOSED! in this notation\n",
    "        θ = self.θ\n",
    "        return torch.stack([\n",
    "            torch.stack([ (.5*θ).cos(), (-.5*θ).sin() ]),\n",
    "            torch.stack([ (.5*θ).sin(),  (.5*θ).cos() ])\n",
    "        ])"
   ]
  },
  {
   "cell_type": "code",
   "execution_count": 28,
   "metadata": {},
   "outputs": [
    {
     "data": {
      "text/plain": [
       "tensor([[ 0.7071,  0.7071],\n",
       "        [-0.7071,  0.7071]])"
      ]
     },
     "execution_count": 28,
     "metadata": {},
     "output_type": "execute_result"
    }
   ],
   "source": [
    "# the transposition is visible here, where we get the correct shape\n",
    "rYLayer(0, pi/2).to_mat()"
   ]
  },
  {
   "cell_type": "code",
   "execution_count": 29,
   "metadata": {},
   "outputs": [
    {
     "data": {
      "text/plain": [
       "tensor([[ 0.7071, -0.7071],\n",
       "        [ 0.7071,  0.7071]])"
      ]
     },
     "execution_count": 29,
     "metadata": {},
     "output_type": "execute_result"
    }
   ],
   "source": [
    "rYLayer(0, pi/2).T.to_mat()"
   ]
  },
  {
   "cell_type": "code",
   "execution_count": 30,
   "metadata": {},
   "outputs": [
    {
     "data": {
      "text/plain": [
       "[('θ',\n",
       "  Parameter containing:\n",
       "  tensor(1., requires_grad=True))]"
      ]
     },
     "execution_count": 30,
     "metadata": {},
     "output_type": "execute_result"
    }
   ],
   "source": [
    "list(rYLayer(2).named_parameters())"
   ]
  },
  {
   "cell_type": "code",
   "execution_count": 31,
   "metadata": {},
   "outputs": [
    {
     "name": "stdout",
     "output_type": "stream",
     "text": [
      "za,abc->zbc\n"
     ]
    },
    {
     "data": {
      "text/plain": [
       "tensor([[[0.8776, 0.0000],\n",
       "         [0.0000, 0.0000]],\n",
       "\n",
       "        [[0.4794, 0.0000],\n",
       "         [0.0000, 0.0000]]], grad_fn=<ViewBackward>)"
      ]
     },
     "execution_count": 31,
     "metadata": {},
     "output_type": "execute_result"
    }
   ],
   "source": [
    "apply(rYLayer(2).U, ket0(3), [0], verbose=True)"
   ]
  },
  {
   "cell_type": "code",
   "execution_count": 32,
   "metadata": {},
   "outputs": [
    {
     "name": "stdout",
     "output_type": "stream",
     "text": [
      "zc,abc->abz\n"
     ]
    },
    {
     "data": {
      "text/plain": [
       "tensor([[[0.8776, 0.4794],\n",
       "         [0.0000, 0.0000]],\n",
       "\n",
       "        [[0.0000, 0.0000],\n",
       "         [0.0000, 0.0000]]], grad_fn=<ViewBackward>)"
      ]
     },
     "execution_count": 32,
     "metadata": {},
     "output_type": "execute_result"
    }
   ],
   "source": [
    "apply(rYLayer(2).U, ket0(3), [2], True)"
   ]
  },
  {
   "cell_type": "code",
   "execution_count": 33,
   "metadata": {},
   "outputs": [
    {
     "data": {
      "text/plain": [
       "[('0.θ',\n",
       "  Parameter containing:\n",
       "  tensor(1., requires_grad=True))]"
      ]
     },
     "execution_count": 33,
     "metadata": {},
     "output_type": "execute_result"
    }
   ],
   "source": [
    "# parameter sharing works as expected\n",
    "foo = rYLayer(2)\n",
    "list(nn.Sequential(foo, foo.T).named_parameters())"
   ]
  },
  {
   "cell_type": "code",
   "execution_count": 34,
   "metadata": {},
   "outputs": [
    {
     "data": {
      "text/plain": [
       "[('0.θ',\n",
       "  Parameter containing:\n",
       "  tensor(1., requires_grad=True)),\n",
       " ('1.θ',\n",
       "  Parameter containing:\n",
       "  tensor(1., requires_grad=True))]"
      ]
     },
     "execution_count": 34,
     "metadata": {},
     "output_type": "execute_result"
    }
   ],
   "source": [
    "# and here we have two separate parameters\n",
    "list(nn.Sequential(foo, rYLayer(2)).named_parameters())"
   ]
  },
  {
   "cell_type": "markdown",
   "metadata": {},
   "source": [
    "### crY"
   ]
  },
  {
   "cell_type": "code",
   "execution_count": 35,
   "metadata": {},
   "outputs": [],
   "source": [
    "class crYLayer(GateLayer):\n",
    "    def __init__(self, control_lane: int, target_lane: int, initial_θ: float = 1.):\n",
    "        super().__init__()\n",
    "        \n",
    "        self.lanes = [control_lane, target_lane]\n",
    "        self.θ = nn.Parameter(tensor(initial_θ, requires_grad=True))\n",
    "        self.register_parameter(\"θ\", self.θ)\n",
    "    \n",
    "    @property\n",
    "    def U(self) -> tensor:\n",
    "        # note: these matrices are TRANSPOSED! in this notation\n",
    "        θ = self.θ\n",
    "        return torch.stack([\n",
    "            torch.stack([ tensor([1., 0.]), tensor([ 0., 0.]) ]),\n",
    "            torch.stack([ tensor([0., 1.]), tensor([ 0., 0.]) ]),\n",
    "\n",
    "            torch.stack([ tensor([0., 0.]), torch.stack([ (.5*θ).cos(), (-.5*θ).sin() ]) ]),  # TRANSPOSED again, see comment above\n",
    "            torch.stack([ tensor([0., 0.]), torch.stack([ (.5*θ).sin(),  (.5*θ).cos() ]) ]),     \n",
    "        ]).reshape(2, 2, 2, 2)"
   ]
  },
  {
   "cell_type": "code",
   "execution_count": 36,
   "metadata": {},
   "outputs": [
    {
     "data": {
      "text/plain": [
       "tensor([[ 1.0000,  0.0000,  0.0000,  0.0000],\n",
       "        [ 0.0000,  1.0000,  0.0000,  0.0000],\n",
       "        [ 0.0000,  0.0000,  0.7071,  0.7071],\n",
       "        [ 0.0000,  0.0000, -0.7071,  0.7071]])"
      ]
     },
     "execution_count": 36,
     "metadata": {},
     "output_type": "execute_result"
    }
   ],
   "source": [
    "crYLayer(0, 1, initial_θ=pi/2).to_mat()"
   ]
  },
  {
   "cell_type": "code",
   "execution_count": 37,
   "metadata": {},
   "outputs": [
    {
     "data": {
      "text/plain": [
       "[('θ',\n",
       "  Parameter containing:\n",
       "  tensor(1., requires_grad=True))]"
      ]
     },
     "execution_count": 37,
     "metadata": {},
     "output_type": "execute_result"
    }
   ],
   "source": [
    "list(crYLayer(1, 2).named_parameters())"
   ]
  },
  {
   "cell_type": "code",
   "execution_count": 38,
   "metadata": {},
   "outputs": [
    {
     "data": {
      "text/plain": [
       "tensor([1., 0., 0., 0.], grad_fn=<ViewBackward>)"
      ]
     },
     "execution_count": 38,
     "metadata": {},
     "output_type": "execute_result"
    }
   ],
   "source": [
    "# controlled gate has no action on |0> control\n",
    "crYLayer(0, 1).forward(ket(\"00\")).view(-1)"
   ]
  },
  {
   "cell_type": "code",
   "execution_count": 39,
   "metadata": {},
   "outputs": [
    {
     "data": {
      "text/plain": [
       "tensor([ 0.0000,  0.0000,  0.9239, -0.3827], grad_fn=<ViewBackward>)"
      ]
     },
     "execution_count": 39,
     "metadata": {},
     "output_type": "execute_result"
    }
   ],
   "source": [
    "# controlled gate has action on |1> control\n",
    "crYLayer(0, 1, initial_θ=-pi/4).forward(ket(\"10\")).view(-1)"
   ]
  },
  {
   "cell_type": "code",
   "execution_count": 40,
   "metadata": {},
   "outputs": [
    {
     "name": "stdout",
     "output_type": "stream",
     "text": [
      "za,ab->zb\n",
      "yzba,ab->zy\n"
     ]
    },
    {
     "data": {
      "text/plain": [
       "tensor([0.7071, 0.0000, 0.7071, 0.0000], grad_fn=<ViewBackward>)"
      ]
     },
     "execution_count": 40,
     "metadata": {},
     "output_type": "execute_result"
    }
   ],
   "source": [
    "foo = apply(crYLayer(0, 1, initial_θ=1.).U, apply(HLayer(0).U, ket0(2), [0], verbose=True), [1, 0], verbose=True).view(-1)\n",
    "foo"
   ]
  },
  {
   "cell_type": "code",
   "execution_count": 41,
   "metadata": {},
   "outputs": [
    {
     "data": {
      "text/plain": [
       "tensor([0.5000, 0.0000, 0.5000, 0.0000], grad_fn=<ViewBackward>)"
      ]
     },
     "execution_count": 41,
     "metadata": {},
     "output_type": "execute_result"
    }
   ],
   "source": [
    "probabilities(foo)"
   ]
  },
  {
   "cell_type": "markdown",
   "metadata": {},
   "source": [
    "### cYpi4Z = c(-iY)"
   ]
  },
  {
   "cell_type": "code",
   "execution_count": null,
   "metadata": {},
   "outputs": [],
   "source": []
  },
  {
   "cell_type": "code",
   "execution_count": 42,
   "metadata": {},
   "outputs": [],
   "source": [
    "class cmiYLayer(GateLayer):\n",
    "    def __init__(self, control_lane: int, target_lane: int):\n",
    "        super().__init__()\n",
    "        \n",
    "        self.lanes = [control_lane, target_lane]\n",
    "        \n",
    "        # note: these matrices are TRANSPOSED! in this notation\n",
    "        self.U = tensor(\n",
    "              [[ 1.,  0.,  0.,  0.],\n",
    "               [ 0.,  1.,  0.,  0.],\n",
    "               [ 0.,  0.,  0.,  1.],\n",
    "               [ 0.,  0., -1.,  0.]]\n",
    "        ).T.reshape(2, 2, 2, 2)"
   ]
  },
  {
   "cell_type": "code",
   "execution_count": 43,
   "metadata": {},
   "outputs": [
    {
     "data": {
      "text/plain": [
       "tensor([[ 1.,  0.,  0.,  0.],\n",
       "        [ 0.,  1.,  0.,  0.],\n",
       "        [ 0.,  0.,  0.,  1.],\n",
       "        [ 0.,  0., -1.,  0.]])"
      ]
     },
     "execution_count": 43,
     "metadata": {},
     "output_type": "execute_result"
    }
   ],
   "source": [
    "cmiYLayer(0, 1).to_mat()"
   ]
  },
  {
   "cell_type": "code",
   "execution_count": 44,
   "metadata": {},
   "outputs": [
    {
     "name": "stdout",
     "output_type": "stream",
     "text": [
      "yzba,ab->zy\n"
     ]
    },
    {
     "data": {
      "text/plain": [
       "tensor([0., 0., 0., 1.])"
      ]
     },
     "execution_count": 44,
     "metadata": {},
     "output_type": "execute_result"
    }
   ],
   "source": [
    "apply(cmiYLayer(0, 1).U, ket(\"01\"), [1, 0], verbose=True).reshape(-1)"
   ]
  },
  {
   "cell_type": "code",
   "execution_count": 45,
   "metadata": {},
   "outputs": [
    {
     "data": {
      "text/plain": [
       "tensor([1., 2., 3., 4.])"
      ]
     },
     "execution_count": 45,
     "metadata": {},
     "output_type": "execute_result"
    }
   ],
   "source": [
    "tensor([[1, 2], [3, 4]], dtype=torch.float).view(-1)"
   ]
  },
  {
   "cell_type": "code",
   "execution_count": 46,
   "metadata": {},
   "outputs": [
    {
     "data": {
      "text/plain": [
       "tensor([ 1.,  2., -4.,  3.])"
      ]
     },
     "execution_count": 46,
     "metadata": {},
     "output_type": "execute_result"
    }
   ],
   "source": [
    "cmiYLayer(0, 1).forward(tensor([[1, 2], [3, 4]], dtype=torch.float)).view(-1)"
   ]
  },
  {
   "cell_type": "code",
   "execution_count": 47,
   "metadata": {},
   "outputs": [
    {
     "data": {
      "text/plain": [
       "tensor([ 1.,  2.,  4., -3.])"
      ]
     },
     "execution_count": 47,
     "metadata": {},
     "output_type": "execute_result"
    }
   ],
   "source": [
    "cmiYLayer(0, 1).T.forward(tensor([[1, 2], [3, 4]], dtype=torch.float)).view(-1)"
   ]
  },
  {
   "cell_type": "code",
   "execution_count": null,
   "metadata": {},
   "outputs": [],
   "source": []
  },
  {
   "cell_type": "code",
   "execution_count": null,
   "metadata": {},
   "outputs": [],
   "source": []
  },
  {
   "cell_type": "code",
   "execution_count": null,
   "metadata": {},
   "outputs": [],
   "source": []
  },
  {
   "cell_type": "markdown",
   "metadata": {},
   "source": [
    "### Postselection"
   ]
  },
  {
   "cell_type": "code",
   "execution_count": 48,
   "metadata": {},
   "outputs": [],
   "source": [
    "class PostselectLayer(GateLayer):\n",
    "    def __init__(self, target_lane: int, on: int):\n",
    "        super().__init__()\n",
    "        self.on = on\n",
    "        self.lanes = [target_lane]\n",
    "        self.U = torch.zeros(4).reshape(2, 2)\n",
    "        self.U[on, on] = 1.\n",
    "        \n",
    "    def forward(self, psi: tensor) -> tensor:\n",
    "        return super().forward(psi, normalize_afterwards=True)\n",
    "    \n",
    "    def extra_repr(self):\n",
    "        return super().extra_repr() + f\", on={self.on}\"    "
   ]
  },
  {
   "cell_type": "code",
   "execution_count": null,
   "metadata": {},
   "outputs": [],
   "source": []
  },
  {
   "cell_type": "code",
   "execution_count": null,
   "metadata": {},
   "outputs": [],
   "source": [
    "\n",
    "\n"
   ]
  },
  {
   "cell_type": "code",
   "execution_count": 49,
   "metadata": {},
   "outputs": [
    {
     "data": {
      "image/svg+xml": [
       "<?xml version=\"1.0\" encoding=\"UTF-8\" standalone=\"no\"?>\n",
       "<!DOCTYPE svg PUBLIC \"-//W3C//DTD SVG 1.1//EN\"\n",
       " \"http://www.w3.org/Graphics/SVG/1.1/DTD/svg11.dtd\">\n",
       "<!-- Generated by graphviz version 2.38.0 (20140413.2041)\n",
       " -->\n",
       "<!-- Title: %3 Pages: 1 -->\n",
       "<svg width=\"213pt\" height=\"875pt\"\n",
       " viewBox=\"0.00 0.00 212.64 875.00\" xmlns=\"http://www.w3.org/2000/svg\" xmlns:xlink=\"http://www.w3.org/1999/xlink\">\n",
       "<g id=\"graph0\" class=\"graph\" transform=\"scale(0.499144 0.499144) rotate(0) translate(4 1749)\">\n",
       "<title>%3</title>\n",
       "<polygon fill=\"white\" stroke=\"none\" points=\"-4,4 -4,-1749 422,-1749 422,4 -4,4\"/>\n",
       "<!-- 140417306442000 -->\n",
       "<g id=\"node1\" class=\"node\"><title>140417306442000</title>\n",
       "<polygon fill=\"#caff70\" stroke=\"black\" points=\"255.5,-21 161.5,-21 161.5,-0 255.5,-0 255.5,-21\"/>\n",
       "<text text-anchor=\"middle\" x=\"208.5\" y=\"-7.4\" font-family=\"Times,serif\" font-size=\"12.00\">SelectBackward</text>\n",
       "</g>\n",
       "<!-- 140417306442064 -->\n",
       "<g id=\"node2\" class=\"node\"><title>140417306442064</title>\n",
       "<polygon fill=\"lightgrey\" stroke=\"black\" points=\"255.5,-78 161.5,-78 161.5,-57 255.5,-57 255.5,-78\"/>\n",
       "<text text-anchor=\"middle\" x=\"208.5\" y=\"-64.4\" font-family=\"Times,serif\" font-size=\"12.00\">SelectBackward</text>\n",
       "</g>\n",
       "<!-- 140417306442064&#45;&gt;140417306442000 -->\n",
       "<g id=\"edge1\" class=\"edge\"><title>140417306442064&#45;&gt;140417306442000</title>\n",
       "<path fill=\"none\" stroke=\"black\" d=\"M208.5,-56.9197C208.5,-49.9083 208.5,-40.1442 208.5,-31.4652\"/>\n",
       "<polygon fill=\"black\" stroke=\"black\" points=\"212,-31.3408 208.5,-21.3408 205,-31.3409 212,-31.3408\"/>\n",
       "</g>\n",
       "<!-- 140417306442192 -->\n",
       "<g id=\"node3\" class=\"node\"><title>140417306442192</title>\n",
       "<polygon fill=\"lightgrey\" stroke=\"black\" points=\"255.5,-135 161.5,-135 161.5,-114 255.5,-114 255.5,-135\"/>\n",
       "<text text-anchor=\"middle\" x=\"208.5\" y=\"-121.4\" font-family=\"Times,serif\" font-size=\"12.00\">SelectBackward</text>\n",
       "</g>\n",
       "<!-- 140417306442192&#45;&gt;140417306442064 -->\n",
       "<g id=\"edge2\" class=\"edge\"><title>140417306442192&#45;&gt;140417306442064</title>\n",
       "<path fill=\"none\" stroke=\"black\" d=\"M208.5,-113.92C208.5,-106.908 208.5,-97.1442 208.5,-88.4652\"/>\n",
       "<polygon fill=\"black\" stroke=\"black\" points=\"212,-88.3408 208.5,-78.3408 205,-88.3409 212,-88.3408\"/>\n",
       "</g>\n",
       "<!-- 140417306442384 -->\n",
       "<g id=\"node4\" class=\"node\"><title>140417306442384</title>\n",
       "<polygon fill=\"lightgrey\" stroke=\"black\" points=\"253,-192 164,-192 164,-171 253,-171 253,-192\"/>\n",
       "<text text-anchor=\"middle\" x=\"208.5\" y=\"-178.4\" font-family=\"Times,serif\" font-size=\"12.00\">DivBackward0</text>\n",
       "</g>\n",
       "<!-- 140417306442384&#45;&gt;140417306442192 -->\n",
       "<g id=\"edge3\" class=\"edge\"><title>140417306442384&#45;&gt;140417306442192</title>\n",
       "<path fill=\"none\" stroke=\"black\" d=\"M208.5,-170.92C208.5,-163.908 208.5,-154.144 208.5,-145.465\"/>\n",
       "<polygon fill=\"black\" stroke=\"black\" points=\"212,-145.341 208.5,-135.341 205,-145.341 212,-145.341\"/>\n",
       "</g>\n",
       "<!-- 140417306442640 -->\n",
       "<g id=\"node5\" class=\"node\"><title>140417306442640</title>\n",
       "<polygon fill=\"lightgrey\" stroke=\"black\" points=\"254.5,-306 162.5,-306 162.5,-285 254.5,-285 254.5,-306\"/>\n",
       "<text text-anchor=\"middle\" x=\"208.5\" y=\"-292.4\" font-family=\"Times,serif\" font-size=\"12.00\">ViewBackward</text>\n",
       "</g>\n",
       "<!-- 140417306442640&#45;&gt;140417306442384 -->\n",
       "<g id=\"edge4\" class=\"edge\"><title>140417306442640&#45;&gt;140417306442384</title>\n",
       "<path fill=\"none\" stroke=\"black\" d=\"M202.806,-284.78C197.915,-275.828 191.232,-262.004 188.5,-249 186.581,-239.866 186.581,-237.134 188.5,-228 190.421,-218.856 194.295,-209.307 198.126,-201.332\"/>\n",
       "<polygon fill=\"black\" stroke=\"black\" points=\"201.351,-202.715 202.806,-192.22 195.124,-199.517 201.351,-202.715\"/>\n",
       "</g>\n",
       "<!-- 140417306442704 -->\n",
       "<g id=\"node39\" class=\"node\"><title>140417306442704</title>\n",
       "<polygon fill=\"lightgrey\" stroke=\"black\" points=\"297,-249 198,-249 198,-228 297,-228 297,-249\"/>\n",
       "<text text-anchor=\"middle\" x=\"247.5\" y=\"-235.4\" font-family=\"Times,serif\" font-size=\"12.00\">NormBackward0</text>\n",
       "</g>\n",
       "<!-- 140417306442640&#45;&gt;140417306442704 -->\n",
       "<g id=\"edge42\" class=\"edge\"><title>140417306442640&#45;&gt;140417306442704</title>\n",
       "<path fill=\"none\" stroke=\"black\" d=\"M215.293,-284.92C220.596,-277.441 228.12,-266.83 234.563,-257.745\"/>\n",
       "<polygon fill=\"black\" stroke=\"black\" points=\"237.593,-259.523 240.522,-249.341 231.883,-255.474 237.593,-259.523\"/>\n",
       "</g>\n",
       "<!-- 140417306442832 -->\n",
       "<g id=\"node6\" class=\"node\"><title>140417306442832</title>\n",
       "<polygon fill=\"lightgrey\" stroke=\"black\" points=\"260.5,-363 156.5,-363 156.5,-342 260.5,-342 260.5,-363\"/>\n",
       "<text text-anchor=\"middle\" x=\"208.5\" y=\"-349.4\" font-family=\"Times,serif\" font-size=\"12.00\">PermuteBackward</text>\n",
       "</g>\n",
       "<!-- 140417306442832&#45;&gt;140417306442640 -->\n",
       "<g id=\"edge5\" class=\"edge\"><title>140417306442832&#45;&gt;140417306442640</title>\n",
       "<path fill=\"none\" stroke=\"black\" d=\"M208.5,-341.92C208.5,-334.908 208.5,-325.144 208.5,-316.465\"/>\n",
       "<polygon fill=\"black\" stroke=\"black\" points=\"212,-316.341 208.5,-306.341 205,-316.341 212,-316.341\"/>\n",
       "</g>\n",
       "<!-- 140417306442960 -->\n",
       "<g id=\"node7\" class=\"node\"><title>140417306442960</title>\n",
       "<polygon fill=\"lightgrey\" stroke=\"black\" points=\"254.5,-420 162.5,-420 162.5,-399 254.5,-399 254.5,-420\"/>\n",
       "<text text-anchor=\"middle\" x=\"208.5\" y=\"-406.4\" font-family=\"Times,serif\" font-size=\"12.00\">ViewBackward</text>\n",
       "</g>\n",
       "<!-- 140417306442960&#45;&gt;140417306442832 -->\n",
       "<g id=\"edge6\" class=\"edge\"><title>140417306442960&#45;&gt;140417306442832</title>\n",
       "<path fill=\"none\" stroke=\"black\" d=\"M208.5,-398.92C208.5,-391.908 208.5,-382.144 208.5,-373.465\"/>\n",
       "<polygon fill=\"black\" stroke=\"black\" points=\"212,-373.341 208.5,-363.341 205,-373.341 212,-373.341\"/>\n",
       "</g>\n",
       "<!-- 140417306443152 -->\n",
       "<g id=\"node8\" class=\"node\"><title>140417306443152</title>\n",
       "<polygon fill=\"lightgrey\" stroke=\"black\" points=\"254.5,-477 162.5,-477 162.5,-456 254.5,-456 254.5,-477\"/>\n",
       "<text text-anchor=\"middle\" x=\"208.5\" y=\"-463.4\" font-family=\"Times,serif\" font-size=\"12.00\">BmmBackward</text>\n",
       "</g>\n",
       "<!-- 140417306443152&#45;&gt;140417306442960 -->\n",
       "<g id=\"edge7\" class=\"edge\"><title>140417306443152&#45;&gt;140417306442960</title>\n",
       "<path fill=\"none\" stroke=\"black\" d=\"M208.5,-455.92C208.5,-448.908 208.5,-439.144 208.5,-430.465\"/>\n",
       "<polygon fill=\"black\" stroke=\"black\" points=\"212,-430.341 208.5,-420.341 205,-430.341 212,-430.341\"/>\n",
       "</g>\n",
       "<!-- 140417306443344 -->\n",
       "<g id=\"node9\" class=\"node\"><title>140417306443344</title>\n",
       "<polygon fill=\"lightgrey\" stroke=\"black\" points=\"254.5,-534 162.5,-534 162.5,-513 254.5,-513 254.5,-534\"/>\n",
       "<text text-anchor=\"middle\" x=\"208.5\" y=\"-520.4\" font-family=\"Times,serif\" font-size=\"12.00\">ViewBackward</text>\n",
       "</g>\n",
       "<!-- 140417306443344&#45;&gt;140417306443152 -->\n",
       "<g id=\"edge8\" class=\"edge\"><title>140417306443344&#45;&gt;140417306443152</title>\n",
       "<path fill=\"none\" stroke=\"black\" d=\"M208.5,-512.92C208.5,-505.908 208.5,-496.144 208.5,-487.465\"/>\n",
       "<polygon fill=\"black\" stroke=\"black\" points=\"212,-487.341 208.5,-477.341 205,-487.341 212,-487.341\"/>\n",
       "</g>\n",
       "<!-- 140417306443472 -->\n",
       "<g id=\"node10\" class=\"node\"><title>140417306443472</title>\n",
       "<polygon fill=\"lightgrey\" stroke=\"black\" points=\"260.5,-591 156.5,-591 156.5,-570 260.5,-570 260.5,-591\"/>\n",
       "<text text-anchor=\"middle\" x=\"208.5\" y=\"-577.4\" font-family=\"Times,serif\" font-size=\"12.00\">PermuteBackward</text>\n",
       "</g>\n",
       "<!-- 140417306443472&#45;&gt;140417306443344 -->\n",
       "<g id=\"edge9\" class=\"edge\"><title>140417306443472&#45;&gt;140417306443344</title>\n",
       "<path fill=\"none\" stroke=\"black\" d=\"M208.5,-569.92C208.5,-562.908 208.5,-553.144 208.5,-544.465\"/>\n",
       "<polygon fill=\"black\" stroke=\"black\" points=\"212,-544.341 208.5,-534.341 205,-544.341 212,-544.341\"/>\n",
       "</g>\n",
       "<!-- 140417306443664 -->\n",
       "<g id=\"node11\" class=\"node\"><title>140417306443664</title>\n",
       "<polygon fill=\"lightgrey\" stroke=\"black\" points=\"270.5,-648 146.5,-648 146.5,-627 270.5,-627 270.5,-648\"/>\n",
       "<text text-anchor=\"middle\" x=\"208.5\" y=\"-634.4\" font-family=\"Times,serif\" font-size=\"12.00\">UnsqueezeBackward0</text>\n",
       "</g>\n",
       "<!-- 140417306443664&#45;&gt;140417306443472 -->\n",
       "<g id=\"edge10\" class=\"edge\"><title>140417306443664&#45;&gt;140417306443472</title>\n",
       "<path fill=\"none\" stroke=\"black\" d=\"M208.5,-626.92C208.5,-619.908 208.5,-610.144 208.5,-601.465\"/>\n",
       "<polygon fill=\"black\" stroke=\"black\" points=\"212,-601.341 208.5,-591.341 205,-601.341 212,-601.341\"/>\n",
       "</g>\n",
       "<!-- 140417306615952 -->\n",
       "<g id=\"node12\" class=\"node\"><title>140417306615952</title>\n",
       "<polygon fill=\"lightgrey\" stroke=\"black\" points=\"260.5,-705 156.5,-705 156.5,-684 260.5,-684 260.5,-705\"/>\n",
       "<text text-anchor=\"middle\" x=\"208.5\" y=\"-691.4\" font-family=\"Times,serif\" font-size=\"12.00\">PermuteBackward</text>\n",
       "</g>\n",
       "<!-- 140417306615952&#45;&gt;140417306443664 -->\n",
       "<g id=\"edge11\" class=\"edge\"><title>140417306615952&#45;&gt;140417306443664</title>\n",
       "<path fill=\"none\" stroke=\"black\" d=\"M208.5,-683.92C208.5,-676.908 208.5,-667.144 208.5,-658.465\"/>\n",
       "<polygon fill=\"black\" stroke=\"black\" points=\"212,-658.341 208.5,-648.341 205,-658.341 212,-658.341\"/>\n",
       "</g>\n",
       "<!-- 140417306616144 -->\n",
       "<g id=\"node13\" class=\"node\"><title>140417306616144</title>\n",
       "<polygon fill=\"lightgrey\" stroke=\"black\" points=\"254.5,-762 162.5,-762 162.5,-741 254.5,-741 254.5,-762\"/>\n",
       "<text text-anchor=\"middle\" x=\"208.5\" y=\"-748.4\" font-family=\"Times,serif\" font-size=\"12.00\">ViewBackward</text>\n",
       "</g>\n",
       "<!-- 140417306616144&#45;&gt;140417306615952 -->\n",
       "<g id=\"edge12\" class=\"edge\"><title>140417306616144&#45;&gt;140417306615952</title>\n",
       "<path fill=\"none\" stroke=\"black\" d=\"M208.5,-740.92C208.5,-733.908 208.5,-724.144 208.5,-715.465\"/>\n",
       "<polygon fill=\"black\" stroke=\"black\" points=\"212,-715.341 208.5,-705.341 205,-715.341 212,-715.341\"/>\n",
       "</g>\n",
       "<!-- 140417306616336 -->\n",
       "<g id=\"node14\" class=\"node\"><title>140417306616336</title>\n",
       "<polygon fill=\"lightgrey\" stroke=\"black\" points=\"260.5,-819 156.5,-819 156.5,-798 260.5,-798 260.5,-819\"/>\n",
       "<text text-anchor=\"middle\" x=\"208.5\" y=\"-805.4\" font-family=\"Times,serif\" font-size=\"12.00\">PermuteBackward</text>\n",
       "</g>\n",
       "<!-- 140417306616336&#45;&gt;140417306616144 -->\n",
       "<g id=\"edge13\" class=\"edge\"><title>140417306616336&#45;&gt;140417306616144</title>\n",
       "<path fill=\"none\" stroke=\"black\" d=\"M208.5,-797.92C208.5,-790.908 208.5,-781.144 208.5,-772.465\"/>\n",
       "<polygon fill=\"black\" stroke=\"black\" points=\"212,-772.341 208.5,-762.341 205,-772.341 212,-772.341\"/>\n",
       "</g>\n",
       "<!-- 140417306616528 -->\n",
       "<g id=\"node15\" class=\"node\"><title>140417306616528</title>\n",
       "<polygon fill=\"lightgrey\" stroke=\"black\" points=\"254.5,-876 162.5,-876 162.5,-855 254.5,-855 254.5,-876\"/>\n",
       "<text text-anchor=\"middle\" x=\"208.5\" y=\"-862.4\" font-family=\"Times,serif\" font-size=\"12.00\">ViewBackward</text>\n",
       "</g>\n",
       "<!-- 140417306616528&#45;&gt;140417306616336 -->\n",
       "<g id=\"edge14\" class=\"edge\"><title>140417306616528&#45;&gt;140417306616336</title>\n",
       "<path fill=\"none\" stroke=\"black\" d=\"M208.5,-854.92C208.5,-847.908 208.5,-838.144 208.5,-829.465\"/>\n",
       "<polygon fill=\"black\" stroke=\"black\" points=\"212,-829.341 208.5,-819.341 205,-829.341 212,-829.341\"/>\n",
       "</g>\n",
       "<!-- 140417306616720 -->\n",
       "<g id=\"node16\" class=\"node\"><title>140417306616720</title>\n",
       "<polygon fill=\"lightgrey\" stroke=\"black\" points=\"254.5,-933 162.5,-933 162.5,-912 254.5,-912 254.5,-933\"/>\n",
       "<text text-anchor=\"middle\" x=\"208.5\" y=\"-919.4\" font-family=\"Times,serif\" font-size=\"12.00\">BmmBackward</text>\n",
       "</g>\n",
       "<!-- 140417306616720&#45;&gt;140417306616528 -->\n",
       "<g id=\"edge15\" class=\"edge\"><title>140417306616720&#45;&gt;140417306616528</title>\n",
       "<path fill=\"none\" stroke=\"black\" d=\"M208.5,-911.92C208.5,-904.908 208.5,-895.144 208.5,-886.465\"/>\n",
       "<polygon fill=\"black\" stroke=\"black\" points=\"212,-886.341 208.5,-876.341 205,-886.341 212,-886.341\"/>\n",
       "</g>\n",
       "<!-- 140417306616912 -->\n",
       "<g id=\"node17\" class=\"node\"><title>140417306616912</title>\n",
       "<polygon fill=\"lightgrey\" stroke=\"black\" points=\"254.5,-990 162.5,-990 162.5,-969 254.5,-969 254.5,-990\"/>\n",
       "<text text-anchor=\"middle\" x=\"208.5\" y=\"-976.4\" font-family=\"Times,serif\" font-size=\"12.00\">ViewBackward</text>\n",
       "</g>\n",
       "<!-- 140417306616912&#45;&gt;140417306616720 -->\n",
       "<g id=\"edge16\" class=\"edge\"><title>140417306616912&#45;&gt;140417306616720</title>\n",
       "<path fill=\"none\" stroke=\"black\" d=\"M208.5,-968.92C208.5,-961.908 208.5,-952.144 208.5,-943.465\"/>\n",
       "<polygon fill=\"black\" stroke=\"black\" points=\"212,-943.341 208.5,-933.341 205,-943.341 212,-943.341\"/>\n",
       "</g>\n",
       "<!-- 140417306617040 -->\n",
       "<g id=\"node18\" class=\"node\"><title>140417306617040</title>\n",
       "<polygon fill=\"lightgrey\" stroke=\"black\" points=\"260.5,-1047 156.5,-1047 156.5,-1026 260.5,-1026 260.5,-1047\"/>\n",
       "<text text-anchor=\"middle\" x=\"208.5\" y=\"-1033.4\" font-family=\"Times,serif\" font-size=\"12.00\">PermuteBackward</text>\n",
       "</g>\n",
       "<!-- 140417306617040&#45;&gt;140417306616912 -->\n",
       "<g id=\"edge17\" class=\"edge\"><title>140417306617040&#45;&gt;140417306616912</title>\n",
       "<path fill=\"none\" stroke=\"black\" d=\"M208.5,-1025.92C208.5,-1018.91 208.5,-1009.14 208.5,-1000.47\"/>\n",
       "<polygon fill=\"black\" stroke=\"black\" points=\"212,-1000.34 208.5,-990.341 205,-1000.34 212,-1000.34\"/>\n",
       "</g>\n",
       "<!-- 140417306617232 -->\n",
       "<g id=\"node19\" class=\"node\"><title>140417306617232</title>\n",
       "<polygon fill=\"lightgrey\" stroke=\"black\" points=\"270.5,-1104 146.5,-1104 146.5,-1083 270.5,-1083 270.5,-1104\"/>\n",
       "<text text-anchor=\"middle\" x=\"208.5\" y=\"-1090.4\" font-family=\"Times,serif\" font-size=\"12.00\">UnsqueezeBackward0</text>\n",
       "</g>\n",
       "<!-- 140417306617232&#45;&gt;140417306617040 -->\n",
       "<g id=\"edge18\" class=\"edge\"><title>140417306617232&#45;&gt;140417306617040</title>\n",
       "<path fill=\"none\" stroke=\"black\" d=\"M208.5,-1082.92C208.5,-1075.91 208.5,-1066.14 208.5,-1057.47\"/>\n",
       "<polygon fill=\"black\" stroke=\"black\" points=\"212,-1057.34 208.5,-1047.34 205,-1057.34 212,-1057.34\"/>\n",
       "</g>\n",
       "<!-- 140417306617424 -->\n",
       "<g id=\"node20\" class=\"node\"><title>140417306617424</title>\n",
       "<polygon fill=\"lightgrey\" stroke=\"black\" points=\"260.5,-1161 156.5,-1161 156.5,-1140 260.5,-1140 260.5,-1161\"/>\n",
       "<text text-anchor=\"middle\" x=\"208.5\" y=\"-1147.4\" font-family=\"Times,serif\" font-size=\"12.00\">PermuteBackward</text>\n",
       "</g>\n",
       "<!-- 140417306617424&#45;&gt;140417306617232 -->\n",
       "<g id=\"edge19\" class=\"edge\"><title>140417306617424&#45;&gt;140417306617232</title>\n",
       "<path fill=\"none\" stroke=\"black\" d=\"M208.5,-1139.92C208.5,-1132.91 208.5,-1123.14 208.5,-1114.47\"/>\n",
       "<polygon fill=\"black\" stroke=\"black\" points=\"212,-1114.34 208.5,-1104.34 205,-1114.34 212,-1114.34\"/>\n",
       "</g>\n",
       "<!-- 140417306617616 -->\n",
       "<g id=\"node21\" class=\"node\"><title>140417306617616</title>\n",
       "<polygon fill=\"lightgrey\" stroke=\"black\" points=\"254.5,-1218 162.5,-1218 162.5,-1197 254.5,-1197 254.5,-1218\"/>\n",
       "<text text-anchor=\"middle\" x=\"208.5\" y=\"-1204.4\" font-family=\"Times,serif\" font-size=\"12.00\">ViewBackward</text>\n",
       "</g>\n",
       "<!-- 140417306617616&#45;&gt;140417306617424 -->\n",
       "<g id=\"edge20\" class=\"edge\"><title>140417306617616&#45;&gt;140417306617424</title>\n",
       "<path fill=\"none\" stroke=\"black\" d=\"M208.5,-1196.92C208.5,-1189.91 208.5,-1180.14 208.5,-1171.47\"/>\n",
       "<polygon fill=\"black\" stroke=\"black\" points=\"212,-1171.34 208.5,-1161.34 205,-1171.34 212,-1171.34\"/>\n",
       "</g>\n",
       "<!-- 140417306617808 -->\n",
       "<g id=\"node22\" class=\"node\"><title>140417306617808</title>\n",
       "<polygon fill=\"lightgrey\" stroke=\"black\" points=\"260.5,-1275 156.5,-1275 156.5,-1254 260.5,-1254 260.5,-1275\"/>\n",
       "<text text-anchor=\"middle\" x=\"208.5\" y=\"-1261.4\" font-family=\"Times,serif\" font-size=\"12.00\">PermuteBackward</text>\n",
       "</g>\n",
       "<!-- 140417306617808&#45;&gt;140417306617616 -->\n",
       "<g id=\"edge21\" class=\"edge\"><title>140417306617808&#45;&gt;140417306617616</title>\n",
       "<path fill=\"none\" stroke=\"black\" d=\"M208.5,-1253.92C208.5,-1246.91 208.5,-1237.14 208.5,-1228.47\"/>\n",
       "<polygon fill=\"black\" stroke=\"black\" points=\"212,-1228.34 208.5,-1218.34 205,-1228.34 212,-1228.34\"/>\n",
       "</g>\n",
       "<!-- 140417306618000 -->\n",
       "<g id=\"node23\" class=\"node\"><title>140417306618000</title>\n",
       "<polygon fill=\"lightgrey\" stroke=\"black\" points=\"254.5,-1332 162.5,-1332 162.5,-1311 254.5,-1311 254.5,-1332\"/>\n",
       "<text text-anchor=\"middle\" x=\"208.5\" y=\"-1318.4\" font-family=\"Times,serif\" font-size=\"12.00\">ViewBackward</text>\n",
       "</g>\n",
       "<!-- 140417306618000&#45;&gt;140417306617808 -->\n",
       "<g id=\"edge22\" class=\"edge\"><title>140417306618000&#45;&gt;140417306617808</title>\n",
       "<path fill=\"none\" stroke=\"black\" d=\"M208.5,-1310.92C208.5,-1303.91 208.5,-1294.14 208.5,-1285.47\"/>\n",
       "<polygon fill=\"black\" stroke=\"black\" points=\"212,-1285.34 208.5,-1275.34 205,-1285.34 212,-1285.34\"/>\n",
       "</g>\n",
       "<!-- 140417306618192 -->\n",
       "<g id=\"node24\" class=\"node\"><title>140417306618192</title>\n",
       "<polygon fill=\"lightgrey\" stroke=\"black\" points=\"254.5,-1389 162.5,-1389 162.5,-1368 254.5,-1368 254.5,-1389\"/>\n",
       "<text text-anchor=\"middle\" x=\"208.5\" y=\"-1375.4\" font-family=\"Times,serif\" font-size=\"12.00\">ViewBackward</text>\n",
       "</g>\n",
       "<!-- 140417306618192&#45;&gt;140417306618000 -->\n",
       "<g id=\"edge23\" class=\"edge\"><title>140417306618192&#45;&gt;140417306618000</title>\n",
       "<path fill=\"none\" stroke=\"black\" d=\"M208.5,-1367.92C208.5,-1360.91 208.5,-1351.14 208.5,-1342.47\"/>\n",
       "<polygon fill=\"black\" stroke=\"black\" points=\"212,-1342.34 208.5,-1332.34 205,-1342.34 212,-1342.34\"/>\n",
       "</g>\n",
       "<!-- 140417306618384 -->\n",
       "<g id=\"node25\" class=\"node\"><title>140417306618384</title>\n",
       "<polygon fill=\"lightgrey\" stroke=\"black\" points=\"254.5,-1446 162.5,-1446 162.5,-1425 254.5,-1425 254.5,-1446\"/>\n",
       "<text text-anchor=\"middle\" x=\"208.5\" y=\"-1432.4\" font-family=\"Times,serif\" font-size=\"12.00\">StackBackward</text>\n",
       "</g>\n",
       "<!-- 140417306618384&#45;&gt;140417306618192 -->\n",
       "<g id=\"edge24\" class=\"edge\"><title>140417306618384&#45;&gt;140417306618192</title>\n",
       "<path fill=\"none\" stroke=\"black\" d=\"M208.5,-1424.92C208.5,-1417.91 208.5,-1408.14 208.5,-1399.47\"/>\n",
       "<polygon fill=\"black\" stroke=\"black\" points=\"212,-1399.34 208.5,-1389.34 205,-1399.34 212,-1399.34\"/>\n",
       "</g>\n",
       "<!-- 140417306618576 -->\n",
       "<g id=\"node26\" class=\"node\"><title>140417306618576</title>\n",
       "<polygon fill=\"lightgrey\" stroke=\"black\" points=\"199.5,-1503 107.5,-1503 107.5,-1482 199.5,-1482 199.5,-1503\"/>\n",
       "<text text-anchor=\"middle\" x=\"153.5\" y=\"-1489.4\" font-family=\"Times,serif\" font-size=\"12.00\">StackBackward</text>\n",
       "</g>\n",
       "<!-- 140417306618576&#45;&gt;140417306618384 -->\n",
       "<g id=\"edge25\" class=\"edge\"><title>140417306618576&#45;&gt;140417306618384</title>\n",
       "<path fill=\"none\" stroke=\"black\" d=\"M163.08,-1481.92C170.871,-1474.13 182.06,-1462.94 191.382,-1453.62\"/>\n",
       "<polygon fill=\"black\" stroke=\"black\" points=\"194.063,-1455.89 198.659,-1446.34 189.113,-1450.94 194.063,-1455.89\"/>\n",
       "</g>\n",
       "<!-- 140417306618768 -->\n",
       "<g id=\"node27\" class=\"node\"><title>140417306618768</title>\n",
       "<polygon fill=\"lightgrey\" stroke=\"black\" points=\"199.5,-1560 107.5,-1560 107.5,-1539 199.5,-1539 199.5,-1560\"/>\n",
       "<text text-anchor=\"middle\" x=\"153.5\" y=\"-1546.4\" font-family=\"Times,serif\" font-size=\"12.00\">StackBackward</text>\n",
       "</g>\n",
       "<!-- 140417306618768&#45;&gt;140417306618576 -->\n",
       "<g id=\"edge26\" class=\"edge\"><title>140417306618768&#45;&gt;140417306618576</title>\n",
       "<path fill=\"none\" stroke=\"black\" d=\"M153.5,-1538.92C153.5,-1531.91 153.5,-1522.14 153.5,-1513.47\"/>\n",
       "<polygon fill=\"black\" stroke=\"black\" points=\"157,-1513.34 153.5,-1503.34 150,-1513.34 157,-1513.34\"/>\n",
       "</g>\n",
       "<!-- 140417306618896 -->\n",
       "<g id=\"node28\" class=\"node\"><title>140417306618896</title>\n",
       "<polygon fill=\"lightgrey\" stroke=\"black\" points=\"90.5,-1617 6.5,-1617 6.5,-1596 90.5,-1596 90.5,-1617\"/>\n",
       "<text text-anchor=\"middle\" x=\"48.5\" y=\"-1603.4\" font-family=\"Times,serif\" font-size=\"12.00\">CosBackward</text>\n",
       "</g>\n",
       "<!-- 140417306618896&#45;&gt;140417306618768 -->\n",
       "<g id=\"edge27\" class=\"edge\"><title>140417306618896&#45;&gt;140417306618768</title>\n",
       "<path fill=\"none\" stroke=\"black\" d=\"M66.7896,-1595.92C83.1757,-1587.34 107.437,-1574.63 126.133,-1564.84\"/>\n",
       "<polygon fill=\"black\" stroke=\"black\" points=\"127.833,-1567.9 135.068,-1560.16 124.585,-1561.69 127.833,-1567.9\"/>\n",
       "</g>\n",
       "<!-- 140417306619088 -->\n",
       "<g id=\"node29\" class=\"node\"><title>140417306619088</title>\n",
       "<polygon fill=\"lightgrey\" stroke=\"black\" points=\"91,-1674 0,-1674 0,-1653 91,-1653 91,-1674\"/>\n",
       "<text text-anchor=\"middle\" x=\"45.5\" y=\"-1660.4\" font-family=\"Times,serif\" font-size=\"12.00\">MulBackward0</text>\n",
       "</g>\n",
       "<!-- 140417306619088&#45;&gt;140417306618896 -->\n",
       "<g id=\"edge28\" class=\"edge\"><title>140417306619088&#45;&gt;140417306618896</title>\n",
       "<path fill=\"none\" stroke=\"black\" d=\"M46.0226,-1652.92C46.405,-1645.91 46.9376,-1636.14 47.411,-1627.47\"/>\n",
       "<polygon fill=\"black\" stroke=\"black\" points=\"50.9133,-1627.52 47.9632,-1617.34 43.9237,-1627.14 50.9133,-1627.52\"/>\n",
       "</g>\n",
       "<!-- 140417306619280 -->\n",
       "<g id=\"node30\" class=\"node\"><title>140417306619280</title>\n",
       "<polygon fill=\"lightblue\" stroke=\"black\" points=\"235.5,-1745 181.5,-1745 181.5,-1710 235.5,-1710 235.5,-1745\"/>\n",
       "<text text-anchor=\"middle\" x=\"208.5\" y=\"-1717.4\" font-family=\"Times,serif\" font-size=\"12.00\"> ()</text>\n",
       "</g>\n",
       "<!-- 140417306619280&#45;&gt;140417306619088 -->\n",
       "<g id=\"edge29\" class=\"edge\"><title>140417306619280&#45;&gt;140417306619088</title>\n",
       "<path fill=\"none\" stroke=\"black\" d=\"M181.217,-1716.12C153.533,-1705.59 110.574,-1689.25 80.4202,-1677.78\"/>\n",
       "<polygon fill=\"black\" stroke=\"black\" points=\"81.3168,-1674.38 70.7257,-1674.1 78.8281,-1680.92 81.3168,-1674.38\"/>\n",
       "</g>\n",
       "<!-- 140417306619152 -->\n",
       "<g id=\"node32\" class=\"node\"><title>140417306619152</title>\n",
       "<polygon fill=\"lightgrey\" stroke=\"black\" points=\"200,-1674 109,-1674 109,-1653 200,-1653 200,-1674\"/>\n",
       "<text text-anchor=\"middle\" x=\"154.5\" y=\"-1660.4\" font-family=\"Times,serif\" font-size=\"12.00\">MulBackward0</text>\n",
       "</g>\n",
       "<!-- 140417306619280&#45;&gt;140417306619152 -->\n",
       "<g id=\"edge32\" class=\"edge\"><title>140417306619280&#45;&gt;140417306619152</title>\n",
       "<path fill=\"none\" stroke=\"black\" d=\"M194.029,-1709.89C186.453,-1701.19 177.186,-1690.55 169.529,-1681.76\"/>\n",
       "<polygon fill=\"black\" stroke=\"black\" points=\"171.997,-1679.26 162.79,-1674.02 166.718,-1683.86 171.997,-1679.26\"/>\n",
       "</g>\n",
       "<!-- 140417306619728 -->\n",
       "<g id=\"node36\" class=\"node\"><title>140417306619728</title>\n",
       "<polygon fill=\"lightgrey\" stroke=\"black\" points=\"309,-1674 218,-1674 218,-1653 309,-1653 309,-1674\"/>\n",
       "<text text-anchor=\"middle\" x=\"263.5\" y=\"-1660.4\" font-family=\"Times,serif\" font-size=\"12.00\">MulBackward0</text>\n",
       "</g>\n",
       "<!-- 140417306619280&#45;&gt;140417306619728 -->\n",
       "<g id=\"edge37\" class=\"edge\"><title>140417306619280&#45;&gt;140417306619728</title>\n",
       "<path fill=\"none\" stroke=\"black\" d=\"M223.239,-1709.89C230.955,-1701.19 240.394,-1690.55 248.192,-1681.76\"/>\n",
       "<polygon fill=\"black\" stroke=\"black\" points=\"251.039,-1683.82 255.057,-1674.02 245.802,-1679.18 251.039,-1683.82\"/>\n",
       "</g>\n",
       "<!-- 140417306619792 -->\n",
       "<g id=\"node38\" class=\"node\"><title>140417306619792</title>\n",
       "<polygon fill=\"lightgrey\" stroke=\"black\" points=\"418,-1674 327,-1674 327,-1653 418,-1653 418,-1674\"/>\n",
       "<text text-anchor=\"middle\" x=\"372.5\" y=\"-1660.4\" font-family=\"Times,serif\" font-size=\"12.00\">MulBackward0</text>\n",
       "</g>\n",
       "<!-- 140417306619280&#45;&gt;140417306619792 -->\n",
       "<g id=\"edge40\" class=\"edge\"><title>140417306619280&#45;&gt;140417306619792</title>\n",
       "<path fill=\"none\" stroke=\"black\" d=\"M235.581,-1716.26C263.575,-1705.68 307.373,-1689.12 337.868,-1677.59\"/>\n",
       "<polygon fill=\"black\" stroke=\"black\" points=\"339.149,-1680.85 347.265,-1674.04 336.674,-1674.3 339.149,-1680.85\"/>\n",
       "</g>\n",
       "<!-- 140417306618960 -->\n",
       "<g id=\"node31\" class=\"node\"><title>140417306618960</title>\n",
       "<polygon fill=\"lightgrey\" stroke=\"black\" points=\"194,-1617 113,-1617 113,-1596 194,-1596 194,-1617\"/>\n",
       "<text text-anchor=\"middle\" x=\"153.5\" y=\"-1603.4\" font-family=\"Times,serif\" font-size=\"12.00\">SinBackward</text>\n",
       "</g>\n",
       "<!-- 140417306618960&#45;&gt;140417306618768 -->\n",
       "<g id=\"edge30\" class=\"edge\"><title>140417306618960&#45;&gt;140417306618768</title>\n",
       "<path fill=\"none\" stroke=\"black\" d=\"M153.5,-1595.92C153.5,-1588.91 153.5,-1579.14 153.5,-1570.47\"/>\n",
       "<polygon fill=\"black\" stroke=\"black\" points=\"157,-1570.34 153.5,-1560.34 150,-1570.34 157,-1570.34\"/>\n",
       "</g>\n",
       "<!-- 140417306619152&#45;&gt;140417306618960 -->\n",
       "<g id=\"edge31\" class=\"edge\"><title>140417306619152&#45;&gt;140417306618960</title>\n",
       "<path fill=\"none\" stroke=\"black\" d=\"M154.326,-1652.92C154.198,-1645.91 154.021,-1636.14 153.863,-1627.47\"/>\n",
       "<polygon fill=\"black\" stroke=\"black\" points=\"157.36,-1627.28 153.679,-1617.34 150.361,-1627.4 157.36,-1627.28\"/>\n",
       "</g>\n",
       "<!-- 140417306618640 -->\n",
       "<g id=\"node33\" class=\"node\"><title>140417306618640</title>\n",
       "<polygon fill=\"lightgrey\" stroke=\"black\" points=\"309.5,-1503 217.5,-1503 217.5,-1482 309.5,-1482 309.5,-1503\"/>\n",
       "<text text-anchor=\"middle\" x=\"263.5\" y=\"-1489.4\" font-family=\"Times,serif\" font-size=\"12.00\">StackBackward</text>\n",
       "</g>\n",
       "<!-- 140417306618640&#45;&gt;140417306618384 -->\n",
       "<g id=\"edge33\" class=\"edge\"><title>140417306618640&#45;&gt;140417306618384</title>\n",
       "<path fill=\"none\" stroke=\"black\" d=\"M253.92,-1481.92C246.129,-1474.13 234.94,-1462.94 225.618,-1453.62\"/>\n",
       "<polygon fill=\"black\" stroke=\"black\" points=\"227.887,-1450.94 218.341,-1446.34 222.937,-1455.89 227.887,-1450.94\"/>\n",
       "</g>\n",
       "<!-- 140417306618832 -->\n",
       "<g id=\"node34\" class=\"node\"><title>140417306618832</title>\n",
       "<polygon fill=\"lightgrey\" stroke=\"black\" points=\"309.5,-1560 217.5,-1560 217.5,-1539 309.5,-1539 309.5,-1560\"/>\n",
       "<text text-anchor=\"middle\" x=\"263.5\" y=\"-1546.4\" font-family=\"Times,serif\" font-size=\"12.00\">StackBackward</text>\n",
       "</g>\n",
       "<!-- 140417306618832&#45;&gt;140417306618640 -->\n",
       "<g id=\"edge34\" class=\"edge\"><title>140417306618832&#45;&gt;140417306618640</title>\n",
       "<path fill=\"none\" stroke=\"black\" d=\"M263.5,-1538.92C263.5,-1531.91 263.5,-1522.14 263.5,-1513.47\"/>\n",
       "<polygon fill=\"black\" stroke=\"black\" points=\"267,-1513.34 263.5,-1503.34 260,-1513.34 267,-1513.34\"/>\n",
       "</g>\n",
       "<!-- 140417306619344 -->\n",
       "<g id=\"node35\" class=\"node\"><title>140417306619344</title>\n",
       "<polygon fill=\"lightgrey\" stroke=\"black\" points=\"304,-1617 223,-1617 223,-1596 304,-1596 304,-1617\"/>\n",
       "<text text-anchor=\"middle\" x=\"263.5\" y=\"-1603.4\" font-family=\"Times,serif\" font-size=\"12.00\">SinBackward</text>\n",
       "</g>\n",
       "<!-- 140417306619344&#45;&gt;140417306618832 -->\n",
       "<g id=\"edge35\" class=\"edge\"><title>140417306619344&#45;&gt;140417306618832</title>\n",
       "<path fill=\"none\" stroke=\"black\" d=\"M263.5,-1595.92C263.5,-1588.91 263.5,-1579.14 263.5,-1570.47\"/>\n",
       "<polygon fill=\"black\" stroke=\"black\" points=\"267,-1570.34 263.5,-1560.34 260,-1570.34 267,-1570.34\"/>\n",
       "</g>\n",
       "<!-- 140417306619728&#45;&gt;140417306619344 -->\n",
       "<g id=\"edge36\" class=\"edge\"><title>140417306619728&#45;&gt;140417306619344</title>\n",
       "<path fill=\"none\" stroke=\"black\" d=\"M263.5,-1652.92C263.5,-1645.91 263.5,-1636.14 263.5,-1627.47\"/>\n",
       "<polygon fill=\"black\" stroke=\"black\" points=\"267,-1627.34 263.5,-1617.34 260,-1627.34 267,-1627.34\"/>\n",
       "</g>\n",
       "<!-- 140417306619472 -->\n",
       "<g id=\"node37\" class=\"node\"><title>140417306619472</title>\n",
       "<polygon fill=\"lightgrey\" stroke=\"black\" points=\"410.5,-1617 326.5,-1617 326.5,-1596 410.5,-1596 410.5,-1617\"/>\n",
       "<text text-anchor=\"middle\" x=\"368.5\" y=\"-1603.4\" font-family=\"Times,serif\" font-size=\"12.00\">CosBackward</text>\n",
       "</g>\n",
       "<!-- 140417306619472&#45;&gt;140417306618832 -->\n",
       "<g id=\"edge38\" class=\"edge\"><title>140417306619472&#45;&gt;140417306618832</title>\n",
       "<path fill=\"none\" stroke=\"black\" d=\"M350.21,-1595.92C333.824,-1587.34 309.563,-1574.63 290.867,-1564.84\"/>\n",
       "<polygon fill=\"black\" stroke=\"black\" points=\"292.415,-1561.69 281.932,-1560.16 289.167,-1567.9 292.415,-1561.69\"/>\n",
       "</g>\n",
       "<!-- 140417306619792&#45;&gt;140417306619472 -->\n",
       "<g id=\"edge39\" class=\"edge\"><title>140417306619792&#45;&gt;140417306619472</title>\n",
       "<path fill=\"none\" stroke=\"black\" d=\"M371.803,-1652.92C371.293,-1645.91 370.583,-1636.14 369.952,-1627.47\"/>\n",
       "<polygon fill=\"black\" stroke=\"black\" points=\"373.432,-1627.06 369.216,-1617.34 366.45,-1627.57 373.432,-1627.06\"/>\n",
       "</g>\n",
       "<!-- 140417306442704&#45;&gt;140417306442384 -->\n",
       "<g id=\"edge41\" class=\"edge\"><title>140417306442704&#45;&gt;140417306442384</title>\n",
       "<path fill=\"none\" stroke=\"black\" d=\"M240.707,-227.92C235.404,-220.441 227.88,-209.83 221.437,-200.745\"/>\n",
       "<polygon fill=\"black\" stroke=\"black\" points=\"224.117,-198.474 215.478,-192.341 218.407,-202.523 224.117,-198.474\"/>\n",
       "</g>\n",
       "</g>\n",
       "</svg>\n"
      ],
      "text/plain": [
       "<graphviz.dot.Digraph at 0x7fb573abb890>"
      ]
     },
     "execution_count": 49,
     "metadata": {},
     "output_type": "execute_result"
    }
   ],
   "source": [
    "temp = PostselectLayer(0, 0).forward(\n",
    "    crYLayer(1, 2).T.forward(ket0(3))\n",
    ")[0][1][0]\n",
    "temp.backward()\n",
    "torchviz.make_dot(temp)"
   ]
  },
  {
   "cell_type": "code",
   "execution_count": null,
   "metadata": {},
   "outputs": [],
   "source": []
  },
  {
   "cell_type": "code",
   "execution_count": null,
   "metadata": {},
   "outputs": [],
   "source": []
  },
  {
   "cell_type": "markdown",
   "metadata": {},
   "source": [
    "## Compound Layers"
   ]
  },
  {
   "cell_type": "code",
   "execution_count": 50,
   "metadata": {},
   "outputs": [],
   "source": [
    "def _T_gate_list(gates: List[GateLayer]) -> List[GateLayer]:\n",
    "    return [ g.T for g in reversed(gates) ]"
   ]
  },
  {
   "cell_type": "code",
   "execution_count": 51,
   "metadata": {},
   "outputs": [],
   "source": [
    "class CompoundLayer(nn.Module):\n",
    "    def forward(self, psi: tensor) -> tensor:\n",
    "        return self.gates.forward(psi)"
   ]
  },
  {
   "cell_type": "code",
   "execution_count": 52,
   "metadata": {},
   "outputs": [],
   "source": [
    "class BitFlipLayer(CompoundLayer):\n",
    "    def __init__(self, target_lanes: List[int]):\n",
    "        super().__init__()\n",
    "        self.gates = nn.Sequential(*[ XLayer(i) for i in target_lanes ])"
   ]
  },
  {
   "cell_type": "code",
   "execution_count": 53,
   "metadata": {},
   "outputs": [
    {
     "data": {
      "text/plain": [
       "BitFlipLayer(\n",
       "  (gates): Sequential(\n",
       "    (0): XLayer(lanes=[1], id=22)\n",
       "    (1): XLayer(lanes=[3], id=23)\n",
       "    (2): XLayer(lanes=[5], id=24)\n",
       "  )\n",
       ")"
      ]
     },
     "execution_count": 53,
     "metadata": {},
     "output_type": "execute_result"
    }
   ],
   "source": [
    "BitFlipLayer([1, 3, 5])"
   ]
  },
  {
   "cell_type": "code",
   "execution_count": 54,
   "metadata": {},
   "outputs": [],
   "source": [
    "class PostselectManyLayer(CompoundLayer):\n",
    "    def __init__(self, target_lanes: List[int], on: List[int]):\n",
    "        super().__init__()\n",
    "        self.gates = nn.Sequential(*[ PostselectLayer(t, w) for t, w in zip(target_lanes, on) ])"
   ]
  },
  {
   "cell_type": "code",
   "execution_count": 55,
   "metadata": {},
   "outputs": [
    {
     "data": {
      "text/plain": [
       "PostselectManyLayer(\n",
       "  (gates): Sequential(\n",
       "    (0): PostselectLayer(lanes=[0], id=25, on=1)\n",
       "    (1): PostselectLayer(lanes=[1], id=26, on=1)\n",
       "    (2): PostselectLayer(lanes=[2], id=27, on=0)\n",
       "  )\n",
       ")"
      ]
     },
     "execution_count": 55,
     "metadata": {},
     "output_type": "execute_result"
    }
   ],
   "source": [
    "PostselectManyLayer(range(3), [1, 1, 0])"
   ]
  },
  {
   "cell_type": "code",
   "execution_count": 56,
   "metadata": {},
   "outputs": [],
   "source": [
    "class UnitaryLayer(CompoundLayer):\n",
    "    def __init__(self, workspace_size: int):\n",
    "        super().__init__()     \n",
    "        self.gates = nn.Sequential(*[ rYLayer(i) for i in range(workspace_size) ])  # we reverse the order so to have the same lane order as in qiskit\n",
    "        \n",
    "    def extra_repr(self):\n",
    "        return f\"workspace_size={len(self.gates)}\""
   ]
  },
  {
   "cell_type": "code",
   "execution_count": 57,
   "metadata": {},
   "outputs": [
    {
     "data": {
      "text/plain": [
       "[('gates.0.θ',\n",
       "  Parameter containing:\n",
       "  tensor(1., requires_grad=True)),\n",
       " ('gates.1.θ',\n",
       "  Parameter containing:\n",
       "  tensor(1., requires_grad=True)),\n",
       " ('gates.2.θ',\n",
       "  Parameter containing:\n",
       "  tensor(1., requires_grad=True))]"
      ]
     },
     "execution_count": 57,
     "metadata": {},
     "output_type": "execute_result"
    }
   ],
   "source": [
    "list(UnitaryLayer(3).named_parameters(recurse=True))"
   ]
  },
  {
   "cell_type": "code",
   "execution_count": 58,
   "metadata": {},
   "outputs": [
    {
     "data": {
      "text/plain": [
       "tensor([0.4568, 0.1363, 0.1363, 0.0407, 0.1363, 0.0407, 0.0407, 0.0121],\n",
       "       grad_fn=<UnsafeViewBackward>)"
      ]
     },
     "execution_count": 58,
     "metadata": {},
     "output_type": "execute_result"
    }
   ],
   "source": [
    "probabilities(UnitaryLayer(3).forward(ket(\"000\")), measured_lanes=range(3))"
   ]
  },
  {
   "cell_type": "code",
   "execution_count": 59,
   "metadata": {},
   "outputs": [],
   "source": [
    "class QuantumNeuronLayer(CompoundLayer):\n",
    "    def __init__(self, workspace_size: int, outlane: int, order: int = 2):\n",
    "        super().__init__()\n",
    "        \n",
    "        self.workspace_size = workspace_size\n",
    "        self.outlane = outlane\n",
    "        self.order = order\n",
    "        \n",
    "        self.ancilla_idcs = ancilla_idcs = list(range(workspace_size, workspace_size + order))\n",
    "                \n",
    "        # precompute parametrized gates as they need to share weights\n",
    "        self._param_gates = []        \n",
    "        for i in range(self.workspace_size):\n",
    "            if i == self.outlane: continue\n",
    "            self._param_gates.append(crYLayer(i, self.ancilla_idcs[0]))\n",
    "        self._param_gates.append(rYLayer(self.ancilla_idcs[0]))\n",
    "        \n",
    "        # assemble circuit gate layers\n",
    "        _gates = []\n",
    "        self._append_gates_recursive(_gates, self.order-1, dagger=False)\n",
    "        self.gates = nn.Sequential(*_gates)\n",
    "        \n",
    "        \n",
    "    def param_gates(self, dagger: bool) -> List[GateLayer]:        \n",
    "        return self._param_gates if not dagger else _T_gate_list(self._param_gates)\n",
    "        \n",
    "        \n",
    "    def static_gates(self, idx: int, dagger: bool) -> List[GateLayer]:\n",
    "        static_lanes = [ *self.ancilla_idcs, self.outlane ]\n",
    "        static_gates = [ cmiYLayer(static_lanes[idx], static_lanes[idx+1]) ]\n",
    "        \n",
    "        return static_gates if not dagger else _T_gate_list(static_gates)\n",
    "    \n",
    "    \n",
    "    def _append_gates_recursive(self, _gates: List[GateLayer], recidx: int, dagger: bool):\n",
    "        if recidx == 0:\n",
    "            _gates += self.param_gates(dagger=False)\n",
    "            _gates += self.static_gates(0, dagger)\n",
    "            _gates += self.param_gates(dagger=True)\n",
    "        \n",
    "        else:\n",
    "            self._append_gates_recursive(_gates, recidx-1, dagger=False)\n",
    "            _gates += self.static_gates(recidx, dagger)\n",
    "            self._append_gates_recursive(_gates, recidx-1, dagger=True)\n",
    "            \n",
    "        # postselect measurement outcome 0 on corresponding ancilla\n",
    "        ancilla_to_postselect_on = self.ancilla_idcs[recidx]\n",
    "        _gates.append(PostselectLayer(ancilla_to_postselect_on, on=0))\n",
    "        \n",
    "        \n",
    "    def extra_repr(self):\n",
    "        return f\"workspace_size={self.workspace_size}, outlane={self.outlane}, order={self.order}\"    "
   ]
  },
  {
   "cell_type": "code",
   "execution_count": 60,
   "metadata": {},
   "outputs": [
    {
     "name": "stdout",
     "output_type": "stream",
     "text": [
      "Parameter containing:\n",
      "tensor(1., requires_grad=True) 0.7853981633974483\n",
      "Parameter containing:\n",
      "tensor(1., requires_grad=True) 0.39269908169872414\n"
     ]
    },
    {
     "data": {
      "text/plain": [
       "tensor([0.0214, 0.0000, 0.0000, 0.0000, 0.0000, 0.0000, 0.0000, 0.0000, 0.9998,\n",
       "        0.0000, 0.0000, 0.0000, 0.0000, 0.0000, 0.0000, 0.0000],\n",
       "       grad_fn=<UnsafeViewBackward>)"
      ]
     },
     "execution_count": 60,
     "metadata": {},
     "output_type": "execute_result"
    }
   ],
   "source": [
    "l = QuantumNeuronLayer(2, 0, order=2)\n",
    "for p, v in zip(l.parameters(), [pi/4, pi/8]):\n",
    "    with torch.no_grad():\n",
    "        print(p, v)\n",
    "        p.fill_(v)\n",
    "l.forward(ket(\"10+-\")).reshape(-1)"
   ]
  },
  {
   "cell_type": "code",
   "execution_count": 61,
   "metadata": {},
   "outputs": [
    {
     "name": "stdout",
     "output_type": "stream",
     "text": [
      "tensor([0.2500, 0.0000, 0.2500, 0.2500, 0.0000, 0.0000, 0.0000, 0.2500])\n",
      "crYLayer(lanes=[1, 2], id=42) \n",
      "   tensor([ 0.5000,  0.0000,  0.2706,  0.6533,  0.0000,  0.0000, -0.1913,  0.4619],\n",
      "       grad_fn=<UnsafeViewBackward>)\n",
      "rYLayer(lanes=[2], id=43) \n",
      "   tensor([ 0.4904,  0.0975,  0.1379,  0.6935,  0.0000,  0.0000, -0.2778,  0.4157],\n",
      "       grad_fn=<UnsafeViewBackward>)\n",
      "cmiYLayer(lanes=[2, 0], id=44) \n",
      "   tensor([ 0.4904,  0.0000,  0.1379, -0.4157,  0.0000,  0.0975, -0.2778,  0.6935],\n",
      "       grad_fn=<UnsafeViewBackward>)\n",
      "rYLayer(lanes=[2], id=45) \n",
      "   tensor([ 0.4810, -0.0957,  0.0542, -0.4347,  0.0190,  0.0957, -0.1371,  0.7344],\n",
      "       grad_fn=<UnsafeViewBackward>)\n",
      "crYLayer(lanes=[1, 2], id=46) \n",
      "   tensor([ 0.4810, -0.0957, -0.1163, -0.4223,  0.0190,  0.0957,  0.1543,  0.7310],\n",
      "       grad_fn=<UnsafeViewBackward>)\n",
      "tensor([0.8599, 0.0000, 0.0502, 0.0000, 0.0013, 0.0000, 0.0885, 0.0000],\n",
      "       grad_fn=<UnsafeViewBackward>)\n"
     ]
    }
   ],
   "source": [
    "# consistency with torch\n",
    "\n",
    "psi = normalize(tensor([1., 0., 1, 1., 0, 0., 0, 1.]).reshape(2, 2, 2))\n",
    "print(probabilities(psi))\n",
    "\n",
    "layer1 = crYLayer(1, 2, initial_θ=pi/4)\n",
    "layer2 = rYLayer(2, initial_θ=pi/8)\n",
    "layer3 = cmiYLayer(2, 0)\n",
    "layer4 = rYLayer(2, initial_θ=-pi/8)\n",
    "layer5 = crYLayer(1, 2, initial_θ=-pi/4)\n",
    "for l in [layer1, layer2, layer3, layer4, layer5]:\n",
    "    psi = l.forward(psi)\n",
    "    print(l, \"\\n  \", psi.reshape(-1))\n",
    "    \n",
    "\n",
    "psi = PostselectLayer(2, on=0).forward(psi)\n",
    "print(probabilities(psi))"
   ]
  },
  {
   "cell_type": "code",
   "execution_count": 62,
   "metadata": {},
   "outputs": [
    {
     "data": {
      "text/plain": [
       "tensor([8.2715e-01, 3.2727e-02, 4.8336e-02, 1.9125e-03, 1.2949e-03, 5.1233e-05,\n",
       "        8.5161e-02, 3.3695e-03], grad_fn=<UnsafeViewBackward>)"
      ]
     },
     "execution_count": 62,
     "metadata": {},
     "output_type": "execute_result"
    }
   ],
   "source": [
    "layer3 = rYLayer(2, initial_θ=pi/8)\n",
    "psi = layer2.forward(psi)\n",
    "probabilities(psi)"
   ]
  },
  {
   "cell_type": "code",
   "execution_count": 63,
   "metadata": {},
   "outputs": [
    {
     "data": {
      "text/plain": [
       "tensor([8.2715e-01, 5.1233e-05, 4.8336e-02, 3.3695e-03, 1.2949e-03, 3.2727e-02,\n",
       "        8.5161e-02, 1.9125e-03], grad_fn=<UnsafeViewBackward>)"
      ]
     },
     "execution_count": 63,
     "metadata": {},
     "output_type": "execute_result"
    }
   ],
   "source": [
    "psi = cmiYLayer(2, 0).forward(psi)\n",
    "probabilities(psi)"
   ]
  },
  {
   "cell_type": "code",
   "execution_count": 64,
   "metadata": {},
   "outputs": [
    {
     "data": {
      "text/plain": [
       "tensor([0.7932, 0.0340, 0.0462, 0.0055, 0.0050, 0.0290, 0.0477, 0.0394],\n",
       "       grad_fn=<UnsafeViewBackward>)"
      ]
     },
     "execution_count": 64,
     "metadata": {},
     "output_type": "execute_result"
    }
   ],
   "source": [
    "psi = layer2.T.forward(psi)\n",
    "psi = layer1.T.forward(psi)\n",
    "probabilities(psi)"
   ]
  },
  {
   "cell_type": "code",
   "execution_count": 65,
   "metadata": {},
   "outputs": [
    {
     "data": {
      "text/plain": [
       "tensor([0.8891, 0.0000, 0.0518, 0.0000, 0.0056, 0.0000, 0.0534, 0.0000],\n",
       "       grad_fn=<UnsafeViewBackward>)"
      ]
     },
     "execution_count": 65,
     "metadata": {},
     "output_type": "execute_result"
    }
   ],
   "source": [
    "probabilities(PostselectLayer(2, on=0).forward(psi), [0, 1, 2])"
   ]
  },
  {
   "cell_type": "code",
   "execution_count": 66,
   "metadata": {},
   "outputs": [
    {
     "data": {
      "text/plain": [
       "tensor([0.3897, 0.0025, 0.3970, 0.2107], grad_fn=<ViewBackward>)"
      ]
     },
     "execution_count": 66,
     "metadata": {},
     "output_type": "execute_result"
    }
   ],
   "source": [
    "probabilities(QuantumNeuronLayer(2, 0, order=1).forward(UnitaryLayer(2).forward(ket(\"0000\"))), [0, 1])"
   ]
  },
  {
   "cell_type": "code",
   "execution_count": 67,
   "metadata": {},
   "outputs": [
    {
     "data": {
      "text/plain": [
       "tensor([0.5679, 0.0190, 0.2533, 0.1598], grad_fn=<ViewBackward>)"
      ]
     },
     "execution_count": 67,
     "metadata": {},
     "output_type": "execute_result"
    }
   ],
   "source": [
    "probabilities(QuantumNeuronLayer(2, 0, order=2).forward(UnitaryLayer(2).forward(ket(\"0000\"))), [0, 1])"
   ]
  },
  {
   "cell_type": "code",
   "execution_count": 68,
   "metadata": {},
   "outputs": [],
   "source": [
    "# %timeit probabilities(QuantumNeuronLayer(6, 0, 2).forward(UnitaryLayer(6).forward(ket0(8))), [0, 1])"
   ]
  },
  {
   "cell_type": "code",
   "execution_count": null,
   "metadata": {},
   "outputs": [],
   "source": []
  },
  {
   "cell_type": "markdown",
   "metadata": {},
   "source": [
    "## RVQE Cell"
   ]
  },
  {
   "cell_type": "code",
   "execution_count": 69,
   "metadata": {},
   "outputs": [],
   "source": [
    "class RVQECell(nn.Module):\n",
    "    def __init__(self, workspace_size: int, stages: int, order: int = 2):\n",
    "        super().__init__()\n",
    "        \n",
    "        self.workspace_size = workspace_size\n",
    "        self.order = order\n",
    "        \n",
    "        self.gates = nn.Sequential(*[\n",
    "            nn.Sequential( \n",
    "                UnitaryLayer(workspace_size),\n",
    "                *[ QuantumNeuronLayer(workspace_size, outlane, order) for outlane in range(workspace_size) ]\n",
    "            ) for _ in range(stages)\n",
    "        ])\n",
    "        \n",
    "    @property\n",
    "    def num_qubits(self) -> int:\n",
    "        return self.workspace_size + self.order\n",
    "        \n",
    "    def forward(self, psi: tensor, input: List[int]) -> Tuple[tensor, tensor]:\n",
    "        # we assume psi has its input lanes reset to 0\n",
    "        input_lanes = range(len(input))\n",
    "        psi = BitFlipLayer([ i for i in input_lanes if input[i] == 1 ]).forward(psi)\n",
    "        psi = self.gates.forward(psi)\n",
    "        \n",
    "        return probabilities(psi, input_lanes), psi"
   ]
  },
  {
   "cell_type": "code",
   "execution_count": 70,
   "metadata": {},
   "outputs": [
    {
     "data": {
      "text/plain": [
       "RVQECell(\n",
       "  (gates): Sequential(\n",
       "    (0): Sequential(\n",
       "      (0): UnitaryLayer(\n",
       "        workspace_size=1\n",
       "        (gates): Sequential(\n",
       "          (0): rYLayer(lanes=[0], id=67)\n",
       "        )\n",
       "      )\n",
       "      (1): QuantumNeuronLayer(\n",
       "        workspace_size=1, outlane=0, order=2\n",
       "        (gates): Sequential(\n",
       "          (0): rYLayer(lanes=[1], id=68)\n",
       "          (1): cmiYLayer(lanes=[1, 2], id=69)\n",
       "          (2): rYLayer(lanes=[1], id=68, †)\n",
       "          (3): PostselectLayer(lanes=[1], id=70, on=0)\n",
       "          (4): cmiYLayer(lanes=[2, 0], id=71)\n",
       "          (5): rYLayer(lanes=[1], id=68)\n",
       "          (6): cmiYLayer(lanes=[1, 2], id=72, †)\n",
       "          (7): rYLayer(lanes=[1], id=68, †)\n",
       "          (8): PostselectLayer(lanes=[1], id=73, on=0)\n",
       "          (9): PostselectLayer(lanes=[2], id=74, on=0)\n",
       "        )\n",
       "      )\n",
       "    )\n",
       "  )\n",
       ")"
      ]
     },
     "execution_count": 70,
     "metadata": {},
     "output_type": "execute_result"
    }
   ],
   "source": [
    "RVQECell(1, stages=1, order=2)"
   ]
  },
  {
   "cell_type": "code",
   "execution_count": 71,
   "metadata": {},
   "outputs": [],
   "source": [
    "# %timeit RVQECell(6, 3).forward(ket0(8), [1, 1])"
   ]
  },
  {
   "cell_type": "code",
   "execution_count": 72,
   "metadata": {},
   "outputs": [
    {
     "data": {
      "text/plain": [
       "126"
      ]
     },
     "execution_count": 72,
     "metadata": {},
     "output_type": "execute_result"
    }
   ],
   "source": [
    "len(list(RVQECell(6, 3).parameters()))"
   ]
  },
  {
   "cell_type": "code",
   "execution_count": 73,
   "metadata": {},
   "outputs": [],
   "source": [
    "temp = RVQECell(3, 1).forward(ket0(5), [1])[0][0]\n",
    "temp.backward()\n",
    "torchviz.make_dot(temp);"
   ]
  },
  {
   "cell_type": "markdown",
   "metadata": {},
   "source": [
    "# RVQE"
   ]
  },
  {
   "cell_type": "markdown",
   "metadata": {},
   "source": [
    "## Utility Functions"
   ]
  },
  {
   "cell_type": "code",
   "execution_count": 74,
   "metadata": {},
   "outputs": [],
   "source": [
    "def bitword_to_int(lst: Union[List[int], tensor]) -> int:\n",
    "    if not isinstance(lst, list):\n",
    "        lst = lst.tolist()\n",
    "        \n",
    "    return int(\"\".join(str(n) for n in lst), 2)\n",
    "\n",
    "def bitword_to_onehot(lst: List[int], width: int) -> tensor:\n",
    "    ret = torch.zeros(2**width)\n",
    "    idx = bitword_to_int(lst)\n",
    "    ret[idx] = 1.\n",
    "    return ret"
   ]
  },
  {
   "cell_type": "code",
   "execution_count": 75,
   "metadata": {},
   "outputs": [
    {
     "data": {
      "text/plain": [
       "tensor([0., 1., 0., 0., 0., 0., 0., 0.])"
      ]
     },
     "execution_count": 75,
     "metadata": {},
     "output_type": "execute_result"
    }
   ],
   "source": [
    "bitword_to_onehot(tensor([0, 0, 1]), 3)"
   ]
  },
  {
   "cell_type": "code",
   "execution_count": 76,
   "metadata": {},
   "outputs": [
    {
     "data": {
      "text/plain": [
       "3"
      ]
     },
     "execution_count": 76,
     "metadata": {},
     "output_type": "execute_result"
    }
   ],
   "source": [
    "bitword_to_int(tensor([0, 1, 1]))"
   ]
  },
  {
   "cell_type": "code",
   "execution_count": 77,
   "metadata": {},
   "outputs": [],
   "source": [
    "def int_to_bitword_str(label: int, width: int) -> str:\n",
    "    return bin(label)[2:].rjust(width, \"0\")\n",
    "\n",
    "def int_to_bitword(label: int, width: int) -> List[int]:\n",
    "    return [ int(c) for c in int_to_bitword_str(label, width) ]"
   ]
  },
  {
   "cell_type": "code",
   "execution_count": 78,
   "metadata": {},
   "outputs": [
    {
     "data": {
      "text/plain": [
       "[0, 0, 0, 0, 0, 0, 1, 1, 0, 0]"
      ]
     },
     "execution_count": 78,
     "metadata": {},
     "output_type": "execute_result"
    }
   ],
   "source": [
    "int_to_bitword(12, 10)"
   ]
  },
  {
   "cell_type": "code",
   "execution_count": 79,
   "metadata": {},
   "outputs": [
    {
     "data": {
      "text/plain": [
       "'0b1'"
      ]
     },
     "execution_count": 79,
     "metadata": {},
     "output_type": "execute_result"
    }
   ],
   "source": [
    "bin(tensor([1, 2])[0])"
   ]
  },
  {
   "cell_type": "code",
   "execution_count": 80,
   "metadata": {},
   "outputs": [],
   "source": [
    "def bitword_to_str(lst: Union[List[int], tensor]) -> str:\n",
    "    return int_to_bitword_str(bitword_to_int(lst), len(lst))"
   ]
  },
  {
   "cell_type": "code",
   "execution_count": 81,
   "metadata": {},
   "outputs": [
    {
     "data": {
      "text/plain": [
       "'1110'"
      ]
     },
     "execution_count": 81,
     "metadata": {},
     "output_type": "execute_result"
    }
   ],
   "source": [
    "bitword_to_str([1, 1, 1, 0])"
   ]
  },
  {
   "cell_type": "markdown",
   "metadata": {},
   "source": [
    "## RVQE Module"
   ]
  },
  {
   "cell_type": "code",
   "execution_count": 82,
   "metadata": {},
   "outputs": [
    {
     "data": {
      "text/plain": [
       "1"
      ]
     },
     "execution_count": 82,
     "metadata": {},
     "output_type": "execute_result"
    }
   ],
   "source": [
    "tensor([.5, .4, .1]).dim()"
   ]
  },
  {
   "cell_type": "code",
   "execution_count": 83,
   "metadata": {},
   "outputs": [],
   "source": [
    "class RVQE(nn.Module):\n",
    "    def __init__(self, *args, **kwargs):\n",
    "        super().__init__()\n",
    "        self.cell = RVQECell(*args, **kwargs)\n",
    "        \n",
    "    def forward(self, inputs: tensor, postselect_measurement: bool = True) -> Tuple[tensor, list]:\n",
    "        # batched call; return stacked result\n",
    "        if inputs.dim() == 3:\n",
    "            batch_measured_seq = []\n",
    "            batch_probs = []\n",
    "            for inpt in inputs:\n",
    "                probs, measured_seq = self.forward(inpt, postselect_measurement)\n",
    "                batch_probs.append(probs)\n",
    "                batch_measured_seq.append(measured_seq)\n",
    "            return torch.stack(batch_probs), torch.stack(batch_measured_seq)\n",
    "        \n",
    "        # normal call\n",
    "        assert inputs.dim() == 2, \"inputs have to have dimension 3 (1st batch) or 2 (list of int lists)\"\n",
    "        \n",
    "        num_qubits = self.cell.num_qubits\n",
    "        input_size = len(inputs[0])\n",
    "        input_lanes = range(input_size)\n",
    "        \n",
    "        psi = ket0(num_qubits)\n",
    "        probs = []\n",
    "        measured_seq = []\n",
    "        \n",
    "        for inpt, trgt in pairwise(inputs):   \n",
    "            assert len(inpt) == input_size and len(trgt) == input_size, \"inputs all have to be the same length\"\n",
    "            \n",
    "            p, psi = self.cell.forward(psi, inpt)\n",
    "            probs.append(p)\n",
    "            \n",
    "            # measure output\n",
    "            if postselect_measurement:\n",
    "                measure = trgt\n",
    "            else:\n",
    "                output_distribution = torch.distributions.Categorical(probs=p)\n",
    "                measure = tensor(int_to_bitword(output_distribution.sample(), width=input_size))\n",
    "                \n",
    "            measured_seq.append(measure)\n",
    "            psi = PostselectManyLayer(input_lanes, measure).forward(psi)\n",
    "            \n",
    "            # reset qubits\n",
    "            psi = BitFlipLayer([ i for i in input_lanes if measure[i] ]).forward(psi)\n",
    "            \n",
    "        return torch.stack(probs), torch.stack(measured_seq)"
   ]
  },
  {
   "cell_type": "code",
   "execution_count": 84,
   "metadata": {},
   "outputs": [
    {
     "data": {
      "text/plain": [
       "(tensor([[[0.0254, 0.0438, 0.5976, 0.0172, 0.0421, 0.2275, 0.0137, 0.0327],\n",
       "          [0.0141, 0.0738, 0.0255, 0.0100, 0.0027, 0.0027, 0.0048, 0.8664]],\n",
       " \n",
       "         [[0.0093, 0.2178, 0.2304, 0.0256, 0.0434, 0.0381, 0.0132, 0.4222],\n",
       "          [0.0361, 0.0605, 0.3498, 0.0275, 0.0092, 0.1237, 0.0225, 0.3708]]],\n",
       "        grad_fn=<StackBackward>),\n",
       " tensor([[[1, 1, 1],\n",
       "          [1, 0, 0]],\n",
       " \n",
       "         [[1, 0, 1],\n",
       "          [0, 0, 0]]]))"
      ]
     },
     "execution_count": 84,
     "metadata": {},
     "output_type": "execute_result"
    }
   ],
   "source": [
    "RVQE(workspace_size=6, stages=3).forward(torch.stack([\n",
    "    tensor( [[1, 0, 1], [1, 1, 1], [1, 0, 0]] ),\n",
    "    tensor( [[1, 1, 1], [1, 0, 1], [0, 0, 0]] ),\n",
    "]))"
   ]
  },
  {
   "cell_type": "code",
   "execution_count": 85,
   "metadata": {},
   "outputs": [
    {
     "data": {
      "text/plain": [
       "RVQE(\n",
       "  (cell): RVQECell(\n",
       "    (gates): Sequential(\n",
       "      (0): Sequential(\n",
       "        (0): UnitaryLayer(\n",
       "          workspace_size=2\n",
       "          (gates): Sequential(\n",
       "            (0): rYLayer(lanes=[0], id=602)\n",
       "            (1): rYLayer(lanes=[1], id=603)\n",
       "          )\n",
       "        )\n",
       "        (1): QuantumNeuronLayer(\n",
       "          workspace_size=2, outlane=0, order=2\n",
       "          (gates): Sequential(\n",
       "            (0): crYLayer(lanes=[1, 2], id=604)\n",
       "            (1): rYLayer(lanes=[2], id=605)\n",
       "            (2): cmiYLayer(lanes=[2, 3], id=606)\n",
       "            (3): rYLayer(lanes=[2], id=605, †)\n",
       "            (4): crYLayer(lanes=[1, 2], id=604, †)\n",
       "            (5): PostselectLayer(lanes=[2], id=607, on=0)\n",
       "            (6): cmiYLayer(lanes=[3, 0], id=608)\n",
       "            (7): crYLayer(lanes=[1, 2], id=604)\n",
       "            (8): rYLayer(lanes=[2], id=605)\n",
       "            (9): cmiYLayer(lanes=[2, 3], id=609, †)\n",
       "            (10): rYLayer(lanes=[2], id=605, †)\n",
       "            (11): crYLayer(lanes=[1, 2], id=604, †)\n",
       "            (12): PostselectLayer(lanes=[2], id=610, on=0)\n",
       "            (13): PostselectLayer(lanes=[3], id=611, on=0)\n",
       "          )\n",
       "        )\n",
       "        (2): QuantumNeuronLayer(\n",
       "          workspace_size=2, outlane=1, order=2\n",
       "          (gates): Sequential(\n",
       "            (0): crYLayer(lanes=[0, 2], id=612)\n",
       "            (1): rYLayer(lanes=[2], id=613)\n",
       "            (2): cmiYLayer(lanes=[2, 3], id=614)\n",
       "            (3): rYLayer(lanes=[2], id=613, †)\n",
       "            (4): crYLayer(lanes=[0, 2], id=612, †)\n",
       "            (5): PostselectLayer(lanes=[2], id=615, on=0)\n",
       "            (6): cmiYLayer(lanes=[3, 1], id=616)\n",
       "            (7): crYLayer(lanes=[0, 2], id=612)\n",
       "            (8): rYLayer(lanes=[2], id=613)\n",
       "            (9): cmiYLayer(lanes=[2, 3], id=617, †)\n",
       "            (10): rYLayer(lanes=[2], id=613, †)\n",
       "            (11): crYLayer(lanes=[0, 2], id=612, †)\n",
       "            (12): PostselectLayer(lanes=[2], id=618, on=0)\n",
       "            (13): PostselectLayer(lanes=[3], id=619, on=0)\n",
       "          )\n",
       "        )\n",
       "      )\n",
       "    )\n",
       "  )\n",
       ")"
      ]
     },
     "execution_count": 85,
     "metadata": {},
     "output_type": "execute_result"
    }
   ],
   "source": [
    "RVQE(workspace_size=2, stages=1, order=2)"
   ]
  },
  {
   "cell_type": "code",
   "execution_count": 86,
   "metadata": {},
   "outputs": [
    {
     "data": {
      "text/plain": [
       "(tensor([[0.3965, 0.6035],\n",
       "         [0.1162, 0.8838],\n",
       "         [0.1075, 0.8925],\n",
       "         [0.3949, 0.6051]], grad_fn=<StackBackward>),\n",
       " tensor([[1],\n",
       "         [1],\n",
       "         [0],\n",
       "         [1]]))"
      ]
     },
     "execution_count": 86,
     "metadata": {},
     "output_type": "execute_result"
    }
   ],
   "source": [
    "# consistency with qiskit\n",
    "rvqe = RVQE(workspace_size=2, stages=1, order=3)\n",
    "for p, v in zip(rvqe.parameters(), [2, 1, 2, 2, 2, 2]):\n",
    "    with torch.no_grad():\n",
    "        p.fill_(v)\n",
    "rvqe(tensor([[0], [1], [1], [0], [1]]))"
   ]
  },
  {
   "cell_type": "markdown",
   "metadata": {},
   "source": [
    "## Training"
   ]
  },
  {
   "cell_type": "markdown",
   "metadata": {},
   "source": [
    "### Dataset"
   ]
  },
  {
   "cell_type": "code",
   "execution_count": 87,
   "metadata": {},
   "outputs": [],
   "source": [
    "def constant_sentence(length: int, constant: List[int]) -> List[int]:\n",
    "    return [ constant for _ in range(length) ]\n",
    "def alternating_sentence(length: int, constants: List[List[int]]) -> List[int]:\n",
    "    return [ constants[i % len(constants)] for i in range(length) ]"
   ]
  },
  {
   "cell_type": "code",
   "execution_count": 88,
   "metadata": {},
   "outputs": [
    {
     "data": {
      "text/plain": [
       "['a', 'b', 'a', 'b', 'a']"
      ]
     },
     "execution_count": 88,
     "metadata": {},
     "output_type": "execute_result"
    }
   ],
   "source": [
    "alternating_sentence(5, [\"a\", \"b\"])"
   ]
  },
  {
   "cell_type": "code",
   "execution_count": null,
   "metadata": {},
   "outputs": [],
   "source": []
  },
  {
   "cell_type": "code",
   "execution_count": null,
   "metadata": {},
   "outputs": [],
   "source": []
  },
  {
   "cell_type": "markdown",
   "metadata": {},
   "source": [
    "### Optimization"
   ]
  },
  {
   "cell_type": "code",
   "execution_count": 89,
   "metadata": {},
   "outputs": [],
   "source": [
    "import os\n",
    "from torch.nn.parallel import DistributedDataParallel"
   ]
  },
  {
   "cell_type": "code",
   "execution_count": 90,
   "metadata": {},
   "outputs": [],
   "source": [
    "class DistributedTrainingEnvironment:\n",
    "    def __init__(self, shard: int, world_size: int):\n",
    "        self.shard = shard\n",
    "        self.world_size = world_size\n",
    "        \n",
    "        print(f\"Hello from shard {shard} in a world of size {world_size}! Happy training!\")\n",
    "        \n",
    "    def __enter__(self):\n",
    "        os.environ['MASTER_ADDR'] = 'localhost'\n",
    "        os.environ['MASTER_PORT'] = '12355'\n",
    "\n",
    "        # initialize the process group\n",
    "        torch.distributed.init_process_group(\"gloo\", rank=rank, world_size=world_size)\n",
    "\n",
    "        # Explicitly setting seed to make sure that models created in two processes\n",
    "        # start from same random weights and biases.\n",
    "        torch.manual_seed(6642)\n",
    "    \n",
    "    def __exit__(self, type, value, traceback):\n",
    "        torch.distributed.destroy_process_group()"
   ]
  },
  {
   "cell_type": "code",
   "execution_count": 91,
   "metadata": {},
   "outputs": [],
   "source": [
    "from timeit import default_timer as timer"
   ]
  },
  {
   "cell_type": "code",
   "execution_count": null,
   "metadata": {},
   "outputs": [],
   "source": []
  },
  {
   "cell_type": "code",
   "execution_count": 92,
   "metadata": {},
   "outputs": [],
   "source": [
    "def train(shard: int, world_size: int):\n",
    "    print(\"foo\")\n",
    "    \n",
    "    return\n",
    "    with DistributedTrainingEnvironment(shard, world_size) as environment:\n",
    "        EPOCHS = 10000\n",
    "        SENTENCE_LENGTH = 20\n",
    "        INPUT_WIDTH = 3\n",
    "        DATASET = tensor([\n",
    "            alternating_sentence(SENTENCE_LENGTH,[ [0, 0, 0], [0, 0, 1], [0, 1, 0], [0, 1, 1] ]),\n",
    "            constant_sentence(SENTENCE_LENGTH, [1, 0, 0])\n",
    "        ])\n",
    "        TARGETS = tensor([\n",
    "            [ bitword_to_int(word) for word in sentence[1:]# since we want to predict the next character at all times\n",
    "            ] for sentence in batch \n",
    "        ])\n",
    "        \n",
    "        # batch dataset and target - for now just one batch of length 2\n",
    "        DATASET = DATASET.unsqueeze()\n",
    "        TARGETS = TARGETS.unsqueeze()\n",
    "\n",
    "        # create model and distribute\n",
    "        rvqe = RVQE(workspace_size=7, stages=4, order=3)\n",
    "        rvqe_ddp = DistributedDataParallel(rvqe)\n",
    "\n",
    "        for p in rvqe_ddp.parameters():\n",
    "            nn.init.uniform_(p, a=0., b=2*pi)\n",
    "\n",
    "        print(f\"model has {len(list(rvqe_ddp.parameters()))} parameters.\")\n",
    "\n",
    "        postselected_training_phase = True\n",
    "        optimizer = torch.optim.Adam(rvqe_ddp.parameters(), lr=0.003)\n",
    "        criterion = nn.CrossEntropyLoss()\n",
    "\n",
    "        time_start = timer()\n",
    "        for epoch in range(EPOCHS):\n",
    "            epoch += 1\n",
    "            time_start = timer()\n",
    "\n",
    "            optimizer.zero_grad()\n",
    "\n",
    "            def run(sentence, target):\n",
    "                probs, _ = self.rvqe(sentence, postselect_measurement=True)\n",
    "                loss = self.criterion(probs, target)\n",
    "                return loss\n",
    "\n",
    "            loss = torch.stack([ run(sentence, target) for sentence, target in zip(DATASET, TARGETS) ]).mean()\n",
    "            loss.backward()\n",
    "            optimizer.step()\n",
    "\n",
    "            # print loss each few epochs\n",
    "            if epoch % 1 == 0:\n",
    "                print(f\"{'PS' if postselected_training_phase else 'MS'} {epoch:04d}/{EPOCHS:04d} {timer() - time_start:5.1f}s  loss={loss:7.3e}\")\n",
    "\n",
    "            # print samples every few epochs\n",
    "            if epoch % 10 == 0:\n",
    "                with torch.no_grad():\n",
    "                    for sentence in dataset:\n",
    "                        _, measured_seq = rvqe(sentence, postselect_measurement=False)\n",
    "                        print(\n",
    "                            \"\\x1b[33mgold =\",\n",
    "                            \" \".join([ str(bitword_to_int(word)) for word in sentence ]),\n",
    "                            \"\\x1b[0m\"\n",
    "                        )\n",
    "                        print(\n",
    "                            \"pred =\",\n",
    "                            \" \"*INPUT_WIDTH,  # we don't predict the first word\n",
    "                            \" \".join([ str(bitword_to_int(word)) for word in measured_seq ])\n",
    "                        )"
   ]
  },
  {
   "cell_type": "code",
   "execution_count": 94,
   "metadata": {},
   "outputs": [],
   "source": [
    "if __name__ == '__main__':\n",
    "    WORLD_SIZE = 2\n",
    "    pc = torch.multiprocessing.spawn(\n",
    "        train,\n",
    "        args=(WORLD_SIZE,),\n",
    "        nprocs=WORLD_SIZE,\n",
    "        join=True\n",
    "    )"
   ]
  },
  {
   "cell_type": "code",
   "execution_count": null,
   "metadata": {},
   "outputs": [],
   "source": []
  }
 ],
 "metadata": {
  "kernelspec": {
   "display_name": "Python [conda env:rvqe] *",
   "language": "python",
   "name": "conda-env-rvqe-py"
  },
  "language_info": {
   "codemirror_mode": {
    "name": "ipython",
    "version": 3
   },
   "file_extension": ".py",
   "mimetype": "text/x-python",
   "name": "python",
   "nbconvert_exporter": "python",
   "pygments_lexer": "ipython3",
   "version": "3.7.7"
  }
 },
 "nbformat": 4,
 "nbformat_minor": 4
}
