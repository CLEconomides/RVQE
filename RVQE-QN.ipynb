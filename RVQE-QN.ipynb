{
 "cells": [
  {
   "cell_type": "code",
   "execution_count": 1,
   "metadata": {},
   "outputs": [],
   "source": [
    "from __future__ import annotations\n",
    "from typing import List, Dict, Union, Optional, Tuple"
   ]
  },
  {
   "cell_type": "code",
   "execution_count": 2,
   "metadata": {},
   "outputs": [],
   "source": [
    "import itertools"
   ]
  },
  {
   "cell_type": "code",
   "execution_count": 3,
   "metadata": {},
   "outputs": [],
   "source": [
    "import qiskit as qk\n",
    "import qiskit.quantum_info as qi\n",
    "import qiskit.circuit as qc\n",
    "from qiskit.providers import aer"
   ]
  },
  {
   "cell_type": "code",
   "execution_count": 4,
   "metadata": {},
   "outputs": [],
   "source": [
    "from math import pi, log2, log10, cos, sin\n",
    "from random import random"
   ]
  },
  {
   "cell_type": "code",
   "execution_count": 5,
   "metadata": {},
   "outputs": [],
   "source": [
    "import numpy as np"
   ]
  },
  {
   "cell_type": "code",
   "execution_count": 6,
   "metadata": {},
   "outputs": [
    {
     "name": "stderr",
     "output_type": "stream",
     "text": [
      "2020-04-29 18:00:30,519\tINFO resource_spec.py:212 -- Starting Ray with 284.18 GiB memory available for workers and up to 125.79 GiB for objects. You can adjust these settings with ray.init(memory=<bytes>, object_store_memory=<bytes>).\n",
      "2020-04-29 18:00:31,522\tINFO services.py:1170 -- View the Ray dashboard at \u001b[1m\u001b[32mlocalhost:8265\u001b[39m\u001b[22m\n"
     ]
    }
   ],
   "source": [
    "from ray.util.multiprocessing import Pool\n",
    "import ray\n",
    "try:\n",
    "    if False:\n",
    "        class FakePool:\n",
    "            def map(self, *args, **kwargs):\n",
    "                return list(map(*args, **kwargs))\n",
    "\n",
    "        pool = FakePool()\n",
    "    else:\n",
    "        pool\n",
    "except NameError:\n",
    "    ray.shutdown()\n",
    "    ray.init(num_cpus=48)\n",
    "    pool = Pool()"
   ]
  },
  {
   "cell_type": "code",
   "execution_count": 7,
   "metadata": {},
   "outputs": [],
   "source": [
    "try:\n",
    "    _global_rng_fix\n",
    "except NameError:\n",
    "    def _global_rng_fix():\n",
    "        return _global_rng_fix._random_state\n",
    "    _global_rng_fix._random_state = np.random.RandomState()\n",
    "    np.random.RandomState = _global_rng_fix"
   ]
  },
  {
   "cell_type": "markdown",
   "metadata": {},
   "source": [
    "# Utilities"
   ]
  },
  {
   "cell_type": "markdown",
   "metadata": {},
   "source": [
    "## Math"
   ]
  },
  {
   "cell_type": "code",
   "execution_count": 8,
   "metadata": {},
   "outputs": [],
   "source": [
    "def ilog2(x) -> int:\n",
    "    return int(log2(x))\n",
    "def arr_qubits(x: np.array):\n",
    "    return ilog2(len(x))"
   ]
  },
  {
   "cell_type": "code",
   "execution_count": 9,
   "metadata": {},
   "outputs": [],
   "source": [
    "def rand2pi() -> float:\n",
    "    return random() * 2 * pi"
   ]
  },
  {
   "cell_type": "code",
   "execution_count": 10,
   "metadata": {},
   "outputs": [
    {
     "data": {
      "text/plain": [
       "2.416537758795065"
      ]
     },
     "execution_count": 10,
     "metadata": {},
     "output_type": "execute_result"
    }
   ],
   "source": [
    "rand2pi()"
   ]
  },
  {
   "cell_type": "code",
   "execution_count": null,
   "metadata": {},
   "outputs": [],
   "source": []
  },
  {
   "cell_type": "code",
   "execution_count": null,
   "metadata": {},
   "outputs": [],
   "source": []
  },
  {
   "cell_type": "markdown",
   "metadata": {},
   "source": [
    "## Iterators"
   ]
  },
  {
   "cell_type": "code",
   "execution_count": 11,
   "metadata": {},
   "outputs": [],
   "source": [
    "def pairwise(iterable):\n",
    "    \"\"\"\n",
    "        s -> (s0,s1), (s1,s2), (s2, s3), ...\n",
    "    \"\"\"\n",
    "    a, b = itertools.tee(iterable)\n",
    "    next(b, None)\n",
    "    return zip(a, b)"
   ]
  },
  {
   "cell_type": "code",
   "execution_count": null,
   "metadata": {},
   "outputs": [],
   "source": []
  },
  {
   "cell_type": "code",
   "execution_count": null,
   "metadata": {},
   "outputs": [],
   "source": []
  },
  {
   "cell_type": "markdown",
   "metadata": {},
   "source": [
    "## Parameters"
   ]
  },
  {
   "cell_type": "code",
   "execution_count": 12,
   "metadata": {},
   "outputs": [],
   "source": [
    "def unique_param(prefix: str = \"#\") -> qc.Parameter:\n",
    "    unique_param.counter += 1\n",
    "    return qc.Parameter(f\"{prefix}{unique_param.counter}\")\n",
    "unique_param.counter = 0"
   ]
  },
  {
   "cell_type": "code",
   "execution_count": 13,
   "metadata": {},
   "outputs": [
    {
     "data": {
      "text/plain": [
       "Parameter(#1)"
      ]
     },
     "execution_count": 13,
     "metadata": {},
     "output_type": "execute_result"
    }
   ],
   "source": [
    "unique_param()"
   ]
  },
  {
   "cell_type": "code",
   "execution_count": 14,
   "metadata": {},
   "outputs": [],
   "source": [
    "def rand_for_param(param: qc.Parameter) -> float:\n",
    "    return rand2pi()"
   ]
  },
  {
   "cell_type": "code",
   "execution_count": null,
   "metadata": {},
   "outputs": [],
   "source": []
  },
  {
   "cell_type": "code",
   "execution_count": null,
   "metadata": {},
   "outputs": [],
   "source": []
  },
  {
   "cell_type": "markdown",
   "metadata": {},
   "source": [
    "## Postselection"
   ]
  },
  {
   "cell_type": "code",
   "execution_count": 15,
   "metadata": {},
   "outputs": [
    {
     "name": "stdout",
     "output_type": "stream",
     "text": [
      "00 [1. 0. 0. 0.]\n",
      "X1|00> [0. 1. 0. 0.]\n",
      "01 [0. 1. 0. 0.]\n",
      "X1|01> [1. 0. 0. 0.]\n",
      "10 [0. 0. 1. 0.]\n",
      "X1|10> [0. 0. 0. 1.]\n",
      "11 [0. 0. 0. 1.]\n",
      "X1|11> [0. 0. 1. 0.]\n"
     ]
    }
   ],
   "source": [
    "# qiskit gates act on the rightmost qubits first!\n",
    "\n",
    "circ1 = qc.QuantumCircuit(1)\n",
    "circ1.x(0)\n",
    "for c in [\"00\", \"01\", \"10\", \"11\"]:\n",
    "    print(c, qi.Statevector.from_label(c).probabilities())\n",
    "    print(f\"X1|{c}>\", qi.Statevector.from_label(c).evolve(circ1).probabilities())"
   ]
  },
  {
   "cell_type": "code",
   "execution_count": 16,
   "metadata": {},
   "outputs": [],
   "source": [
    "def postselect(psi: qi.Statevector, qubit_idx: int, what: int = 0, flip_threshold: float = 1e-8) -> qi.Statevector:\n",
    "    \"\"\"\n",
    "        postselect on a measurement outcome;\n",
    "        if postselection_probability is below the threshold, we postselect on the complement\n",
    "    \"\"\"\n",
    "    qubit_idx %= psi.num_qubits\n",
    "    \n",
    "    p = psi.probabilities([qubit_idx])\n",
    "    \n",
    "    if p[what] < flip_threshold:\n",
    "        print(\"postselection too unlikely\")\n",
    "        what = 1-what\n",
    "    \n",
    "    proj = np.zeros(2, dtype=complex)\n",
    "    proj[what] = 1 / np.sqrt(p[what])\n",
    "    \n",
    "    return psi.evolve(qi.Operator(np.diag(proj), input_dims=2, output_dims=2), qargs=[qubit_idx])\n",
    "\n",
    "def postselect_multi(psi: qi.Statevector, qubit_indices: List[int], whats: List[int], flip_threshold: float = 1e-8) -> qi.Statevector:\n",
    "    \"\"\"\n",
    "        postselect on multiple outcomes\n",
    "    \"\"\"\n",
    "    assert len(qubit_indices) == len(whats), \"indices count and targets have to be same size\"\n",
    "    \n",
    "    for idx, what in zip(qubit_indices, whats):\n",
    "        psi = postselect(psi, idx, what, flip_threshold)\n",
    "        \n",
    "    return psi"
   ]
  },
  {
   "cell_type": "code",
   "execution_count": 17,
   "metadata": {},
   "outputs": [
    {
     "data": {
      "text/plain": [
       "Statevector([0.+0.j, 1.+0.j, 0.+0.j, 0.+0.j],\n",
       "            dims=(2, 2))"
      ]
     },
     "execution_count": 17,
     "metadata": {},
     "output_type": "execute_result"
    }
   ],
   "source": [
    "postselect(qi.Statevector.from_label(\"01\"), 0, 1)  # indeed, index 0 refers to the right qubit!"
   ]
  },
  {
   "cell_type": "code",
   "execution_count": null,
   "metadata": {},
   "outputs": [],
   "source": []
  },
  {
   "cell_type": "code",
   "execution_count": null,
   "metadata": {},
   "outputs": [],
   "source": []
  },
  {
   "cell_type": "code",
   "execution_count": null,
   "metadata": {},
   "outputs": [],
   "source": []
  },
  {
   "cell_type": "markdown",
   "metadata": {},
   "source": [
    "## New Circuits"
   ]
  },
  {
   "cell_type": "code",
   "execution_count": 18,
   "metadata": {},
   "outputs": [],
   "source": [
    "def new_circuit(width: int) -> qc.QuantumCircuit:\n",
    "    circ = qc.QuantumCircuit(width)\n",
    "    return circ\n",
    "def empty_circuit_like(circ: qc.QuantumCircuit) -> qc.QuantumCircuit:\n",
    "    return qc.QuantumCircuit(*circ.qregs, *circ.cregs)"
   ]
  },
  {
   "cell_type": "code",
   "execution_count": null,
   "metadata": {},
   "outputs": [],
   "source": []
  },
  {
   "cell_type": "markdown",
   "metadata": {},
   "source": [
    "# Variational Forms"
   ]
  },
  {
   "cell_type": "code",
   "execution_count": 19,
   "metadata": {},
   "outputs": [],
   "source": [
    "from abc import ABC, abstractmethod"
   ]
  },
  {
   "cell_type": "code",
   "execution_count": 20,
   "metadata": {},
   "outputs": [],
   "source": [
    "class CircuitLayer(ABC):\n",
    "    # it would be nicer to derive from this base class, but cloudpickle doesn't like that at all\n",
    "    \n",
    "    @abstractmethod\n",
    "    def specialize(self, params: np.array):\n",
    "        pass\n",
    "    \n",
    "    @abstractmethod\n",
    "    def run(self, psi: qi.Statevector) -> qi.Statevector:\n",
    "        pass\n",
    "    \n",
    "    # not a property to avoid problems with cloudpickle\n",
    "    @abstractmethod\n",
    "    def num_parameters(self) -> int:\n",
    "        pass\n",
    "    \n",
    "    @abstractmethod\n",
    "    def parameters(self) -> List[qc.Parameter]:\n",
    "        pass"
   ]
  },
  {
   "cell_type": "markdown",
   "metadata": {},
   "source": [
    "## Unitary Layer"
   ]
  },
  {
   "cell_type": "code",
   "execution_count": 21,
   "metadata": {},
   "outputs": [],
   "source": [
    "class UnitaryLayer():\n",
    "    def __init__(self, width: int):\n",
    "        self.circ = new_circuit(width)\n",
    "        for qubit in self.circ.qubits:\n",
    "            self.circ.ry(unique_param(), qubit)\n",
    "            \n",
    "        self.specialized = None\n",
    "            \n",
    "            \n",
    "    def specialize(self, params: np.array) -> UnitaryLayer:\n",
    "        self.specialized = self.circ.bind_parameters(dict(zip(self.parameters(), params)));\n",
    "        return self\n",
    "        \n",
    "        \n",
    "    def run(self, psi: qi.Statevector) -> qi.Statevector:\n",
    "        assert self.specialized is not None, \"layer has to be specialized first\"\n",
    "        return psi.evolve(self.specialized)\n",
    "    \n",
    "    \n",
    "    def num_parameters(self) -> int:\n",
    "        return self.circ.num_parameters\n",
    "    \n",
    "    \n",
    "    def parameters(self) -> List[qc.Parameter]:\n",
    "        # qiskit returns a set, which doesn't have a fixed order; our parameters have increasing cardinality, so can be compared\n",
    "        return sorted(self.circ.parameters, key = lambda p: p.name)"
   ]
  },
  {
   "cell_type": "code",
   "execution_count": 22,
   "metadata": {},
   "outputs": [
    {
     "data": {
      "text/html": [
       "<pre style=\"word-wrap: normal;white-space: pre;background: #fff0;line-height: 1.1;font-family: &quot;Courier New&quot;,Courier,monospace\">     ┌────────┐\n",
       "q_0: ┤ Ry(#2) ├\n",
       "     ├────────┤\n",
       "q_1: ┤ Ry(#3) ├\n",
       "     ├────────┤\n",
       "q_2: ┤ Ry(#4) ├\n",
       "     └────────┘</pre>"
      ],
      "text/plain": [
       "     ┌────────┐\n",
       "q_0: ┤ Ry(#2) ├\n",
       "     ├────────┤\n",
       "q_1: ┤ Ry(#3) ├\n",
       "     ├────────┤\n",
       "q_2: ┤ Ry(#4) ├\n",
       "     └────────┘"
      ]
     },
     "execution_count": 22,
     "metadata": {},
     "output_type": "execute_result"
    }
   ],
   "source": [
    "UnitaryLayer(3).circ.draw()"
   ]
  },
  {
   "cell_type": "code",
   "execution_count": 23,
   "metadata": {},
   "outputs": [
    {
     "data": {
      "text/plain": [
       "[Parameter(#10),\n",
       " Parameter(#11),\n",
       " Parameter(#5),\n",
       " Parameter(#6),\n",
       " Parameter(#7),\n",
       " Parameter(#8),\n",
       " Parameter(#9)]"
      ]
     },
     "execution_count": 23,
     "metadata": {},
     "output_type": "execute_result"
    }
   ],
   "source": [
    "UnitaryLayer(7).parameters()"
   ]
  },
  {
   "cell_type": "code",
   "execution_count": 24,
   "metadata": {},
   "outputs": [
    {
     "data": {
      "text/plain": [
       "Statevector([ 0.        +0.j,  0.        +0.j,  0.        +0.j,\n",
       "              0.        +0.j, -0.80879352+0.j, -0.55726284+0.j,\n",
       "              0.1547391 +0.j,  0.10661602+0.j],\n",
       "            dims=(2, 2, 2))"
      ]
     },
     "execution_count": 24,
     "metadata": {},
     "output_type": "execute_result"
    }
   ],
   "source": [
    "foo = UnitaryLayer(3).specialize(np.array([rand2pi() for _ in range(3)]))\n",
    "phi = qi.Statevector.from_instruction(foo.specialized)\n",
    "postselect(phi, -1, 1)"
   ]
  },
  {
   "cell_type": "code",
   "execution_count": 25,
   "metadata": {},
   "outputs": [
    {
     "data": {
      "text/plain": [
       "Statevector([-0.19957663+0.j, -0.13750931+0.j,  0.03818318+0.j,\n",
       "              0.0263084 +0.j, -0.78378322+0.j, -0.54003061+0.j,\n",
       "              0.1499541 +0.j,  0.10331914+0.j],\n",
       "            dims=(2, 2, 2))"
      ]
     },
     "execution_count": 25,
     "metadata": {},
     "output_type": "execute_result"
    }
   ],
   "source": [
    "phi"
   ]
  },
  {
   "cell_type": "code",
   "execution_count": 26,
   "metadata": {},
   "outputs": [
    {
     "data": {
      "text/plain": [
       "Statevector([ 0.        +0.j,  0.        +0.j,  0.        +0.j,\n",
       "              0.        +0.j, -0.80879352+0.j, -0.55726284+0.j,\n",
       "              0.1547391 +0.j,  0.10661602+0.j],\n",
       "            dims=(2, 2, 2))"
      ]
     },
     "execution_count": 26,
     "metadata": {},
     "output_type": "execute_result"
    }
   ],
   "source": [
    "postselect_multi(phi, [-1], [1])"
   ]
  },
  {
   "cell_type": "markdown",
   "metadata": {},
   "source": [
    "## Postselection Gadget Layer"
   ]
  },
  {
   "cell_type": "markdown",
   "metadata": {},
   "source": [
    "This is a simple RUS circuit from arxiv.org/abs/1711.11240.\n",
    "As this is a RUS circuit, the postselection can be done efficiently.\n",
    "\n",
    "We first verify we really have the right gates."
   ]
  },
  {
   "cell_type": "code",
   "execution_count": 27,
   "metadata": {},
   "outputs": [],
   "source": [
    "def test_RyGate(angle: float) -> np.array:\n",
    "    circ = qc.QuantumCircuit(1)\n",
    "    circ.ry(angle, 0)\n",
    "\n",
    "    states = [ qi.Statevector.from_label(c) for c in [\"0\", \"1\"] ]\n",
    "    return np.array([[ np.dot(a.data, b.evolve(circ).data) for a in states] for b in states ])"
   ]
  },
  {
   "cell_type": "code",
   "execution_count": 28,
   "metadata": {},
   "outputs": [
    {
     "data": {
      "text/plain": [
       "array([[ 0.98006658+0.j,  0.19866933+0.j],\n",
       "       [-0.19866933+0.j,  0.98006658+0.j]])"
      ]
     },
     "execution_count": 28,
     "metadata": {},
     "output_type": "execute_result"
    }
   ],
   "source": [
    "test_RyGate(.2 * 2) "
   ]
  },
  {
   "cell_type": "code",
   "execution_count": 29,
   "metadata": {},
   "outputs": [
    {
     "data": {
      "text/plain": [
       "array([ True,  True])"
      ]
     },
     "execution_count": 29,
     "metadata": {},
     "output_type": "execute_result"
    }
   ],
   "source": [
    "test_RyGate(.2 * 2)[0] == np.array([ cos(.2 ), sin(.2) ])"
   ]
  },
  {
   "cell_type": "code",
   "execution_count": 30,
   "metadata": {},
   "outputs": [],
   "source": [
    "def test_cRyGate(angle: float) -> np.array:\n",
    "    circ = qc.QuantumCircuit(2)\n",
    "    circ.cry(angle, 0, 1)\n",
    "\n",
    "    states = [ qi.Statevector.from_label(c) for c in [\"00\", \"10\", \"01\", \"11\"] ]   # note qiskits reverse qubit label order for translation to torch!!\n",
    "    return np.array([[ np.dot(a.data, b.evolve(circ).data) for a in states] for b in states ])"
   ]
  },
  {
   "cell_type": "code",
   "execution_count": 31,
   "metadata": {},
   "outputs": [
    {
     "name": "stderr",
     "output_type": "stream",
     "text": [
      "/home/jkrb2/opt/anaconda3/envs/rvqe/lib/python3.7/site-packages/qiskit/aqua/circuits/gates/controlled_ry_gate.py:51: DeprecationWarning: The QuantumCircuit.n_qubits method is deprecated as of 0.13.0, and will be removed no earlier than 3 months after that release date. You should use the QuantumCircuit.num_qubits method instead.\n",
      "  if qubit >= self.n_qubits:\n",
      "/home/jkrb2/opt/anaconda3/envs/rvqe/lib/python3.7/site-packages/qiskit/aqua/circuits/gates/controlled_ry_gate.py:51: DeprecationWarning: The QuantumCircuit.n_qubits method is deprecated as of 0.13.0, and will be removed no earlier than 3 months after that release date. You should use the QuantumCircuit.num_qubits method instead.\n",
      "  if qubit >= self.n_qubits:\n"
     ]
    },
    {
     "data": {
      "text/plain": [
       "array([[ 1.        ,  0.        ,  0.        ,  0.        ],\n",
       "       [ 0.        ,  1.        ,  0.        ,  0.        ],\n",
       "       [ 0.        ,  0.        ,  0.98006658,  0.19866933],\n",
       "       [ 0.        ,  0.        , -0.19866933,  0.98006658]])"
      ]
     },
     "execution_count": 31,
     "metadata": {},
     "output_type": "execute_result"
    }
   ],
   "source": [
    "np.real(test_cRyGate(.2 * 2))"
   ]
  },
  {
   "cell_type": "code",
   "execution_count": 32,
   "metadata": {},
   "outputs": [],
   "source": [
    "def test_CyRzGate() -> np.array:\n",
    "    circ = qc.QuantumCircuit(2)\n",
    "    circ.cy(0, 1)\n",
    "    circ.rz(-pi/2, 0)\n",
    "\n",
    "    states = [ qi.Statevector.from_label(c) for c in [\"00\", \"01\", \"10\", \"11\"] ]  # note qiskits reverse qubit label order for translation to torch!!\n",
    "    return np.array([[ np.dot(a.data, b.evolve(circ).data) for a in states] for b in states ])"
   ]
  },
  {
   "cell_type": "code",
   "execution_count": 33,
   "metadata": {},
   "outputs": [
    {
     "data": {
      "text/plain": [
       "array([[ 1.,  0.,  0.,  0.],\n",
       "       [ 0.,  0.,  0.,  1.],\n",
       "       [ 0.,  0.,  1.,  0.],\n",
       "       [ 0., -1.,  0.,  0.]])"
      ]
     },
     "execution_count": 33,
     "metadata": {},
     "output_type": "execute_result"
    }
   ],
   "source": [
    "u = test_CyRzGate()\n",
    "np.real(u)"
   ]
  },
  {
   "cell_type": "code",
   "execution_count": 34,
   "metadata": {},
   "outputs": [
    {
     "data": {
      "text/plain": [
       "True"
      ]
     },
     "execution_count": 34,
     "metadata": {},
     "output_type": "execute_result"
    }
   ],
   "source": [
    "np.allclose(np.imag(u), 0.)"
   ]
  },
  {
   "cell_type": "code",
   "execution_count": null,
   "metadata": {},
   "outputs": [],
   "source": []
  },
  {
   "cell_type": "markdown",
   "metadata": {},
   "source": [
    "This means there is a factor of two we have to take into account."
   ]
  },
  {
   "cell_type": "code",
   "execution_count": 35,
   "metadata": {},
   "outputs": [],
   "source": [
    "class QuantumNeuronLayer():\n",
    "    ANCILLA_NAME = \"q_{ps}\"\n",
    "    \n",
    "    def __init__(self, order: int, workspace: qc.QuantumRegister, outlane: int):\n",
    "        assert 1 <= order, \"order has to be positive\"\n",
    "        assert 0 <= outlane and outlane < workspace.size, \"outlane has to be an index on the workspace register\"\n",
    "        \n",
    "        self.order = order\n",
    "        self.workspace = workspace\n",
    "        self.outlane = outlane\n",
    "        self.ancillas = ancillas = qc.QuantumRegister(order, name=self.ANCILLA_NAME)\n",
    "        \n",
    "        # parametrized circuit\n",
    "        circ = qc.QuantumCircuit(workspace, ancillas)\n",
    "        circ_t = empty_circuit_like(circ)\n",
    "        self.params = params = [ unique_param() for _ in range(workspace.size) ]\n",
    "\n",
    "        for i, lane in enumerate(workspace[:]):  # linear w_i * x_i\n",
    "            if i == outlane: continue\n",
    "            idx = i if i < outlane else i-1\n",
    "            circ.cry(params[idx], lane, ancillas[0])\n",
    "        circ.ry(params[-1], ancillas[0])  # bias b\n",
    "            \n",
    "        self.circ_param = circ\n",
    "        self.circ_specialized = None\n",
    "        \n",
    "        # static controlled y circuits at different recursion level\n",
    "        static_lanes = [ *ancillas[:], workspace[outlane] ]\n",
    "        self.circ_static = [\n",
    "            ( circ, circ.inverse() ) for circ in [\n",
    "                self._cy_rz(empty_circuit_like(circ), static_lanes[i], static_lanes[i+1]) for i in range(0, order)\n",
    "            ]\n",
    "        ]\n",
    "        \n",
    "        \n",
    "    def num_parameters(self) -> int:\n",
    "        return len(self.params)\n",
    "    \n",
    "    \n",
    "    def parameters(self) -> List[qc.Parameter]:\n",
    "        return self.params\n",
    "        \n",
    "        \n",
    "    @staticmethod\n",
    "    def _cy_rz(circ: qc.QuantumCircuit, a: qc.Qubit, b: qc.Qubit) -> qc.QuantumCircuit:\n",
    "        circ.cy(a, b)\n",
    "        circ.rz(-pi/2, a)\n",
    "        return circ\n",
    "        \n",
    "        \n",
    "    def run_recursive(self, psi: qi.Statevector, recidx: int, dagger: bool) -> qi.Statevector:\n",
    "        if recidx == 0:\n",
    "            psi = psi.evolve(self.circ_specialized[False])\n",
    "            psi = psi.evolve(self.circ_static[0][dagger])\n",
    "            psi = psi.evolve(self.circ_specialized[True])\n",
    "        \n",
    "        else:\n",
    "            psi = self.run_recursive(psi, recidx-1, dagger=False)\n",
    "            psi = psi.evolve(self.circ_static[recidx][dagger])\n",
    "            psi = self.run_recursive(psi, recidx-1, dagger=True)\n",
    "            \n",
    "        # postselect measurement outcome 0 on corresponding ancilla\n",
    "        ancilla_to_postselect_on = len(self.workspace) + recidx\n",
    "        return postselect(psi, ancilla_to_postselect_on, 0)\n",
    "            \n",
    "        \n",
    "    def run(self, psi: qi.Statevector) -> qi.Statevector:\n",
    "        assert self.circ_specialized is not None, \"circuit has to be specialized first\"\n",
    "        return self.run_recursive(psi, self.order-1, dagger=False)\n",
    "        \n",
    "        \n",
    "    def compatible_state(self) -> qi.Statevector:\n",
    "        return qi.Statevector.from_label(\"0\" * self.circ_param.num_qubits)\n",
    "    \n",
    "    \n",
    "    def specialize(self, params: np.array) -> QuantumNeuron:\n",
    "        lut = dict(zip(self.params, params))\n",
    "        ca = self.circ_param.bind_parameters(lut)\n",
    "        self.circ_specialized = ( ca, ca.inverse() )\n",
    "        return self\n",
    "        "
   ]
  },
  {
   "cell_type": "code",
   "execution_count": 36,
   "metadata": {},
   "outputs": [
    {
     "data": {
      "text/plain": [
       "(2, 2, 2, 2)"
      ]
     },
     "execution_count": 36,
     "metadata": {},
     "output_type": "execute_result"
    }
   ],
   "source": [
    "qi.Statevector.from_label(\"++00\").dims()"
   ]
  },
  {
   "cell_type": "code",
   "execution_count": 37,
   "metadata": {},
   "outputs": [],
   "source": [
    "# debug for torch\n",
    "def print_torch(psi: qi.Statevector):\n",
    "    n = len(psi.dims())\n",
    "    swapc = new_circuit(n)\n",
    "    for i in range(n//2):\n",
    "        swapc.swap(i, n-i-1)\n",
    "        \n",
    "    print(psi.evolve(swapc).probabilities())\n"
   ]
  },
  {
   "cell_type": "code",
   "execution_count": 38,
   "metadata": {},
   "outputs": [
    {
     "name": "stdout",
     "output_type": "stream",
     "text": [
      "[4.58307934e-04 0.00000000e+00 0.00000000e+00 0.00000000e+00\n",
      " 0.00000000e+00 0.00000000e+00 0.00000000e+00 0.00000000e+00\n",
      " 9.99541692e-01 0.00000000e+00 0.00000000e+00 0.00000000e+00\n",
      " 0.00000000e+00 0.00000000e+00 0.00000000e+00 0.00000000e+00]\n"
     ]
    }
   ],
   "source": [
    "psi = QuantumNeuronLayer(2, qc.QuantumRegister(2), outlane=0).specialize([pi/4, pi/8]).run(qi.Statevector.from_label(\"-+01\"))\n",
    "print_torch(psi)"
   ]
  },
  {
   "cell_type": "code",
   "execution_count": 39,
   "metadata": {},
   "outputs": [
    {
     "name": "stdout",
     "output_type": "stream",
     "text": [
      "[0.25 0.   0.25 0.   0.25 0.   0.25 0.  ]\n",
      "[0.25       0.         0.21338835 0.03661165 0.25       0.\n",
      " 0.21338835 0.03661165]\n",
      "[0.24048494 0.00951506 0.17283543 0.07716457 0.24048494 0.00951506\n",
      " 0.17283543 0.07716457]\n",
      "[0.24048494 0.00951506 0.17283543 0.07716457 0.24048494 0.00951506\n",
      " 0.17283543 0.07716457]\n",
      "[2.13388348e-01 3.66116524e-02 1.25000000e-01 1.25000000e-01\n",
      " 2.50000000e-01 3.43179274e-35 2.13388348e-01 3.66116524e-02]\n",
      "[2.13388348e-01 3.66116524e-02 3.66116524e-02 2.13388348e-01\n",
      " 2.50000000e-01 3.43179274e-35 2.50000000e-01 3.92612533e-34]\n",
      "[0.2845178  0.         0.04881554 0.         0.33333333 0.\n",
      " 0.33333333 0.        ]\n"
     ]
    },
    {
     "name": "stderr",
     "output_type": "stream",
     "text": [
      "/home/jkrb2/opt/anaconda3/envs/rvqe/lib/python3.7/site-packages/qiskit/aqua/circuits/gates/controlled_ry_gate.py:51: DeprecationWarning: The QuantumCircuit.n_qubits method is deprecated as of 0.13.0, and will be removed no earlier than 3 months after that release date. You should use the QuantumCircuit.num_qubits method instead.\n",
      "  if qubit >= self.n_qubits:\n",
      "/home/jkrb2/opt/anaconda3/envs/rvqe/lib/python3.7/site-packages/qiskit/aqua/circuits/gates/controlled_ry_gate.py:51: DeprecationWarning: The QuantumCircuit.n_qubits method is deprecated as of 0.13.0, and will be removed no earlier than 3 months after that release date. You should use the QuantumCircuit.num_qubits method instead.\n",
      "  if qubit >= self.n_qubits:\n",
      "/home/jkrb2/opt/anaconda3/envs/rvqe/lib/python3.7/site-packages/qiskit/aqua/circuits/gates/controlled_ry_gate.py:51: DeprecationWarning: The QuantumCircuit.n_qubits method is deprecated as of 0.13.0, and will be removed no earlier than 3 months after that release date. You should use the QuantumCircuit.num_qubits method instead.\n",
      "  if qubit >= self.n_qubits:\n",
      "/home/jkrb2/opt/anaconda3/envs/rvqe/lib/python3.7/site-packages/qiskit/aqua/circuits/gates/controlled_ry_gate.py:51: DeprecationWarning: The QuantumCircuit.n_qubits method is deprecated as of 0.13.0, and will be removed no earlier than 3 months after that release date. You should use the QuantumCircuit.num_qubits method instead.\n",
      "  if qubit >= self.n_qubits:\n"
     ]
    }
   ],
   "source": [
    "# consistency with qiskit\n",
    "\n",
    "psi = qi.Statevector.from_label(\"0++\")\n",
    "print_torch(psi)\n",
    "\n",
    "circ1 = new_circuit(4)\n",
    "circ1.cry(pi/4, 1, 2)\n",
    "circ2 = new_circuit(4)\n",
    "circ2.ry(pi/8, 2)\n",
    "circ3 = new_circuit(4)\n",
    "circ3.cy(2, 0)\n",
    "circ3.rz(-pi/2, 2)\n",
    "circ4 = new_circuit(4)\n",
    "circ4.ry(-pi/8, 2)\n",
    "circ5 = new_circuit(4)\n",
    "circ5.cry(-pi/4, 1, 2)\n",
    "\n",
    "for circ in [circ1, circ2, circ3, circ4, circ5]:\n",
    "    #print(circ)\n",
    "    psi = psi.evolve(circ)\n",
    "    print_torch(psi)\n",
    "\n",
    "psi = postselect(psi, 2, 0)\n",
    "print_torch(psi)"
   ]
  },
  {
   "cell_type": "code",
   "execution_count": null,
   "metadata": {},
   "outputs": [],
   "source": []
  },
  {
   "cell_type": "code",
   "execution_count": null,
   "metadata": {},
   "outputs": [],
   "source": []
  },
  {
   "cell_type": "code",
   "execution_count": 40,
   "metadata": {},
   "outputs": [
    {
     "name": "stdout",
     "output_type": "stream",
     "text": [
      "[0.25600534 0.62094578 0.03592124 0.08712764 0.         0.\n",
      " 0.         0.         0.         0.         0.         0.\n",
      " 0.         0.         0.         0.        ]\n"
     ]
    },
    {
     "data": {
      "text/plain": [
       "array([0.49999714, 0.27463746, 0.15910156, 0.06626383, 0.        ,\n",
       "       0.        , 0.        , 0.        , 0.        , 0.        ,\n",
       "       0.        , 0.        , 0.        , 0.        , 0.        ,\n",
       "       0.        ])"
      ]
     },
     "execution_count": 40,
     "metadata": {},
     "output_type": "execute_result"
    }
   ],
   "source": [
    "nl = QuantumNeuronLayer(2, qc.QuantumRegister(2), 0).specialize([.51, 2.2])\n",
    "psi = qi.Statevector.from_label(\"0000\")\n",
    "psi = UnitaryLayer(2).specialize([2., 7.]).run(psi)\n",
    "print(psi.probabilities())\n",
    "nl.run(psi).probabilities()"
   ]
  },
  {
   "cell_type": "code",
   "execution_count": null,
   "metadata": {},
   "outputs": [],
   "source": []
  },
  {
   "cell_type": "code",
   "execution_count": 41,
   "metadata": {},
   "outputs": [
    {
     "data": {
      "image/png": "[encoded data removed]",
      "text/plain": [
       "<Figure size 1737.37x686.28 with 1 Axes>"
      ]
     },
     "execution_count": 41,
     "metadata": {},
     "output_type": "execute_result"
    }
   ],
   "source": [
    "neuron = QuantumNeuronLayer(2, qc.QuantumRegister(3), 0)\n",
    "c = neuron.circ_param\n",
    "foo = empty_circuit_like(c)\n",
    "foo += c\n",
    "foo.barrier()\n",
    "foo += c.inverse()\n",
    "foo.barrier()\n",
    "for c, ct in neuron.circ_static:\n",
    "    foo += c\n",
    "    foo.barrier()\n",
    "    foo += ct\n",
    "    foo.barrier()\n",
    "foo.draw(output=\"mpl\")"
   ]
  },
  {
   "cell_type": "markdown",
   "metadata": {},
   "source": [
    "## Output Layer"
   ]
  },
  {
   "cell_type": "markdown",
   "metadata": {},
   "source": [
    "In the actual algorithm, we would run a number of rnn's in parallel, sampling from the distributions to estimate them. Note that we still evolve forward by"
   ]
  },
  {
   "cell_type": "code",
   "execution_count": 42,
   "metadata": {},
   "outputs": [],
   "source": [
    "OUT_CREG_NAME = \"c_{out}\"\n",
    "def output_layer(width: int, outcount: int) -> qc.QuantumCircuit:\n",
    "    \"\"\"\n",
    "        Measure the first outcount lanes\n",
    "    \"\"\"\n",
    "    circ = qc.QuantumCircuit(width)\n",
    "    circ.add_register(qc.ClassicalRegister(outcount, OUT_CREG_NAME))\n",
    "    circ.measure(circ.qubits[:outcount], circ.clbits[:outcount])\n",
    "    \n",
    "    return circ"
   ]
  },
  {
   "cell_type": "code",
   "execution_count": 43,
   "metadata": {},
   "outputs": [
    {
     "data": {
      "text/html": [
       "<pre style=\"word-wrap: normal;white-space: pre;background: #fff0;line-height: 1.1;font-family: &quot;Courier New&quot;,Courier,monospace\">           ┌─┐      \n",
       "      q_0: ┤M├──────\n",
       "           └╥┘┌─┐   \n",
       "      q_1: ─╫─┤M├───\n",
       "            ║ └╥┘┌─┐\n",
       "      q_2: ─╫──╫─┤M├\n",
       "            ║  ║ └╥┘\n",
       "      q_3: ─╫──╫──╫─\n",
       "            ║  ║  ║ \n",
       "      q_4: ─╫──╫──╫─\n",
       "            ║  ║  ║ \n",
       "c_{out}_0: ═╩══╬══╬═\n",
       "               ║  ║ \n",
       "c_{out}_1: ════╩══╬═\n",
       "                  ║ \n",
       "c_{out}_2: ═══════╩═\n",
       "                    </pre>"
      ],
      "text/plain": [
       "           ┌─┐      \n",
       "      q_0: ┤M├──────\n",
       "           └╥┘┌─┐   \n",
       "      q_1: ─╫─┤M├───\n",
       "            ║ └╥┘┌─┐\n",
       "      q_2: ─╫──╫─┤M├\n",
       "            ║  ║ └╥┘\n",
       "      q_3: ─╫──╫──╫─\n",
       "            ║  ║  ║ \n",
       "      q_4: ─╫──╫──╫─\n",
       "            ║  ║  ║ \n",
       "c_{out}_0: ═╩══╬══╬═\n",
       "               ║  ║ \n",
       "c_{out}_1: ════╩══╬═\n",
       "                  ║ \n",
       "c_{out}_2: ═══════╩═\n",
       "                    "
      ]
     },
     "execution_count": 43,
     "metadata": {},
     "output_type": "execute_result"
    }
   ],
   "source": [
    "output_layer(5, 3).draw()"
   ]
  },
  {
   "cell_type": "code",
   "execution_count": null,
   "metadata": {},
   "outputs": [],
   "source": []
  },
  {
   "cell_type": "code",
   "execution_count": 44,
   "metadata": {},
   "outputs": [],
   "source": [
    "def out_to_list(out: str) -> List[int]:\n",
    "    return [ int(c) for c in out ]"
   ]
  },
  {
   "cell_type": "code",
   "execution_count": 45,
   "metadata": {},
   "outputs": [],
   "source": [
    "def measure_and_tomography(psi: qi.Statevector, out: Union[int, List[int]]) -> Tuple[str, qi.Statevector, np.ndarray]:\n",
    "    if isinstance(out, int):\n",
    "        return (*psi.measure(range(out)), psi.probabilities(range(out)))\n",
    "    elif isinstance(out, (list, np.ndarray)):\n",
    "        return (\n",
    "            \"\".join(str(v) for v in out),\n",
    "            postselect_multi(psi, range(len(out)), out),\n",
    "            psi.probabilities(range(len(out)))\n",
    "        )\n",
    "    else:\n",
    "        raise f\"wrong out type {type(out)}\""
   ]
  },
  {
   "cell_type": "code",
   "execution_count": 46,
   "metadata": {},
   "outputs": [
    {
     "data": {
      "text/plain": [
       "Statevector([-0.10348201+0.j, -0.92486559+0.j,  0.02843337+0.j,\n",
       "              0.25412187+0.j, -0.02806833+0.j, -0.25085934+0.j,\n",
       "              0.00771223+0.j,  0.06892768+0.j],\n",
       "            dims=(2, 2, 2))"
      ]
     },
     "execution_count": 46,
     "metadata": {},
     "output_type": "execute_result"
    }
   ],
   "source": [
    "foo = UnitaryLayer(3).specialize([ rand2pi() for _ in range(3) ])\n",
    "phi = qi.Statevector.from_instruction(foo.specialized)\n",
    "phi"
   ]
  },
  {
   "cell_type": "code",
   "execution_count": 47,
   "metadata": {},
   "outputs": [
    {
     "data": {
      "text/plain": [
       "('111',\n",
       " Statevector([0.+0.j, 0.+0.j, 0.+0.j, 0.+0.j, 0.+0.j, 0.+0.j, 0.+0.j,\n",
       "              1.+0.j],\n",
       "             dims=(2, 2, 2)),\n",
       " array([1.07085262e-02, 8.55376353e-01, 8.08456270e-04, 6.45779227e-02,\n",
       "        7.87830889e-04, 6.29304072e-02, 5.94784765e-05, 4.75102563e-03]))"
      ]
     },
     "execution_count": 47,
     "metadata": {},
     "output_type": "execute_result"
    }
   ],
   "source": [
    "measure_and_tomography(phi, [1, 1, 1])"
   ]
  },
  {
   "cell_type": "code",
   "execution_count": 48,
   "metadata": {},
   "outputs": [
    {
     "data": {
      "text/plain": [
       "Statevector([-0.10348201+0.j, -0.92486559+0.j,  0.02843337+0.j,\n",
       "              0.25412187+0.j, -0.02806833+0.j, -0.25085934+0.j,\n",
       "              0.00771223+0.j,  0.06892768+0.j],\n",
       "            dims=(2, 2, 2))"
      ]
     },
     "execution_count": 48,
     "metadata": {},
     "output_type": "execute_result"
    }
   ],
   "source": [
    "phi"
   ]
  },
  {
   "cell_type": "code",
   "execution_count": 49,
   "metadata": {},
   "outputs": [
    {
     "data": {
      "text/plain": [
       "('001',\n",
       " Statevector([ 0.+0.j, -1.+0.j,  0.+0.j,  0.+0.j,  0.+0.j,  0.+0.j,  0.+0.j,\n",
       "               0.+0.j],\n",
       "             dims=(2, 2, 2)),\n",
       " array([1.07085262e-02, 8.55376353e-01, 8.08456270e-04, 6.45779227e-02,\n",
       "        7.87830889e-04, 6.29304072e-02, 5.94784765e-05, 4.75102563e-03]))"
      ]
     },
     "execution_count": 49,
     "metadata": {},
     "output_type": "execute_result"
    }
   ],
   "source": [
    "measure_and_tomography(phi, 3)"
   ]
  },
  {
   "cell_type": "code",
   "execution_count": 50,
   "metadata": {},
   "outputs": [
    {
     "data": {
      "text/plain": [
       "Statevector([-0.10348201+0.j, -0.92486559+0.j,  0.02843337+0.j,\n",
       "              0.25412187+0.j, -0.02806833+0.j, -0.25085934+0.j,\n",
       "              0.00771223+0.j,  0.06892768+0.j],\n",
       "            dims=(2, 2, 2))"
      ]
     },
     "execution_count": 50,
     "metadata": {},
     "output_type": "execute_result"
    }
   ],
   "source": [
    "phi"
   ]
  },
  {
   "cell_type": "markdown",
   "metadata": {},
   "source": [
    "## Input Layer"
   ]
  },
  {
   "cell_type": "markdown",
   "metadata": {},
   "source": [
    "We assume the inputs have been measured, i.e. are either initialized to 0 or are preceded by an output layer which measures them."
   ]
  },
  {
   "cell_type": "code",
   "execution_count": 51,
   "metadata": {},
   "outputs": [],
   "source": [
    "def input_layer(width: int, target_content: List[int], outlane_content: List[int]) -> qc.QuantumCircuit:\n",
    "    \"\"\"\n",
    "        Reset the first #target_content lanes\n",
    "    \"\"\"\n",
    "    circ = qc.QuantumCircuit(width)\n",
    "    for i, (tar, cur) in enumerate(zip(target_content, outlane_content)):\n",
    "        if tar != cur:\n",
    "            circ.x(circ.qubits[i])\n",
    "    return circ"
   ]
  },
  {
   "cell_type": "code",
   "execution_count": 52,
   "metadata": {},
   "outputs": [
    {
     "data": {
      "text/html": [
       "<pre style=\"word-wrap: normal;white-space: pre;background: #fff0;line-height: 1.1;font-family: &quot;Courier New&quot;,Courier,monospace\">     ┌───┐\n",
       "q_0: ┤ X ├\n",
       "     ├───┤\n",
       "q_1: ┤ X ├\n",
       "     └───┘\n",
       "q_2: ─────\n",
       "     ┌───┐\n",
       "q_3: ┤ X ├\n",
       "     └───┘\n",
       "q_4: ─────\n",
       "          \n",
       "q_5: ─────\n",
       "          </pre>"
      ],
      "text/plain": [
       "     ┌───┐\n",
       "q_0: ┤ X ├\n",
       "     ├───┤\n",
       "q_1: ┤ X ├\n",
       "     └───┘\n",
       "q_2: ─────\n",
       "     ┌───┐\n",
       "q_3: ┤ X ├\n",
       "     └───┘\n",
       "q_4: ─────\n",
       "          \n",
       "q_5: ─────\n",
       "          "
      ]
     },
     "execution_count": 52,
     "metadata": {},
     "output_type": "execute_result"
    }
   ],
   "source": [
    "input_layer(6, [1, 1, 0, 1], [0, 0, 0, 0]).draw()"
   ]
  },
  {
   "cell_type": "code",
   "execution_count": 53,
   "metadata": {},
   "outputs": [
    {
     "data": {
      "text/html": [
       "<pre style=\"word-wrap: normal;white-space: pre;background: #fff0;line-height: 1.1;font-family: &quot;Courier New&quot;,Courier,monospace\">     ┌───┐\n",
       "q_0: ┤ X ├\n",
       "     └───┘\n",
       "q_1: ─────\n",
       "     ┌───┐\n",
       "q_2: ┤ X ├\n",
       "     └───┘\n",
       "q_3: ─────\n",
       "          \n",
       "q_4: ─────\n",
       "          \n",
       "q_5: ─────\n",
       "          </pre>"
      ],
      "text/plain": [
       "     ┌───┐\n",
       "q_0: ┤ X ├\n",
       "     └───┘\n",
       "q_1: ─────\n",
       "     ┌───┐\n",
       "q_2: ┤ X ├\n",
       "     └───┘\n",
       "q_3: ─────\n",
       "          \n",
       "q_4: ─────\n",
       "          \n",
       "q_5: ─────\n",
       "          "
      ]
     },
     "execution_count": 53,
     "metadata": {},
     "output_type": "execute_result"
    }
   ],
   "source": [
    "input_layer(6, [1, 1, 0, 1], [0, 1, 1, 1]).draw()"
   ]
  },
  {
   "cell_type": "markdown",
   "metadata": {},
   "source": [
    "# RVQE Circuit"
   ]
  },
  {
   "cell_type": "code",
   "execution_count": null,
   "metadata": {},
   "outputs": [],
   "source": []
  },
  {
   "cell_type": "code",
   "execution_count": 54,
   "metadata": {},
   "outputs": [],
   "source": [
    "class RVQE:\n",
    "    \"\"\"\n",
    "        Generic RVQE Model\n",
    "    \"\"\"\n",
    "    def __init__(self, workspace_size: int, inout_size: int, num_stages: int, tanh_order: int = 2):\n",
    "        assert inout_size < workspace_size, \"has to be at least one wider than the data fed\"\n",
    "        \n",
    "        self.inout_size = inout_size\n",
    "        self.num_stages = num_stages\n",
    "        self.tanh_order = tanh_order\n",
    "        self.width = workspace_size + tanh_order\n",
    "        \n",
    "        self.workspace = qc.QuantumRegister(workspace_size)\n",
    "\n",
    "        # each stage is a single qubit rotation layer, followed by a quantum neuron for each output lane\n",
    "        self.layers = []\n",
    "        for _ in range(num_stages):\n",
    "            self.layers.append(UnitaryLayer(workspace_size))\n",
    "            self.layers += [ QuantumNeuronLayer(tanh_order, self.workspace, lane) for lane in range(workspace_size) ]\n",
    "        \n",
    "        self.param_count = sum([ layer.num_parameters() for layer in self.layers ])       \n",
    "    \n",
    "        \n",
    "        \n",
    "    def random_initial_params(self) -> np.array:\n",
    "        return np.array([\n",
    "            rand_for_param(param) for layer in self.layers for param in layer.parameters()\n",
    "        ])\n",
    "    \n",
    "    \n",
    "    def initial_state(self) -> qi.Statevector:\n",
    "        \"\"\"\n",
    "            return all zero state on width+1 qubits\n",
    "        \"\"\"\n",
    "        return qi.Statevector.from_label(\"0\" * self.width)\n",
    "    \n",
    "    \n",
    "    def specialize(self, params: np.array):\n",
    "        assert len(params) == self.param_count, \"number of parameters has to match\"\n",
    "        \n",
    "        idx = 0        \n",
    "        \n",
    "        for layer in self.layers:\n",
    "            layer.specialize(params[idx : idx + layer.num_parameters()])\n",
    "            idx += layer.num_parameters()\n",
    "                \n",
    "        return self\n",
    "    \n",
    "    \n",
    "    def run(self, inputs: List[List[int]], postselect_measurement: bool = True) -> qi.Statevector:   \n",
    "        psi = self.initial_state()  # input state\n",
    "        \n",
    "        output_probs = []\n",
    "        outputs = []\n",
    "        last_measured = [0 for _ in range(self.inout_size)]\n",
    "        \n",
    "        for inpt, target in pairwise(inputs):           \n",
    "            # pass input in\n",
    "            assert len(inpt) == self.inout_size and len(target) == self.inout_size, f\"inputs have to be of size {self.inout_size}\"\n",
    "            psi = psi.evolve(input_layer(self.width, inpt, last_measured))\n",
    "            \n",
    "            # execute RVQE cell\n",
    "            for layer in self.layers:\n",
    "                psi = layer.run(psi)\n",
    "                \n",
    "            #  measure (we really postselect on measuring target)\n",
    "            out, psi, probs = measure_and_tomography(psi, target if postselect_measurement else len(target))\n",
    "            last_measured = out_to_list(out)\n",
    "            outputs.append(out)\n",
    "            output_probs.append(probs)\n",
    "            \n",
    "        return outputs, output_probs\n",
    "    "
   ]
  },
  {
   "cell_type": "code",
   "execution_count": 55,
   "metadata": {},
   "outputs": [
    {
     "name": "stdout",
     "output_type": "stream",
     "text": [
      "[[1 0 0]\n",
      " [0 1 0]\n",
      " [1 1 0]\n",
      " [1 0 0]\n",
      " [1 1 0]\n",
      " [0 0 0]\n",
      " [0 1 1]\n",
      " [0 0 0]\n",
      " [0 1 0]\n",
      " [1 0 1]]\n"
     ]
    }
   ],
   "source": [
    "rvqe = RVQE(workspace_size=6, inout_size=3, num_stages=2)\n",
    "inputs = np.random.randint(2, size=(10, 3))\n",
    "print(inputs)\n",
    "params = [ rand2pi() for _ in range(rvqe.param_count) ]"
   ]
  },
  {
   "cell_type": "code",
   "execution_count": 56,
   "metadata": {},
   "outputs": [],
   "source": [
    "# rvqe.specialize(params).run(inputs, postselect_measurement=True)"
   ]
  },
  {
   "cell_type": "code",
   "execution_count": 57,
   "metadata": {},
   "outputs": [],
   "source": [
    "# %time rvqe.specialize(params).run(inputs, postselect_measurement=True)"
   ]
  },
  {
   "cell_type": "code",
   "execution_count": 58,
   "metadata": {},
   "outputs": [
    {
     "data": {
      "text/plain": [
       "[<__main__.UnitaryLayer at 0x7fb8b3b01690>,\n",
       " <__main__.QuantumNeuronLayer at 0x7fb8b3b01810>,\n",
       " <__main__.QuantumNeuronLayer at 0x7fb8b3b01b50>]"
      ]
     },
     "execution_count": 58,
     "metadata": {},
     "output_type": "execute_result"
    }
   ],
   "source": [
    "RVQE(workspace_size=2, inout_size=1, num_stages=1, tanh_order=1).layers"
   ]
  },
  {
   "cell_type": "code",
   "execution_count": null,
   "metadata": {},
   "outputs": [],
   "source": []
  },
  {
   "cell_type": "code",
   "execution_count": 59,
   "metadata": {},
   "outputs": [
    {
     "data": {
      "text/plain": [
       "(['1', '1', '0', '1'],\n",
       " [array([0.39646866, 0.60353134]),\n",
       "  array([0.11622709, 0.88377291]),\n",
       "  array([0.10745037, 0.89254963]),\n",
       "  array([0.39487697, 0.60512303])])"
      ]
     },
     "execution_count": 59,
     "metadata": {},
     "output_type": "execute_result"
    }
   ],
   "source": [
    "# consistency with torch\n",
    "rvqe = RVQE(workspace_size=2, inout_size=1, num_stages=1, tanh_order=3).specialize( [2, 1, 2, 2, 2, 2])\n",
    "rvqe.run([[0], [1], [1], [0], [1]], qi.Statevector.from_label(\"00000\"))"
   ]
  },
  {
   "cell_type": "code",
   "execution_count": null,
   "metadata": {},
   "outputs": [],
   "source": []
  },
  {
   "cell_type": "markdown",
   "metadata": {},
   "source": [
    "# Training"
   ]
  },
  {
   "cell_type": "markdown",
   "metadata": {},
   "source": [
    "an invalid character is the all 1s"
   ]
  },
  {
   "cell_type": "code",
   "execution_count": 60,
   "metadata": {},
   "outputs": [
    {
     "data": {
      "text/plain": [
       "[0, 0, 0, 0, 1, 0]"
      ]
     },
     "execution_count": 60,
     "metadata": {},
     "output_type": "execute_result"
    }
   ],
   "source": [
    "def char_to_bin6(char: str) -> List[int]:\n",
    "    try:\n",
    "        idx = char_to_bin6.characters.index(char[0])\n",
    "    except ValueError:\n",
    "        idx = 2**6-1\n",
    "    return char_to_bin6.lut[idx]\n",
    "    \n",
    "char_to_bin6.characters = [ c for c in \"abcdefghijklmnopqrstuvwxyz0123456789 ,.!?-\\\"'\" ]\n",
    "char_to_bin6.lut = [\n",
    "    [ int(c) for c in \"{0:06b}\".format(n) ] for n in range(2**6)\n",
    "]\n",
    "\n",
    "char_to_bin6(\"c\")"
   ]
  },
  {
   "cell_type": "code",
   "execution_count": 61,
   "metadata": {},
   "outputs": [
    {
     "data": {
      "text/plain": [
       "[1, 1, 1, 1, 0]"
      ]
     },
     "execution_count": 61,
     "metadata": {},
     "output_type": "execute_result"
    }
   ],
   "source": [
    "def char_to_bin5(char: str) -> List[int]:\n",
    "    try:\n",
    "        idx = char_to_bin5.characters.index(char[0])\n",
    "    except ValueError:\n",
    "        idx = 2**5-1\n",
    "    return char_to_bin5.lut[idx]\n",
    "    \n",
    "char_to_bin5.characters = [ c for c in \"abcdefghijklmnopqrstuvwxyz ,.!?\" ]\n",
    "char_to_bin5.lut = [\n",
    "    [ int(c) for c in \"{0:05b}\".format(n) ] for n in range(2**5)\n",
    "]\n",
    "\n",
    "char_to_bin5(\"?\")"
   ]
  },
  {
   "cell_type": "code",
   "execution_count": 62,
   "metadata": {},
   "outputs": [],
   "source": [
    "def bin_to_onehot(lst: List[int], width: int) -> np.array:\n",
    "    idx = int(\"\".join(str(n) for n in lst), 2)\n",
    "    ret = np.zeros(2**width)\n",
    "    ret[idx] = 1.\n",
    "    return ret"
   ]
  },
  {
   "cell_type": "code",
   "execution_count": 63,
   "metadata": {},
   "outputs": [
    {
     "data": {
      "text/plain": [
       "array([0., 0., 0., 0., 0., 0., 0., 0., 0., 0., 0., 0., 0., 0., 0., 0., 0.,\n",
       "       0., 0., 0., 0., 0., 0., 0., 0., 0., 0., 0., 0., 0., 1., 0.])"
      ]
     },
     "execution_count": 63,
     "metadata": {},
     "output_type": "execute_result"
    }
   ],
   "source": [
    "bin_to_onehot(char_to_bin5(\"?\"), 5)"
   ]
  },
  {
   "cell_type": "markdown",
   "metadata": {},
   "source": [
    "## Training Sets"
   ]
  },
  {
   "cell_type": "code",
   "execution_count": 64,
   "metadata": {},
   "outputs": [],
   "source": [
    "def constant_sentence(length: int, constant: List[int]) -> List[int]:\n",
    "    return [ constant for _ in range(length) ]"
   ]
  },
  {
   "cell_type": "code",
   "execution_count": 65,
   "metadata": {},
   "outputs": [],
   "source": [
    "def alternating_sentence(length: int, constants: List[List[int]]) -> List[int]:\n",
    "    return [ constants[i % len(constants)] for i in range(length) ]"
   ]
  },
  {
   "cell_type": "code",
   "execution_count": 66,
   "metadata": {},
   "outputs": [
    {
     "data": {
      "text/plain": [
       "['a', 'b', 'a', 'b', 'a']"
      ]
     },
     "execution_count": 66,
     "metadata": {},
     "output_type": "execute_result"
    }
   ],
   "source": [
    "alternating_sentence(5, [\"a\", \"b\"])"
   ]
  },
  {
   "cell_type": "markdown",
   "metadata": {},
   "source": [
    "## Optimize"
   ]
  },
  {
   "cell_type": "code",
   "execution_count": 67,
   "metadata": {},
   "outputs": [],
   "source": [
    "from scipy.optimize import minimize"
   ]
  },
  {
   "cell_type": "code",
   "execution_count": null,
   "metadata": {},
   "outputs": [],
   "source": []
  },
  {
   "cell_type": "code",
   "execution_count": 68,
   "metadata": {},
   "outputs": [],
   "source": [
    "def crossentropy(target: np.array, predicted: np.array) -> float:\n",
    "    return -sum(target[target!=0] * np.log(predicted[target!=0]))"
   ]
  },
  {
   "cell_type": "code",
   "execution_count": 69,
   "metadata": {},
   "outputs": [
    {
     "data": {
      "text/plain": [
       "0.10536051565782628"
      ]
     },
     "execution_count": 69,
     "metadata": {},
     "output_type": "execute_result"
    }
   ],
   "source": [
    "crossentropy(np.array([1, 0, 0]), np.array([.9, .1, .0]))"
   ]
  },
  {
   "cell_type": "code",
   "execution_count": 70,
   "metadata": {},
   "outputs": [
    {
     "data": {
      "text/plain": [
       "0.6931471805599453"
      ]
     },
     "execution_count": 70,
     "metadata": {},
     "output_type": "execute_result"
    }
   ],
   "source": [
    "crossentropy(np.array([1, 0, 0]), np.array([.5, .25, .25]))"
   ]
  },
  {
   "cell_type": "code",
   "execution_count": 71,
   "metadata": {},
   "outputs": [],
   "source": [
    "class LRScheduler:\n",
    "    def __init__(self, optimizer, patience: int = 20, threshold: float = 0.0001, loss_transf = log10):\n",
    "        self.patience = patience\n",
    "        self.threshold = threshold\n",
    "        self.optimizer = optimizer\n",
    "        self.loss_transf = loss_transf\n",
    "        self.time_since_best = 0\n",
    "        self.best = np.inf\n",
    "        \n",
    "    def step(self, loss):\n",
    "        loss = self.loss_transf(loss)\n",
    "        \n",
    "        if loss < (self.best - self.threshold):\n",
    "            self.time_since_best = 0\n",
    "            self.best = loss\n",
    "            \n",
    "        else:\n",
    "            self.time_since_best += 1\n",
    "            \n",
    "        if self.time_since_best > self.patience:\n",
    "            self.optimizer.learning_rate *= 0.666\n",
    "            self.time_since_best = 0\n",
    "            print(f\"reduced learning rate to {self.optimizer.learning_rate:.2e}\")\n",
    "            "
   ]
  },
  {
   "cell_type": "code",
   "execution_count": 72,
   "metadata": {},
   "outputs": [],
   "source": [
    "class VQEOptimizer:\n",
    "    def __init__(self, learning_rate: float = 1e-3, β1: float = .9, β2: float = .999, ε: float = 1e-8):\n",
    "        self.ε = ε\n",
    "        self.β1 = β1\n",
    "        self.β2 = β2\n",
    "        self.learning_rate = learning_rate\n",
    "        \n",
    "        self.v = 0.\n",
    "        self.sqr = 0.\n",
    "        \n",
    "    def grad(self, f, x0) -> np.array:\n",
    "        losses = np.array(pool.map(f, [\n",
    "            x0,\n",
    "            *[ (x0 + self.ε*x) for x in np.eye(len(x0)) ]\n",
    "        ]))\n",
    "        l0 = losses[0]\n",
    "        l1 = losses[1:]\n",
    "        return (l1 - l0) / self.ε\n",
    "    \n",
    "    def step(self, f, x0, t):\n",
    "        \"\"\"\n",
    "            Adam\n",
    "        \"\"\"\n",
    "        \n",
    "        β1, β2 = self.β1, self.β2\n",
    "        \n",
    "        g = self.grad(f, x0)\n",
    "        self.v = β1 * self.v + (1-β1) * g\n",
    "        self.sqr = β2 * self.sqr + (1-β2) * (g*g)\n",
    "        \n",
    "        v_bias_corr = self.v / (1. - β1 ** t)\n",
    "        sqr_bias_corr = self.sqr / (1. - β2 ** t)\n",
    "        \n",
    "        div = self.learning_rate * v_bias_corr / (np.sqrt(sqr_bias_corr) + self.ε)\n",
    "        x1 = x0 - div\n",
    "        \n",
    "        return x1, f(x1)\n",
    "    \n",
    "    "
   ]
  },
  {
   "cell_type": "code",
   "execution_count": 73,
   "metadata": {},
   "outputs": [
    {
     "data": {
      "text/plain": [
       "126"
      ]
     },
     "execution_count": 73,
     "metadata": {},
     "output_type": "execute_result"
    }
   ],
   "source": [
    "rvqe = RVQE(workspace_size=6, inout_size=3, num_stages=3)\n",
    "rvqe.param_count"
   ]
  },
  {
   "cell_type": "code",
   "execution_count": null,
   "metadata": {},
   "outputs": [],
   "source": []
  },
  {
   "cell_type": "code",
   "execution_count": 74,
   "metadata": {},
   "outputs": [],
   "source": [
    "from timeit import default_timer as timer"
   ]
  },
  {
   "cell_type": "code",
   "execution_count": 75,
   "metadata": {},
   "outputs": [],
   "source": [
    "def run_optim(params: Optional[np.array] = None):\n",
    "    EPOCHS = 5000\n",
    "    SENTENCE_LENGTH = 20\n",
    "\n",
    "    if params is None:\n",
    "        params = rvqe.random_initial_params()\n",
    "        \n",
    "    optimizer = VQEOptimizer(learning_rate=.01)\n",
    "    scheduler = LRScheduler(optimizer, patience=50)\n",
    "\n",
    "    postselected_training_phase = True\n",
    "\n",
    "    best_loss = np.inf\n",
    "    last_best_loss = 0\n",
    "    epoch = 0\n",
    "    while epoch < EPOCHS:\n",
    "        epoch += 1\n",
    "        time_start = timer()\n",
    "\n",
    "        sentence = alternating_sentence(SENTENCE_LENGTH,[ [0, 0, 0], [0, 0, 1], [0, 1, 0], [0, 1, 1] ])\n",
    "        sentence_onehot = [ bin_to_onehot(s, len(sentence[0])) for s in sentence ]\n",
    "\n",
    "        def f(params: np.array) -> float:\n",
    "            _, probs = rvqe.specialize(params).run(sentence, postselect_measurement=postselected_training_phase)\n",
    "            loss = np.mean([ crossentropy(a, b) for a, b in zip(sentence_onehot, probs) ])\n",
    "            return loss\n",
    "\n",
    "        params, loss = optimizer.step(f, params, epoch)\n",
    "        scheduler.step(loss)\n",
    "\n",
    "        # print loss each epoch\n",
    "        print(f\"{'PS' if postselected_training_phase else 'MS'} {epoch:04d}/{EPOCHS:04d} {timer() - time_start:5.1f}s  loss={loss:7.3e}\")\n",
    "\n",
    "        # choose between postselected and measured training phase\n",
    "        if loss < .0666:\n",
    "            postselected_training_phase = False\n",
    "        if loss > .2:\n",
    "            postselected_training_phase = True\n",
    "            \n",
    "        # print samples every few epochs\n",
    "        if epoch % 10 == 0: \n",
    "            def f(_):\n",
    "                out, _ = rvqe.specialize(params).run(sentence, postselect_measurement=False)\n",
    "                return out\n",
    "\n",
    "            for pred in pool.map(f, range(3)):\n",
    "                print(f\"pred={' '.join(pred)}\")"
   ]
  },
  {
   "cell_type": "code",
   "execution_count": null,
   "metadata": {},
   "outputs": [
    {
     "name": "stdout",
     "output_type": "stream",
     "text": [
      "PS 0001/5000 122.5s  loss=3.261e+00\n",
      "PS 0002/5000 106.2s  loss=3.058e+00\n",
      "PS 0003/5000 105.6s  loss=2.855e+00\n",
      "PS 0004/5000 105.6s  loss=2.682e+00\n",
      "PS 0005/5000 103.8s  loss=2.514e+00\n",
      "PS 0006/5000 100.5s  loss=2.355e+00\n",
      "PS 0007/5000 101.0s  loss=2.209e+00\n",
      "PS 0008/5000 103.5s  loss=2.077e+00\n",
      "PS 0009/5000 101.9s  loss=1.963e+00\n",
      "PS 0010/5000 101.4s  loss=1.863e+00\n",
      "pred=110 011 111 111 100 110 001 010 111 001 110 001 110 100 100 111 111 110 111\n",
      "pred=011 011 111 110 101 100 111 111 000 110 111 111 101 110 010 001 100 011 001\n",
      "pred=101 110 110 110 101 011 110 111 100 001 010 101 000 100 011 110 001 110 111\n",
      "PS 0011/5000  99.0s  loss=1.771e+00\n",
      "PS 0012/5000 104.2s  loss=1.697e+00\n",
      "PS 0013/5000 101.2s  loss=1.628e+00\n",
      "PS 0014/5000 102.4s  loss=1.560e+00\n",
      "PS 0015/5000 104.3s  loss=1.470e+00\n",
      "PS 0016/5000 102.1s  loss=1.418e+00\n",
      "PS 0017/5000 102.0s  loss=1.359e+00\n",
      "PS 0018/5000 104.7s  loss=1.292e+00\n",
      "PS 0019/5000 100.3s  loss=1.217e+00\n",
      "PS 0020/5000 102.0s  loss=1.139e+00\n",
      "pred=000 001 100 011 110 110 111 100 000 111 101 110 000 110 110 001 100 001 101\n",
      "pred=110 110 100 110 110 001 100 100 001 010 000 001 111 001 111 001 011 110 011\n",
      "pred=110 010 010 111 101 001 010 111 010 110 100 100 110 100 111 111 100 111 000\n",
      "PS 0022/5000 107.8s  loss=9.970e-01\n",
      "PS 0023/5000 100.3s  loss=1.013e+00\n",
      "PS 0024/5000 101.2s  loss=9.368e-01\n",
      "PS 0025/5000 100.7s  loss=9.313e-01\n",
      "PS 0026/5000 103.0s  loss=9.236e-01\n",
      "PS 0027/5000 106.0s  loss=9.108e-01\n",
      "PS 0028/5000  99.5s  loss=8.928e-01\n",
      "PS 0029/5000  99.5s  loss=8.701e-01\n",
      "PS 0030/5000  98.4s  loss=8.437e-01\n",
      "pred=001 001 110 001 101 010 011 100 100 001 010 110 000 001 111 011 011 110 110\n",
      "pred=000 110 010 101 101 111 110 100 111 001 011 101 101 110 110 100 010 001 110\n",
      "pred=110 110 011 110 110 011 111 111 111 110 010 101 101 110 011 110 101 111 010\n",
      "PS 0031/5000 102.7s  loss=8.145e-01\n",
      "PS 0032/5000 102.5s  loss=7.834e-01\n",
      "PS 0033/5000 143.8s  loss=7.512e-01\n",
      "PS 0034/5000 151.2s  loss=7.185e-01\n",
      "PS 0035/5000 148.5s  loss=6.860e-01\n",
      "PS 0036/5000 143.0s  loss=6.540e-01\n",
      "PS 0037/5000 147.9s  loss=6.228e-01\n",
      "PS 0038/5000 151.4s  loss=5.927e-01\n",
      "PS 0039/5000 154.3s  loss=5.639e-01\n",
      "PS 0040/5000 159.5s  loss=5.367e-01\n",
      "pred=101 111 010 011 000 001 101 011 101 100 100 000 100 000 111 011 000 011 011\n",
      "pred=000 001 010 010 000 011 110 011 100 001 011 110 000 001 011 100 110 100 100\n",
      "pred=110 001 010 100 011 110 010 011 011 010 010 011 000 110 110 001 010 001 101\n",
      "PS 0041/5000 143.0s  loss=5.114e-01\n",
      "PS 0042/5000 148.2s  loss=4.881e-01\n",
      "PS 0043/5000 141.9s  loss=4.671e-01\n",
      "PS 0044/5000 144.1s  loss=4.482e-01\n",
      "PS 0045/5000 141.1s  loss=4.315e-01\n",
      "PS 0046/5000 141.6s  loss=4.165e-01\n",
      "PS 0047/5000 149.9s  loss=4.031e-01\n",
      "PS 0048/5000 147.6s  loss=3.907e-01\n",
      "PS 0049/5000 171.5s  loss=3.791e-01\n",
      "PS 0050/5000 155.2s  loss=3.680e-01\n",
      "pred=000 001 010 011 100 110 111 011 000 100 010 011 011 110 110 001 100 001 010\n",
      "pred=110 001 000 001 001 010 001 000 111 001 010 001 101 001 101 011 000 000 110\n",
      "pred=110 000 011 000 010 101 011 000 010 100 101 001 100 001 100 000 000 010 110\n",
      "PS 0051/5000 163.0s  loss=3.574e-01\n",
      "PS 0052/5000 161.6s  loss=3.471e-01\n",
      "PS 0053/5000 153.1s  loss=3.372e-01\n",
      "PS 0054/5000 155.9s  loss=3.276e-01\n",
      "PS 0055/5000 148.0s  loss=3.186e-01\n",
      "PS 0056/5000 139.2s  loss=3.100e-01\n",
      "PS 0057/5000 138.5s  loss=3.019e-01\n",
      "PS 0058/5000 152.5s  loss=2.942e-01\n",
      "PS 0059/5000 138.6s  loss=2.868e-01\n",
      "PS 0060/5000 154.8s  loss=2.797e-01\n",
      "pred=000 001 110 110 010 010 010 011 110 000 100 011 001 110 110 010 000 110 010\n",
      "pred=000 001 011 101 000 000 101 011 110 011 110 011 110 110 100 001 011 010 010\n",
      "pred=000 011 011 110 110 001 010 011 000 001 011 000 010 000 100 101 010 001 110\n",
      "PS 0061/5000 140.4s  loss=2.728e-01\n",
      "PS 0062/5000 141.8s  loss=2.662e-01\n"
     ]
    }
   ],
   "source": [
    "run_optim()"
   ]
  },
  {
   "cell_type": "code",
   "execution_count": null,
   "metadata": {},
   "outputs": [],
   "source": []
  },
  {
   "cell_type": "markdown",
   "metadata": {},
   "source": [
    "## Profiling"
   ]
  },
  {
   "cell_type": "code",
   "execution_count": null,
   "metadata": {},
   "outputs": [],
   "source": [
    "#%load_ext line_profiler"
   ]
  },
  {
   "cell_type": "code",
   "execution_count": null,
   "metadata": {},
   "outputs": [],
   "source": [
    "#%lprun -f qi.Statevector.evolve -f qi.Statevector.__init__ -f qi.states.quantum_state.QuantumState.__init__ -f np.random.RandomState run_optim()"
   ]
  },
  {
   "cell_type": "code",
   "execution_count": null,
   "metadata": {},
   "outputs": [],
   "source": []
  }
 ],
 "metadata": {
  "kernelspec": {
   "display_name": "Python [conda env:rvqe] *",
   "language": "python",
   "name": "conda-env-rvqe-py"
  },
  "language_info": {
   "codemirror_mode": {
    "name": "ipython",
    "version": 3
   },
   "file_extension": ".py",
   "mimetype": "text/x-python",
   "name": "python",
   "nbconvert_exporter": "python",
   "pygments_lexer": "ipython3",
   "version": "3.7.7"
  }
 },
 "nbformat": 4,
 "nbformat_minor": 4
}
