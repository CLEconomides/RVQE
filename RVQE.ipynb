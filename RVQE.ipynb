{
 "cells": [
  {
   "cell_type": "code",
   "execution_count": 304,
   "metadata": {},
   "outputs": [],
   "source": [
    "from typing import List, Dict, Union, Optional, Tuple"
   ]
  },
  {
   "cell_type": "code",
   "execution_count": 305,
   "metadata": {},
   "outputs": [],
   "source": [
    "import qiskit as qk\n",
    "import qiskit.quantum_info as qi\n",
    "import qiskit.circuit as qc\n",
    "from qiskit.providers import aer"
   ]
  },
  {
   "cell_type": "code",
   "execution_count": 306,
   "metadata": {},
   "outputs": [],
   "source": [
    "from math import pi, log2\n",
    "from random import random"
   ]
  },
  {
   "cell_type": "code",
   "execution_count": 307,
   "metadata": {},
   "outputs": [],
   "source": [
    "import numpy as np"
   ]
  },
  {
   "cell_type": "markdown",
   "metadata": {},
   "source": [
    "# Utilities"
   ]
  },
  {
   "cell_type": "code",
   "execution_count": 308,
   "metadata": {},
   "outputs": [],
   "source": [
    "def unique_param() -> qc.Parameter:\n",
    "    unique_param.counter += 1\n",
    "    return qc.Parameter(f\"${unique_param.counter}\")\n",
    "unique_param.counter = 0"
   ]
  },
  {
   "cell_type": "code",
   "execution_count": 309,
   "metadata": {},
   "outputs": [
    {
     "data": {
      "text/plain": [
       "Parameter($1)"
      ]
     },
     "execution_count": 309,
     "metadata": {},
     "output_type": "execute_result"
    }
   ],
   "source": [
    "unique_param()"
   ]
  },
  {
   "cell_type": "code",
   "execution_count": null,
   "metadata": {},
   "outputs": [],
   "source": []
  },
  {
   "cell_type": "code",
   "execution_count": 310,
   "metadata": {},
   "outputs": [],
   "source": [
    "def ilog2(x) -> int:\n",
    "    return int(log2(x))\n",
    "def arr_qubits(x: np.array):\n",
    "    return ilog2(len(x))"
   ]
  },
  {
   "cell_type": "code",
   "execution_count": 311,
   "metadata": {},
   "outputs": [],
   "source": [
    "def rand2pi() -> float:\n",
    "    return random() * 2 * pi"
   ]
  },
  {
   "cell_type": "code",
   "execution_count": 312,
   "metadata": {},
   "outputs": [
    {
     "data": {
      "text/plain": [
       "4.667232879225646"
      ]
     },
     "execution_count": 312,
     "metadata": {},
     "output_type": "execute_result"
    }
   ],
   "source": [
    "rand2pi()"
   ]
  },
  {
   "cell_type": "code",
   "execution_count": null,
   "metadata": {},
   "outputs": [],
   "source": []
  },
  {
   "cell_type": "code",
   "execution_count": 313,
   "metadata": {},
   "outputs": [],
   "source": [
    "iYgate=qk.extensions.UnitaryGate(data=[[0, 1.j], [-1.j, 0]])\n",
    "ciYgate=iYgate.control(label=\"iY\")"
   ]
  },
  {
   "cell_type": "markdown",
   "metadata": {},
   "source": [
    "# Variational Forms"
   ]
  },
  {
   "cell_type": "code",
   "execution_count": 323,
   "metadata": {},
   "outputs": [],
   "source": [
    "def new_circuit(width: int) -> qc.QuantumCircuit:\n",
    "    circ = qc.QuantumCircuit(width)\n",
    "    return circ\n",
    "def empty_circuit_like(circ: qc.QuantumCircuit) -> qc.QuantumCircuit:\n",
    "    return circ.QuantumCircuit(*circ.qregs, *circ.cregs)"
   ]
  },
  {
   "cell_type": "markdown",
   "metadata": {},
   "source": [
    "## Unitary Layer"
   ]
  },
  {
   "cell_type": "code",
   "execution_count": 324,
   "metadata": {},
   "outputs": [],
   "source": [
    "def unitary_layer(width: int) -> qc.QuantumCircuit:\n",
    "    circ = new_circuit(width)\n",
    "    for qubit in circ.qubits:\n",
    "        circ.u3(unique_param(), unique_param(), unique_param(), qubit)\n",
    "    return circ"
   ]
  },
  {
   "cell_type": "code",
   "execution_count": 325,
   "metadata": {},
   "outputs": [
    {
     "data": {
      "text/html": [
       "<pre style=\"word-wrap: normal;white-space: pre;background: #fff0;line-height: 1.1;font-family: &quot;Courier New&quot;,Courier,monospace\">      ┌──────────────┐\n",
       "q_0: ─┤ U3($2,$3,$4) ├\n",
       "      ├──────────────┤\n",
       "q_1: ─┤ U3($5,$6,$7) ├\n",
       "     ┌┴──────────────┤\n",
       "q_2: ┤ U3($8,$9,$10) ├\n",
       "     └───────────────┘</pre>"
      ],
      "text/plain": [
       "      ┌──────────────┐\n",
       "q_0: ─┤ U3($2,$3,$4) ├\n",
       "      ├──────────────┤\n",
       "q_1: ─┤ U3($5,$6,$7) ├\n",
       "     ┌┴──────────────┤\n",
       "q_2: ┤ U3($8,$9,$10) ├\n",
       "     └───────────────┘"
      ]
     },
     "execution_count": 325,
     "metadata": {},
     "output_type": "execute_result"
    }
   ],
   "source": [
    "unitary_layer(3).draw()"
   ]
  },
  {
   "cell_type": "markdown",
   "metadata": {},
   "source": [
    "## Entangling Layer"
   ]
  },
  {
   "cell_type": "code",
   "execution_count": 326,
   "metadata": {},
   "outputs": [],
   "source": [
    "def entangling_layer(width: int, offset: int)-> qc.QuantumCircuit:\n",
    "    circ = qc.QuantumCircuit(width)\n",
    "    for i in range(0, circ.num_qubits-1, 2):\n",
    "        idx_a = (i+offset) % circ.num_qubits\n",
    "        idx_b = (i+1+offset) % circ.num_qubits\n",
    "        circ.cz(idx_a, idx_b)\n",
    "    return circ"
   ]
  },
  {
   "cell_type": "code",
   "execution_count": 327,
   "metadata": {},
   "outputs": [
    {
     "data": {
      "text/html": [
       "<pre style=\"word-wrap: normal;white-space: pre;background: #fff0;line-height: 1.1;font-family: &quot;Courier New&quot;,Courier,monospace\">            \n",
       " q_0: ────■─\n",
       "          │ \n",
       " q_1: ─■──┼─\n",
       "       │  │ \n",
       " q_2: ─■──┼─\n",
       "          │ \n",
       " q_3: ─■──┼─\n",
       "       │  │ \n",
       " q_4: ─■──┼─\n",
       "          │ \n",
       " q_5: ─■──┼─\n",
       "       │  │ \n",
       " q_6: ─■──┼─\n",
       "          │ \n",
       " q_7: ─■──┼─\n",
       "       │  │ \n",
       " q_8: ─■──┼─\n",
       "          │ \n",
       " q_9: ─■──┼─\n",
       "       │  │ \n",
       "q_10: ─■──┼─\n",
       "          │ \n",
       "q_11: ────■─\n",
       "            </pre>"
      ],
      "text/plain": [
       "            \n",
       " q_0: ────■─\n",
       "          │ \n",
       " q_1: ─■──┼─\n",
       "       │  │ \n",
       " q_2: ─■──┼─\n",
       "          │ \n",
       " q_3: ─■──┼─\n",
       "       │  │ \n",
       " q_4: ─■──┼─\n",
       "          │ \n",
       " q_5: ─■──┼─\n",
       "       │  │ \n",
       " q_6: ─■──┼─\n",
       "          │ \n",
       " q_7: ─■──┼─\n",
       "       │  │ \n",
       " q_8: ─■──┼─\n",
       "          │ \n",
       " q_9: ─■──┼─\n",
       "       │  │ \n",
       "q_10: ─■──┼─\n",
       "          │ \n",
       "q_11: ────■─\n",
       "            "
      ]
     },
     "execution_count": 327,
     "metadata": {},
     "output_type": "execute_result"
    }
   ],
   "source": [
    "entangling_layer(12, 1).draw()"
   ]
  },
  {
   "cell_type": "code",
   "execution_count": 328,
   "metadata": {},
   "outputs": [
    {
     "data": {
      "text/html": [
       "<pre style=\"word-wrap: normal;white-space: pre;background: #fff0;line-height: 1.1;font-family: &quot;Courier New&quot;,Courier,monospace\">     ┌─────────────────┐   \n",
       "q_0: ┤ U3($11,$12,$13) ├─■─\n",
       "     ├─────────────────┤ │ \n",
       "q_1: ┤ U3($14,$15,$16) ├─■─\n",
       "     ├─────────────────┤   \n",
       "q_2: ┤ U3($17,$18,$19) ├─■─\n",
       "     ├─────────────────┤ │ \n",
       "q_3: ┤ U3($20,$21,$22) ├─■─\n",
       "     └─────────────────┘   </pre>"
      ],
      "text/plain": [
       "     ┌─────────────────┐   \n",
       "q_0: ┤ U3($11,$12,$13) ├─■─\n",
       "     ├─────────────────┤ │ \n",
       "q_1: ┤ U3($14,$15,$16) ├─■─\n",
       "     ├─────────────────┤   \n",
       "q_2: ┤ U3($17,$18,$19) ├─■─\n",
       "     ├─────────────────┤ │ \n",
       "q_3: ┤ U3($20,$21,$22) ├─■─\n",
       "     └─────────────────┘   "
      ]
     },
     "execution_count": 328,
     "metadata": {},
     "output_type": "execute_result"
    }
   ],
   "source": [
    "(unitary_layer(4) + entangling_layer(4, 0)).draw()"
   ]
  },
  {
   "cell_type": "markdown",
   "metadata": {},
   "source": [
    "## Postselection Gadget Layer"
   ]
  },
  {
   "cell_type": "markdown",
   "metadata": {},
   "source": [
    "This is a simple RUS circuit from arxiv.org/abs/1711.11240.\n",
    "As this is a RUS circuit, the postselection can be done efficiently."
   ]
  },
  {
   "cell_type": "code",
   "execution_count": 411,
   "metadata": {},
   "outputs": [],
   "source": [
    "PSGADGET_ANCILLA_QREG = qc.QuantumRegister(1, \"q_{ps}\")\n",
    "PSGADGET_ANCILLA_CREG = qc.ClassicalRegister(1, \"c_{ps}\")\n",
    "\n",
    "def postsel_gadget_layer(width: int, inlanes: List[int], outlane: int, add_measurement: bool = False) -> qc.QuantumCircuit:    \n",
    "    circ = new_circuit(width)\n",
    "    circ.add_register(PSGADGET_ANCILLA_QREG)\n",
    "    \n",
    "    params = [ unique_param() for _ in inlanes ]\n",
    "    \n",
    "    # always apply (static) correction before RUS circuit so that we can simply repeat it\n",
    "    circ.rz(-pi/2, circ.qubits[outlane])\n",
    "    \n",
    "    # RUS circuit\n",
    "    for i, lane in enumerate(inlanes):\n",
    "        circ.cry(params[i], circ.qubits[lane], PSGADGET_ANCILLA_QREG[0])\n",
    "    circ.cy(PSGADGET_ANCILLA_QREG[0], circ.qubits[outlane])\n",
    "    circ.rz(-pi/2, PSGADGET_ANCILLA_QREG[0])\n",
    "    for i, lane in reversed(list((enumerate(inlanes)))):\n",
    "        circ.cry(-params[i], circ.qubits[lane], PSGADGET_ANCILLA_QREG[0])\n",
    "        \n",
    "    # measurement\n",
    "    if add_measurement:\n",
    "        circ.add_register(PSGADGET_ANCILLA_CREG)\n",
    "        circ.measure(PSGADGET_ANCILLA_QREG[0], PSGADGET_ANCILLA_CREG[0])\n",
    "    \n",
    "    return circ"
   ]
  },
  {
   "cell_type": "code",
   "execution_count": 412,
   "metadata": {},
   "outputs": [
    {
     "data": {
      "image/png": "[encoded data removed]",
      "text/plain": [
       "<Figure size 1135.37x445.48 with 1 Axes>"
      ]
     },
     "execution_count": 412,
     "metadata": {},
     "output_type": "execute_result"
    }
   ],
   "source": [
    "postsel_gadget_layer(5, [0], 2, add_measurement=True).draw(output=\"mpl\")"
   ]
  },
  {
   "cell_type": "code",
   "execution_count": 450,
   "metadata": {},
   "outputs": [],
   "source": [
    "def postselect(psi: qi.Statevector, qubit_idx: int, what: int = 0, flip_threshold: float = 1e-6) -> qi.Statevector:\n",
    "    \"\"\"\n",
    "        postselect on a measurement outcome;\n",
    "        if postselection_probability is below the threshold, we postselect on the complement\n",
    "    \"\"\"\n",
    "    qubit_idx %= psi.num_qubits\n",
    "    \n",
    "    p = psi.probabilities([qubit_idx])\n",
    "    \n",
    "    if p[what] < flip_threshold:\n",
    "        what = 1-what\n",
    "    \n",
    "    proj = np.zeros(2, dtype=complex)\n",
    "    proj[what] = 1 / np.sqrt(p[what])\n",
    "    \n",
    "    return psi.evolve(qi.Operator(np.diag(proj), input_dims=2, output_dims=2), qargs=[qubit_idx])"
   ]
  },
  {
   "cell_type": "code",
   "execution_count": 451,
   "metadata": {},
   "outputs": [
    {
     "data": {
      "text/plain": [
       "Statevector([ 0.00000000e+00+0.00000000e+00j,\n",
       "              0.00000000e+00+0.00000000e+00j,\n",
       "              0.00000000e+00+0.00000000e+00j,\n",
       "              0.00000000e+00+0.00000000e+00j,\n",
       "              0.00000000e+00+0.00000000e+00j,\n",
       "              0.00000000e+00+0.00000000e+00j,\n",
       "              0.00000000e+00+0.00000000e+00j,\n",
       "              0.00000000e+00+0.00000000e+00j,\n",
       "              6.88972021e-17-5.38259392e-19j,\n",
       "             -6.15228979e-02-9.56220044e-03j,\n",
       "             -1.37794404e-16+0.00000000e+00j,\n",
       "              1.68491152e-01-2.07835189e-01j,\n",
       "              0.00000000e+00-5.38259392e-19j,\n",
       "             -2.15681911e-01-3.12344564e-02j,\n",
       "              0.00000000e+00+0.00000000e+00j,\n",
       "              5.82184822e-01-7.33556622e-01j],\n",
       "            dims=(2, 2, 2, 2))"
      ]
     },
     "execution_count": 451,
     "metadata": {},
     "output_type": "execute_result"
    }
   ],
   "source": [
    "foo = unitary_layer(3) + postsel_gadget_layer(3, [0], 2, add_measurement=False)\n",
    "foo = foo.bind_parameters({ p: rand2pi() for p in foo.parameters })\n",
    "phi = qi.Statevector.from_instruction(foo)\n",
    "postselect(phi, -1, 1)"
   ]
  },
  {
   "cell_type": "markdown",
   "metadata": {},
   "source": [
    "## Output Layer"
   ]
  },
  {
   "cell_type": "markdown",
   "metadata": {},
   "source": [
    "In the actual algorithm, we would run a number of rnn's in parallel, sampling from the distributions to estimate them. Note that we still evolve forward by"
   ]
  },
  {
   "cell_type": "code",
   "execution_count": 335,
   "metadata": {},
   "outputs": [],
   "source": [
    "OUT_CREG_NAME = \"c_{out}\"\n",
    "def output_layer(width: int, outcount: int) -> qc.QuantumCircuit:\n",
    "    \"\"\"\n",
    "        Measure the first outcount lanes\n",
    "    \"\"\"\n",
    "    circ = qc.QuantumCircuit(width)\n",
    "    circ.add_register(qc.ClassicalRegister(outcount, OUT_CREG_NAME))\n",
    "    circ.measure(circ.qubits[:outcount], circ.clbits[:outcount])\n",
    "    \n",
    "    return circ"
   ]
  },
  {
   "cell_type": "code",
   "execution_count": 336,
   "metadata": {},
   "outputs": [
    {
     "data": {
      "text/html": [
       "<pre style=\"word-wrap: normal;white-space: pre;background: #fff0;line-height: 1.1;font-family: &quot;Courier New&quot;,Courier,monospace\">           ┌─┐      \n",
       "      q_0: ┤M├──────\n",
       "           └╥┘┌─┐   \n",
       "      q_1: ─╫─┤M├───\n",
       "            ║ └╥┘┌─┐\n",
       "      q_2: ─╫──╫─┤M├\n",
       "            ║  ║ └╥┘\n",
       "      q_3: ─╫──╫──╫─\n",
       "            ║  ║  ║ \n",
       "      q_4: ─╫──╫──╫─\n",
       "            ║  ║  ║ \n",
       "c_{out}_0: ═╩══╬══╬═\n",
       "               ║  ║ \n",
       "c_{out}_1: ════╩══╬═\n",
       "                  ║ \n",
       "c_{out}_2: ═══════╩═\n",
       "                    </pre>"
      ],
      "text/plain": [
       "           ┌─┐      \n",
       "      q_0: ┤M├──────\n",
       "           └╥┘┌─┐   \n",
       "      q_1: ─╫─┤M├───\n",
       "            ║ └╥┘┌─┐\n",
       "      q_2: ─╫──╫─┤M├\n",
       "            ║  ║ └╥┘\n",
       "      q_3: ─╫──╫──╫─\n",
       "            ║  ║  ║ \n",
       "      q_4: ─╫──╫──╫─\n",
       "            ║  ║  ║ \n",
       "c_{out}_0: ═╩══╬══╬═\n",
       "               ║  ║ \n",
       "c_{out}_1: ════╩══╬═\n",
       "                  ║ \n",
       "c_{out}_2: ═══════╩═\n",
       "                    "
      ]
     },
     "execution_count": 336,
     "metadata": {},
     "output_type": "execute_result"
    }
   ],
   "source": [
    "output_layer(5, 3).draw()"
   ]
  },
  {
   "cell_type": "code",
   "execution_count": 337,
   "metadata": {},
   "outputs": [],
   "source": [
    "def cheating_output_layer(psi: qi.Statevector, outcount: int) -> Tuple[str, qi.Statevector, np.ndarray]:\n",
    "    return (*psi.measure(range(outcount)), psi.probabilities(range(outcount)))"
   ]
  },
  {
   "cell_type": "code",
   "execution_count": 339,
   "metadata": {},
   "outputs": [
    {
     "data": {
      "text/plain": [
       "Statevector([ 0.14964069+0.j        ,  0.02068113-0.34418956j,\n",
       "              0.25398991+0.22373545j,  0.54971813-0.55328248j,\n",
       "             -0.05746372+0.01475293j,  0.02599152+0.13421161j,\n",
       "             -0.11959285-0.06087633j, -0.15655041+0.26666288j],\n",
       "            dims=(2, 2, 2))"
      ]
     },
     "execution_count": 339,
     "metadata": {},
     "output_type": "execute_result"
    }
   ],
   "source": [
    "foo = unitary_layer(3)\n",
    "foo = foo.bind_parameters({ p: rand2pi() for p in foo.parameters })\n",
    "phi = qi.Statevector.from_instruction(foo)\n",
    "phi"
   ]
  },
  {
   "cell_type": "code",
   "execution_count": 353,
   "metadata": {},
   "outputs": [
    {
     "data": {
      "text/plain": [
       "('11',\n",
       " Statevector([ 0.        +0.j        ,  0.        +0.j        ,\n",
       "               0.        +0.j        ,  0.6552028 -0.6594511j ,\n",
       "               0.        +0.j        ,  0.        +0.j        ,\n",
       "               0.        +0.j        , -0.18659065+0.31783246j],\n",
       "             dims=(2, 2, 2)),\n",
       " array([0.02591207, 0.13758248, 0.1325768 , 0.70392865]))"
      ]
     },
     "execution_count": 353,
     "metadata": {},
     "output_type": "execute_result"
    }
   ],
   "source": [
    "cheating_output_layer(phi, 2)"
   ]
  },
  {
   "cell_type": "markdown",
   "metadata": {},
   "source": [
    "## Input Layer"
   ]
  },
  {
   "cell_type": "markdown",
   "metadata": {},
   "source": [
    "We assume the inputs have been measured, i.e. are either initialized to 0 or are preceded by an output layer which measures them."
   ]
  },
  {
   "cell_type": "code",
   "execution_count": 356,
   "metadata": {},
   "outputs": [],
   "source": [
    "def input_layer(width: int, target_content: List[int], outlane_content: List[int]) -> qc.QuantumCircuit:\n",
    "    \"\"\"\n",
    "        Reset the first #target_content lanes\n",
    "    \"\"\"\n",
    "    circ = qc.QuantumCircuit(width)\n",
    "    for i, (tar, cur) in enumerate(zip(target_content, outlane_content)):\n",
    "        if tar != cur:\n",
    "            circ.x(circ.qubits[i])\n",
    "    return circ"
   ]
  },
  {
   "cell_type": "code",
   "execution_count": 357,
   "metadata": {},
   "outputs": [
    {
     "data": {
      "text/html": [
       "<pre style=\"word-wrap: normal;white-space: pre;background: #fff0;line-height: 1.1;font-family: &quot;Courier New&quot;,Courier,monospace\">     ┌───┐\n",
       "q_0: ┤ X ├\n",
       "     ├───┤\n",
       "q_1: ┤ X ├\n",
       "     └───┘\n",
       "q_2: ─────\n",
       "     ┌───┐\n",
       "q_3: ┤ X ├\n",
       "     └───┘\n",
       "q_4: ─────\n",
       "          \n",
       "q_5: ─────\n",
       "          </pre>"
      ],
      "text/plain": [
       "     ┌───┐\n",
       "q_0: ┤ X ├\n",
       "     ├───┤\n",
       "q_1: ┤ X ├\n",
       "     └───┘\n",
       "q_2: ─────\n",
       "     ┌───┐\n",
       "q_3: ┤ X ├\n",
       "     └───┘\n",
       "q_4: ─────\n",
       "          \n",
       "q_5: ─────\n",
       "          "
      ]
     },
     "execution_count": 357,
     "metadata": {},
     "output_type": "execute_result"
    }
   ],
   "source": [
    "input_layer(6, [1, 1, 0, 1], [0, 0, 0, 0]).draw()"
   ]
  },
  {
   "cell_type": "code",
   "execution_count": 358,
   "metadata": {},
   "outputs": [
    {
     "data": {
      "text/html": [
       "<pre style=\"word-wrap: normal;white-space: pre;background: #fff0;line-height: 1.1;font-family: &quot;Courier New&quot;,Courier,monospace\">     ┌───┐\n",
       "q_0: ┤ X ├\n",
       "     └───┘\n",
       "q_1: ─────\n",
       "     ┌───┐\n",
       "q_2: ┤ X ├\n",
       "     └───┘\n",
       "q_3: ─────\n",
       "          \n",
       "q_4: ─────\n",
       "          \n",
       "q_5: ─────\n",
       "          </pre>"
      ],
      "text/plain": [
       "     ┌───┐\n",
       "q_0: ┤ X ├\n",
       "     └───┘\n",
       "q_1: ─────\n",
       "     ┌───┐\n",
       "q_2: ┤ X ├\n",
       "     └───┘\n",
       "q_3: ─────\n",
       "          \n",
       "q_4: ─────\n",
       "          \n",
       "q_5: ─────\n",
       "          "
      ]
     },
     "execution_count": 358,
     "metadata": {},
     "output_type": "execute_result"
    }
   ],
   "source": [
    "input_layer(6, [1, 1, 0, 1], [0, 1, 1, 1]).draw()"
   ]
  },
  {
   "cell_type": "markdown",
   "metadata": {},
   "source": [
    "# RVQE Circuit"
   ]
  },
  {
   "cell_type": "markdown",
   "metadata": {},
   "source": [
    "## Initialization"
   ]
  },
  {
   "cell_type": "code",
   "execution_count": 359,
   "metadata": {},
   "outputs": [],
   "source": [
    "def rvqe_init(width: int) -> qi.Statevector:\n",
    "    \"\"\"\n",
    "        return all zero state on width+1 qubits\n",
    "    \"\"\"\n",
    "    return qi.Statevector.from_label(\"0\" * (width+1))"
   ]
  },
  {
   "cell_type": "code",
   "execution_count": 361,
   "metadata": {},
   "outputs": [
    {
     "data": {
      "text/plain": [
       "Statevector([1.+0.j, 0.+0.j, 0.+0.j, 0.+0.j, 0.+0.j, 0.+0.j, 0.+0.j,\n",
       "             0.+0.j, 0.+0.j, 0.+0.j, 0.+0.j, 0.+0.j, 0.+0.j, 0.+0.j,\n",
       "             0.+0.j, 0.+0.j],\n",
       "            dims=(2, 2, 2, 2))"
      ]
     },
     "execution_count": 361,
     "metadata": {},
     "output_type": "execute_result"
    }
   ],
   "source": [
    "rvqe_init(3)"
   ]
  },
  {
   "cell_type": "markdown",
   "metadata": {},
   "source": [
    "## Cell"
   ]
  },
  {
   "cell_type": "code",
   "execution_count": 378,
   "metadata": {},
   "outputs": [],
   "source": [
    "def rvqe_cell(\n",
    "    width: int,\n",
    "    gadget_inlanes: List[int],\n",
    "    gadget_outlane: int,\n",
    "    target_content: List[int],\n",
    "    outlane_content: Optional[List[int]] = None,\n",
    "    include_barriers: bool = False\n",
    ") -> Tuple[qc.QuantumCircuit]:\n",
    "    qc_a = new_circuit(width)\n",
    "    \n",
    "    # fix input\n",
    "    qc_a += input_layer(width, target_content, outlane_content if outlane_content is not None else [0 for _ in target_content])\n",
    "    include_barriers and qc_a.barrier()\n",
    "    \n",
    "    # unitary layers    \n",
    "    qc_a += unitary_layer(width)\n",
    "    qc_a += entangling_layer(width, 0)\n",
    "    include_barriers and qc_a.barrier() \n",
    "    qc_a += unitary_layer(width)\n",
    "    qc_a += entangling_layer(width, 1)\n",
    "    include_barriers and qc_a.barrier()\n",
    "    qc_a += unitary_layer(width)\n",
    "    qc_a += entangling_layer(width, 0)\n",
    "    include_barriers and qc_a.barrier()\n",
    "    \n",
    "    # RUS phase    \n",
    "    qc_ps = postsel_gadget_layer(width, gadget_inlanes, gadget_outlane)\n",
    "    include_barriers and qc_ps.barrier()\n",
    "    \n",
    "    # output phase\n",
    "    qc_out = output_layer(width, len(target_content))\n",
    "    \n",
    "    return (qc_a, qc_ps, qc_out)\n",
    "    "
   ]
  },
  {
   "cell_type": "code",
   "execution_count": 413,
   "metadata": {},
   "outputs": [
    {
     "data": {
      "image/png": "[encoded data removed]",
      "text/plain": [
       "<Figure size 1737.37x927.08 with 1 Axes>"
      ]
     },
     "execution_count": 413,
     "metadata": {},
     "output_type": "execute_result"
    }
   ],
   "source": [
    "qcs = rvqe_cell(5, [0,1], 2, [0, 1], include_barriers=True)\n",
    "(qcs[0] + qcs[1] + qcs[2]).draw(output=\"mpl\")"
   ]
  },
  {
   "cell_type": "markdown",
   "metadata": {},
   "source": [
    "Instead of executing the above circuit and repeating the RUS steps, and measuring the output in multiple parallel runs, we perform a \"cheating\" variant; noting that the cheating can be done efficiently."
   ]
  },
  {
   "cell_type": "code",
   "execution_count": 199,
   "metadata": {},
   "outputs": [],
   "source": [
    "def apply(qc: qc.QuantumCircuit, psi_init: Optional[qi.Statevector] = None) -> qi.Statevector:\n",
    "    if psi_init is None:\n",
    "        job = qk.execute(qc, backend=apply.backend, shots=1)\n",
    "        return job.result()\n",
    "    else:\n",
    "        return psi_init.evolve(qc)\n",
    "apply.backend = aer.StatevectorSimulator()"
   ]
  },
  {
   "cell_type": "code",
   "execution_count": 499,
   "metadata": {},
   "outputs": [],
   "source": [
    "def rvqe_factory(width: int, u_layers: int, stages: int):\n",
    "    # a sequence of unitary layers\n",
    "    def u_layer():\n",
    "        circ = unitary_layer(width)\n",
    "        \n",
    "        for l in range(u_layers):\n",
    "            circ += entangling_layer(width, l%2)\n",
    "            circ += unitary_layer(width)\n",
    "            \n",
    "        return circ\n",
    "    \n",
    "    # postselection layers; setup is like\n",
    "    # [inlanes, out1, out2, p_anc]\n",
    "    # and we alternate between writing to out1 and out2\n",
    "    P_LAYER_WIDTH = width - 2\n",
    "    def p_layer(evenodd: int):\n",
    "        return postsel_gadget_layer(width, range(P_LAYER_WIDTH), P_LAYER_WIDTH + evenodd, add_measurement=False)\n",
    "    \n",
    "        \n",
    "    # stages are always u then p\n",
    "    stages = [ (u_layer(), p_layer(s%2)) for s in range(stages) ]\n",
    "    param_count = sum([ u.num_parameters + p.num_parameters for u, p in stages ])\n",
    "    \n",
    "    \n",
    "    def bind_stages(params: np.array) -> List[Tuple[qc.QuantumCircuit]]:\n",
    "        ret = []\n",
    "        idx = 0\n",
    "        for u, p in stages:\n",
    "            us = u.bind_parameters(dict(zip(u.parameters, params[idx : idx+u.num_parameters])))\n",
    "            idx += u.num_parameters\n",
    "            ps = p.bind_parameters(dict(zip(p.parameters, params[idx : idx+p.num_parameters])))\n",
    "            idx += p.num_parameters\n",
    "            ret.append((us, ps))\n",
    "        return ret\n",
    "        \n",
    "    \n",
    "    # return a list of parameters and a closure to execute\n",
    "    def run(params: np.array, inputs: List[List[int]]):\n",
    "        psi = rvqe_init(width)  # input state\n",
    "        ls = bind_stages(params)  # specialize circuit with parameters\n",
    "        output_probs = []\n",
    "        outputs = []\n",
    "        \n",
    "        insize = len(inputs[0])\n",
    "        assert insize <= width, \"input too wide\"\n",
    "        previous_inpt = [0 for _ in range(insize)]\n",
    "        for inpt in inputs:\n",
    "            # pass input in\n",
    "            psi.evolve(input_layer(width, inpt, previous_inpt))\n",
    "            previous_input = inpt\n",
    "            \n",
    "            for u, p in ls:                \n",
    "                # unitary and RUS circuit\n",
    "                psi = psi.evolve(u + p)\n",
    "                psi = postselect(psi, -1, 1)  # abbreviating the RUS application here\n",
    "            \n",
    "            # measure\n",
    "            out, psi, probs = cheating_output_layer(psi, insize)\n",
    "            outputs.append(out)\n",
    "            output_probs.append(probs)\n",
    "            \n",
    "        return outputs, output_probs\n",
    "    \n",
    "    \n",
    "    return (param_count, run)"
   ]
  },
  {
   "cell_type": "code",
   "execution_count": 500,
   "metadata": {},
   "outputs": [],
   "source": [
    "param_count, run = rvqe_factory(6, 3, 10)\n",
    "inputs = np.random.randint(2, size=(10, 3))\n",
    "params = [ rand2pi() for _ in range(param_count) ]"
   ]
  },
  {
   "cell_type": "code",
   "execution_count": 501,
   "metadata": {},
   "outputs": [
    {
     "name": "stdout",
     "output_type": "stream",
     "text": [
      "CPU times: user 2.06 s, sys: 109 ms, total: 2.17 s\n",
      "Wall time: 2.13 s\n"
     ]
    },
    {
     "data": {
      "text/plain": [
       "(['001', '010', '111', '001', '001', '111', '101', '011', '111', '101'],\n",
       " [array([0.23574942, 0.15548401, 0.11464104, 0.06022139, 0.12692167,\n",
       "         0.15722693, 0.05710562, 0.09264991]),\n",
       "  array([0.05768501, 0.15943224, 0.18775722, 0.09342081, 0.10348129,\n",
       "         0.13619301, 0.13235611, 0.12967433]),\n",
       "  array([0.06670848, 0.04928954, 0.16804167, 0.1140519 , 0.14153517,\n",
       "         0.11422966, 0.16940831, 0.17673529]),\n",
       "  array([0.12999679, 0.13608655, 0.07733774, 0.11668538, 0.14225829,\n",
       "         0.12226175, 0.1076348 , 0.1677387 ]),\n",
       "  array([0.09442115, 0.14671749, 0.10360841, 0.12508739, 0.12274434,\n",
       "         0.17254802, 0.15379089, 0.08108231]),\n",
       "  array([0.18435671, 0.09576473, 0.17964641, 0.09565952, 0.06836781,\n",
       "         0.10602486, 0.10212389, 0.16805608]),\n",
       "  array([0.12189768, 0.18777673, 0.10307589, 0.12383001, 0.0924201 ,\n",
       "         0.13644546, 0.13356083, 0.10099329]),\n",
       "  array([0.12973973, 0.10945356, 0.15201948, 0.07407035, 0.10179163,\n",
       "         0.12646337, 0.14131283, 0.16514907]),\n",
       "  array([0.16985251, 0.09564794, 0.14744309, 0.13597482, 0.08786197,\n",
       "         0.08995538, 0.10993732, 0.16332696]),\n",
       "  array([0.13140972, 0.143153  , 0.10359675, 0.11541478, 0.14262174,\n",
       "         0.14024328, 0.11303236, 0.11052837])])"
      ]
     },
     "execution_count": 501,
     "metadata": {},
     "output_type": "execute_result"
    }
   ],
   "source": [
    "%time run(params, inputs)"
   ]
  },
  {
   "cell_type": "code",
   "execution_count": null,
   "metadata": {},
   "outputs": [],
   "source": []
  },
  {
   "cell_type": "markdown",
   "metadata": {},
   "source": [
    "# Training"
   ]
  },
  {
   "cell_type": "markdown",
   "metadata": {},
   "source": [
    "an invalid character is the all 1s"
   ]
  },
  {
   "cell_type": "code",
   "execution_count": 532,
   "metadata": {},
   "outputs": [
    {
     "data": {
      "text/plain": [
       "[0, 0, 0, 0, 1, 0]"
      ]
     },
     "execution_count": 532,
     "metadata": {},
     "output_type": "execute_result"
    }
   ],
   "source": [
    "def char_to_bin6(char: str) -> List[int]:\n",
    "    try:\n",
    "        idx = char_to_bin6.characters.index(char[0])\n",
    "    except ValueError:\n",
    "        idx = 2**6-1\n",
    "    return char_to_bin6.lut[idx]\n",
    "    \n",
    "char_to_bin6.characters = [ c for c in \"abcdefghijklmnopqrstuvwxyz0123456789 ,.!?-\\\"'\" ]\n",
    "char_to_bin6.lut = [\n",
    "    [ int(c) for c in \"{0:06b}\".format(n) ] for n in range(2**6)\n",
    "]\n",
    "\n",
    "char_to_bin6(\"c\")"
   ]
  },
  {
   "cell_type": "code",
   "execution_count": 541,
   "metadata": {},
   "outputs": [
    {
     "data": {
      "text/plain": [
       "[1, 1, 1, 1, 0]"
      ]
     },
     "execution_count": 541,
     "metadata": {},
     "output_type": "execute_result"
    }
   ],
   "source": [
    "def char_to_bin5(char: str) -> List[int]:\n",
    "    try:\n",
    "        idx = char_to_bin5.characters.index(char[0])\n",
    "    except ValueError:\n",
    "        idx = 2**5-1\n",
    "    return char_to_bin5.lut[idx]\n",
    "    \n",
    "char_to_bin5.characters = [ c for c in \"abcdefghijklmnopqrstuvwxyz ,.!?\" ]\n",
    "char_to_bin5.lut = [\n",
    "    [ int(c) for c in \"{0:05b}\".format(n) ] for n in range(2**5)\n",
    "]\n",
    "\n",
    "char_to_bin5(\"?\")"
   ]
  },
  {
   "cell_type": "code",
   "execution_count": 543,
   "metadata": {},
   "outputs": [],
   "source": [
    "def bin_to_onehot(lst: List[int], width: int) -> np.array:\n",
    "    idx = int(\"\".join(str(n) for n in lst), 2)\n",
    "    ret = np.zeros(2**width)\n",
    "    ret[idx] = 1.\n",
    "    return ret"
   ]
  },
  {
   "cell_type": "code",
   "execution_count": 547,
   "metadata": {},
   "outputs": [
    {
     "data": {
      "text/plain": [
       "array([0., 0., 0., 0., 0., 0., 0., 0., 0., 0., 0., 0., 0., 0., 0., 0., 0.,\n",
       "       0., 0., 0., 0., 0., 0., 0., 0., 0., 0., 0., 0., 0., 1., 0.])"
      ]
     },
     "execution_count": 547,
     "metadata": {},
     "output_type": "execute_result"
    }
   ],
   "source": [
    "bin_to_onehot(char_to_bin5(\"?\"), 5)"
   ]
  },
  {
   "cell_type": "markdown",
   "metadata": {},
   "source": [
    "## Training Sets"
   ]
  },
  {
   "cell_type": "code",
   "execution_count": 555,
   "metadata": {},
   "outputs": [],
   "source": [
    "def constant_sentence(length: int, constant: List[int]) -> List[int]:\n",
    "    return [ constant for _ in range(length) ]"
   ]
  },
  {
   "cell_type": "code",
   "execution_count": 556,
   "metadata": {},
   "outputs": [],
   "source": [
    "def alternating_set(length: int, constants: List[List[int]]) -> List[int]:\n",
    "    return [ constants[i % len(constants)] for i in range(length) ]"
   ]
  },
  {
   "cell_type": "code",
   "execution_count": 557,
   "metadata": {},
   "outputs": [
    {
     "data": {
      "text/plain": [
       "['a', 'b', 'a', 'b', 'a']"
      ]
     },
     "execution_count": 557,
     "metadata": {},
     "output_type": "execute_result"
    }
   ],
   "source": [
    "alternating_set(5, [\"a\", \"b\"])"
   ]
  },
  {
   "cell_type": "markdown",
   "metadata": {},
   "source": [
    "## Optimize"
   ]
  },
  {
   "cell_type": "code",
   "execution_count": 571,
   "metadata": {},
   "outputs": [],
   "source": [
    "from scipy.optimize import minimize"
   ]
  },
  {
   "cell_type": "code",
   "execution_count": 579,
   "metadata": {},
   "outputs": [],
   "source": [
    "def crossentropy(target: np.array, predicted: np.array) -> float:\n",
    "    return -sum(target * np.log(predicted))"
   ]
  },
  {
   "cell_type": "code",
   "execution_count": 580,
   "metadata": {},
   "outputs": [
    {
     "data": {
      "text/plain": [
       "0.10536051565782628"
      ]
     },
     "execution_count": 580,
     "metadata": {},
     "output_type": "execute_result"
    }
   ],
   "source": [
    "crossentropy(np.array([1, 0, 0]), np.array([.9, .05, .05]))"
   ]
  },
  {
   "cell_type": "code",
   "execution_count": 581,
   "metadata": {},
   "outputs": [
    {
     "data": {
      "text/plain": [
       "0.6931471805599453"
      ]
     },
     "execution_count": 581,
     "metadata": {},
     "output_type": "execute_result"
    }
   ],
   "source": [
    "crossentropy(np.array([1, 0, 0]), np.array([.5, .25, .25]))"
   ]
  },
  {
   "cell_type": "code",
   "execution_count": null,
   "metadata": {},
   "outputs": [],
   "source": []
  },
  {
   "cell_type": "code",
   "execution_count": 573,
   "metadata": {},
   "outputs": [],
   "source": [
    "def optim_step(fun, x0):\n",
    "    res = minimize(fun, x0, method=\"L-BFGS-B\", options={\"maxiter\": 10, \"disp\": False})\n",
    "    return res.x, res.fun"
   ]
  },
  {
   "cell_type": "code",
   "execution_count": 574,
   "metadata": {},
   "outputs": [
    {
     "data": {
      "text/plain": [
       "96"
      ]
     },
     "execution_count": 574,
     "metadata": {},
     "output_type": "execute_result"
    }
   ],
   "source": [
    "param_count, rvqe = rvqe_factory(width=5, u_layers=2, stages=2)\n",
    "param_count"
   ]
  },
  {
   "cell_type": "code",
   "execution_count": 575,
   "metadata": {},
   "outputs": [
    {
     "ename": "KeyboardInterrupt",
     "evalue": "",
     "output_type": "error",
     "traceback": [
      "\u001b[0;31m---------------------------------------------------------------------------\u001b[0m",
      "\u001b[0;31mKeyboardInterrupt\u001b[0m                         Traceback (most recent call last)",
      "\u001b[0;32m<ipython-input-575-622cec2b3b0d>\u001b[0m in \u001b[0;36m<module>\u001b[0;34m\u001b[0m\n\u001b[1;32m     18\u001b[0m         \u001b[0;32mreturn\u001b[0m \u001b[0mloss\u001b[0m\u001b[0;34m\u001b[0m\u001b[0;34m\u001b[0m\u001b[0m\n\u001b[1;32m     19\u001b[0m \u001b[0;34m\u001b[0m\u001b[0m\n\u001b[0;32m---> 20\u001b[0;31m     \u001b[0mparams\u001b[0m\u001b[0;34m,\u001b[0m \u001b[0mloss\u001b[0m \u001b[0;34m=\u001b[0m \u001b[0moptim_step\u001b[0m\u001b[0;34m(\u001b[0m\u001b[0mfun\u001b[0m\u001b[0;34m,\u001b[0m \u001b[0mparams\u001b[0m\u001b[0;34m)\u001b[0m\u001b[0;34m\u001b[0m\u001b[0;34m\u001b[0m\u001b[0m\n\u001b[0m\u001b[1;32m     21\u001b[0m     \u001b[0mout\u001b[0m\u001b[0;34m,\u001b[0m \u001b[0m_\u001b[0m \u001b[0;34m=\u001b[0m \u001b[0mrvqe\u001b[0m\u001b[0;34m(\u001b[0m\u001b[0mparams\u001b[0m\u001b[0;34m,\u001b[0m \u001b[0msentence\u001b[0m\u001b[0;34m)\u001b[0m\u001b[0;34m\u001b[0m\u001b[0;34m\u001b[0m\u001b[0m\n\u001b[1;32m     22\u001b[0m \u001b[0;34m\u001b[0m\u001b[0m\n",
      "\u001b[0;32m<ipython-input-573-522ef120dc53>\u001b[0m in \u001b[0;36moptim_step\u001b[0;34m(fun, x0)\u001b[0m\n\u001b[1;32m      1\u001b[0m \u001b[0;32mdef\u001b[0m \u001b[0moptim_step\u001b[0m\u001b[0;34m(\u001b[0m\u001b[0mfun\u001b[0m\u001b[0;34m,\u001b[0m \u001b[0mx0\u001b[0m\u001b[0;34m)\u001b[0m\u001b[0;34m:\u001b[0m\u001b[0;34m\u001b[0m\u001b[0;34m\u001b[0m\u001b[0m\n\u001b[0;32m----> 2\u001b[0;31m     \u001b[0mres\u001b[0m \u001b[0;34m=\u001b[0m \u001b[0mminimize\u001b[0m\u001b[0;34m(\u001b[0m\u001b[0mfun\u001b[0m\u001b[0;34m,\u001b[0m \u001b[0mx0\u001b[0m\u001b[0;34m,\u001b[0m \u001b[0mmethod\u001b[0m\u001b[0;34m=\u001b[0m\u001b[0;34m\"L-BFGS-B\"\u001b[0m\u001b[0;34m,\u001b[0m \u001b[0moptions\u001b[0m\u001b[0;34m=\u001b[0m\u001b[0;34m{\u001b[0m\u001b[0;34m\"maxiter\"\u001b[0m\u001b[0;34m:\u001b[0m \u001b[0;36m10\u001b[0m\u001b[0;34m,\u001b[0m \u001b[0;34m\"disp\"\u001b[0m\u001b[0;34m:\u001b[0m \u001b[0;32mFalse\u001b[0m\u001b[0;34m}\u001b[0m\u001b[0;34m)\u001b[0m\u001b[0;34m\u001b[0m\u001b[0;34m\u001b[0m\u001b[0m\n\u001b[0m\u001b[1;32m      3\u001b[0m     \u001b[0;32mreturn\u001b[0m \u001b[0mres\u001b[0m\u001b[0;34m.\u001b[0m\u001b[0mx\u001b[0m\u001b[0;34m,\u001b[0m \u001b[0mres\u001b[0m\u001b[0;34m.\u001b[0m\u001b[0mfun\u001b[0m\u001b[0;34m\u001b[0m\u001b[0;34m\u001b[0m\u001b[0m\n",
      "\u001b[0;32m~/miniconda3/envs/rvqe/lib/python3.8/site-packages/scipy/optimize/_minimize.py\u001b[0m in \u001b[0;36mminimize\u001b[0;34m(fun, x0, args, method, jac, hess, hessp, bounds, constraints, tol, callback, options)\u001b[0m\n\u001b[1;32m    607\u001b[0m                                   **options)\n\u001b[1;32m    608\u001b[0m     \u001b[0;32melif\u001b[0m \u001b[0mmeth\u001b[0m \u001b[0;34m==\u001b[0m \u001b[0;34m'l-bfgs-b'\u001b[0m\u001b[0;34m:\u001b[0m\u001b[0;34m\u001b[0m\u001b[0;34m\u001b[0m\u001b[0m\n\u001b[0;32m--> 609\u001b[0;31m         return _minimize_lbfgsb(fun, x0, args, jac, bounds,\n\u001b[0m\u001b[1;32m    610\u001b[0m                                 callback=callback, **options)\n\u001b[1;32m    611\u001b[0m     \u001b[0;32melif\u001b[0m \u001b[0mmeth\u001b[0m \u001b[0;34m==\u001b[0m \u001b[0;34m'tnc'\u001b[0m\u001b[0;34m:\u001b[0m\u001b[0;34m\u001b[0m\u001b[0;34m\u001b[0m\u001b[0m\n",
      "\u001b[0;32m~/miniconda3/envs/rvqe/lib/python3.8/site-packages/scipy/optimize/lbfgsb.py\u001b[0m in \u001b[0;36m_minimize_lbfgsb\u001b[0;34m(fun, x0, args, jac, bounds, disp, maxcor, ftol, gtol, eps, maxfun, maxiter, iprint, callback, maxls, **unknown_options)\u001b[0m\n\u001b[1;32m    343\u001b[0m             \u001b[0;31m# until the completion of the current minimization iteration.\u001b[0m\u001b[0;34m\u001b[0m\u001b[0;34m\u001b[0m\u001b[0;34m\u001b[0m\u001b[0m\n\u001b[1;32m    344\u001b[0m             \u001b[0;31m# Overwrite f and g:\u001b[0m\u001b[0;34m\u001b[0m\u001b[0;34m\u001b[0m\u001b[0;34m\u001b[0m\u001b[0m\n\u001b[0;32m--> 345\u001b[0;31m             \u001b[0mf\u001b[0m\u001b[0;34m,\u001b[0m \u001b[0mg\u001b[0m \u001b[0;34m=\u001b[0m \u001b[0mfunc_and_grad\u001b[0m\u001b[0;34m(\u001b[0m\u001b[0mx\u001b[0m\u001b[0;34m)\u001b[0m\u001b[0;34m\u001b[0m\u001b[0;34m\u001b[0m\u001b[0m\n\u001b[0m\u001b[1;32m    346\u001b[0m         \u001b[0;32melif\u001b[0m \u001b[0mtask_str\u001b[0m\u001b[0;34m.\u001b[0m\u001b[0mstartswith\u001b[0m\u001b[0;34m(\u001b[0m\u001b[0;34mb'NEW_X'\u001b[0m\u001b[0;34m)\u001b[0m\u001b[0;34m:\u001b[0m\u001b[0;34m\u001b[0m\u001b[0;34m\u001b[0m\u001b[0m\n\u001b[1;32m    347\u001b[0m             \u001b[0;31m# new iteration\u001b[0m\u001b[0;34m\u001b[0m\u001b[0;34m\u001b[0m\u001b[0;34m\u001b[0m\u001b[0m\n",
      "\u001b[0;32m~/miniconda3/envs/rvqe/lib/python3.8/site-packages/scipy/optimize/lbfgsb.py\u001b[0m in \u001b[0;36mfunc_and_grad\u001b[0;34m(x)\u001b[0m\n\u001b[1;32m    289\u001b[0m         \u001b[0;32mdef\u001b[0m \u001b[0mfunc_and_grad\u001b[0m\u001b[0;34m(\u001b[0m\u001b[0mx\u001b[0m\u001b[0;34m)\u001b[0m\u001b[0;34m:\u001b[0m\u001b[0;34m\u001b[0m\u001b[0;34m\u001b[0m\u001b[0m\n\u001b[1;32m    290\u001b[0m             \u001b[0mf\u001b[0m \u001b[0;34m=\u001b[0m \u001b[0mfun\u001b[0m\u001b[0;34m(\u001b[0m\u001b[0mx\u001b[0m\u001b[0;34m,\u001b[0m \u001b[0;34m*\u001b[0m\u001b[0margs\u001b[0m\u001b[0;34m)\u001b[0m\u001b[0;34m\u001b[0m\u001b[0;34m\u001b[0m\u001b[0m\n\u001b[0;32m--> 291\u001b[0;31m             \u001b[0mg\u001b[0m \u001b[0;34m=\u001b[0m \u001b[0m_approx_fprime_helper\u001b[0m\u001b[0;34m(\u001b[0m\u001b[0mx\u001b[0m\u001b[0;34m,\u001b[0m \u001b[0mfun\u001b[0m\u001b[0;34m,\u001b[0m \u001b[0mepsilon\u001b[0m\u001b[0;34m,\u001b[0m \u001b[0margs\u001b[0m\u001b[0;34m=\u001b[0m\u001b[0margs\u001b[0m\u001b[0;34m,\u001b[0m \u001b[0mf0\u001b[0m\u001b[0;34m=\u001b[0m\u001b[0mf\u001b[0m\u001b[0;34m)\u001b[0m\u001b[0;34m\u001b[0m\u001b[0;34m\u001b[0m\u001b[0m\n\u001b[0m\u001b[1;32m    292\u001b[0m             \u001b[0;32mreturn\u001b[0m \u001b[0mf\u001b[0m\u001b[0;34m,\u001b[0m \u001b[0mg\u001b[0m\u001b[0;34m\u001b[0m\u001b[0;34m\u001b[0m\u001b[0m\n\u001b[1;32m    293\u001b[0m     \u001b[0;32melse\u001b[0m\u001b[0;34m:\u001b[0m\u001b[0;34m\u001b[0m\u001b[0;34m\u001b[0m\u001b[0m\n",
      "\u001b[0;32m~/miniconda3/envs/rvqe/lib/python3.8/site-packages/scipy/optimize/optimize.py\u001b[0m in \u001b[0;36m_approx_fprime_helper\u001b[0;34m(xk, f, epsilon, args, f0)\u001b[0m\n\u001b[1;32m    695\u001b[0m         \u001b[0mei\u001b[0m\u001b[0;34m[\u001b[0m\u001b[0mk\u001b[0m\u001b[0;34m]\u001b[0m \u001b[0;34m=\u001b[0m \u001b[0;36m1.0\u001b[0m\u001b[0;34m\u001b[0m\u001b[0;34m\u001b[0m\u001b[0m\n\u001b[1;32m    696\u001b[0m         \u001b[0md\u001b[0m \u001b[0;34m=\u001b[0m \u001b[0mepsilon\u001b[0m \u001b[0;34m*\u001b[0m \u001b[0mei\u001b[0m\u001b[0;34m\u001b[0m\u001b[0;34m\u001b[0m\u001b[0m\n\u001b[0;32m--> 697\u001b[0;31m         \u001b[0mdf\u001b[0m \u001b[0;34m=\u001b[0m \u001b[0;34m(\u001b[0m\u001b[0mf\u001b[0m\u001b[0;34m(\u001b[0m\u001b[0;34m*\u001b[0m\u001b[0;34m(\u001b[0m\u001b[0;34m(\u001b[0m\u001b[0mxk\u001b[0m \u001b[0;34m+\u001b[0m \u001b[0md\u001b[0m\u001b[0;34m,\u001b[0m\u001b[0;34m)\u001b[0m \u001b[0;34m+\u001b[0m \u001b[0margs\u001b[0m\u001b[0;34m)\u001b[0m\u001b[0;34m)\u001b[0m \u001b[0;34m-\u001b[0m \u001b[0mf0\u001b[0m\u001b[0;34m)\u001b[0m \u001b[0;34m/\u001b[0m \u001b[0md\u001b[0m\u001b[0;34m[\u001b[0m\u001b[0mk\u001b[0m\u001b[0;34m]\u001b[0m\u001b[0;34m\u001b[0m\u001b[0;34m\u001b[0m\u001b[0m\n\u001b[0m\u001b[1;32m    698\u001b[0m         \u001b[0;32mif\u001b[0m \u001b[0;32mnot\u001b[0m \u001b[0mnp\u001b[0m\u001b[0;34m.\u001b[0m\u001b[0misscalar\u001b[0m\u001b[0;34m(\u001b[0m\u001b[0mdf\u001b[0m\u001b[0;34m)\u001b[0m\u001b[0;34m:\u001b[0m\u001b[0;34m\u001b[0m\u001b[0;34m\u001b[0m\u001b[0m\n\u001b[1;32m    699\u001b[0m             \u001b[0;32mtry\u001b[0m\u001b[0;34m:\u001b[0m\u001b[0;34m\u001b[0m\u001b[0;34m\u001b[0m\u001b[0m\n",
      "\u001b[0;32m~/miniconda3/envs/rvqe/lib/python3.8/site-packages/scipy/optimize/optimize.py\u001b[0m in \u001b[0;36mfunction_wrapper\u001b[0;34m(*wrapper_args)\u001b[0m\n\u001b[1;32m    325\u001b[0m     \u001b[0;32mdef\u001b[0m \u001b[0mfunction_wrapper\u001b[0m\u001b[0;34m(\u001b[0m\u001b[0;34m*\u001b[0m\u001b[0mwrapper_args\u001b[0m\u001b[0;34m)\u001b[0m\u001b[0;34m:\u001b[0m\u001b[0;34m\u001b[0m\u001b[0;34m\u001b[0m\u001b[0m\n\u001b[1;32m    326\u001b[0m         \u001b[0mncalls\u001b[0m\u001b[0;34m[\u001b[0m\u001b[0;36m0\u001b[0m\u001b[0;34m]\u001b[0m \u001b[0;34m+=\u001b[0m \u001b[0;36m1\u001b[0m\u001b[0;34m\u001b[0m\u001b[0;34m\u001b[0m\u001b[0m\n\u001b[0;32m--> 327\u001b[0;31m         \u001b[0;32mreturn\u001b[0m \u001b[0mfunction\u001b[0m\u001b[0;34m(\u001b[0m\u001b[0;34m*\u001b[0m\u001b[0;34m(\u001b[0m\u001b[0mwrapper_args\u001b[0m \u001b[0;34m+\u001b[0m \u001b[0margs\u001b[0m\u001b[0;34m)\u001b[0m\u001b[0;34m)\u001b[0m\u001b[0;34m\u001b[0m\u001b[0;34m\u001b[0m\u001b[0m\n\u001b[0m\u001b[1;32m    328\u001b[0m \u001b[0;34m\u001b[0m\u001b[0m\n\u001b[1;32m    329\u001b[0m     \u001b[0;32mreturn\u001b[0m \u001b[0mncalls\u001b[0m\u001b[0;34m,\u001b[0m \u001b[0mfunction_wrapper\u001b[0m\u001b[0;34m\u001b[0m\u001b[0;34m\u001b[0m\u001b[0m\n",
      "\u001b[0;32m<ipython-input-575-622cec2b3b0d>\u001b[0m in \u001b[0;36mfun\u001b[0;34m(params)\u001b[0m\n\u001b[1;32m     14\u001b[0m \u001b[0;34m\u001b[0m\u001b[0m\n\u001b[1;32m     15\u001b[0m     \u001b[0;32mdef\u001b[0m \u001b[0mfun\u001b[0m\u001b[0;34m(\u001b[0m\u001b[0mparams\u001b[0m\u001b[0;34m:\u001b[0m \u001b[0mnp\u001b[0m\u001b[0;34m.\u001b[0m\u001b[0marray\u001b[0m\u001b[0;34m)\u001b[0m \u001b[0;34m->\u001b[0m \u001b[0mfloat\u001b[0m\u001b[0;34m:\u001b[0m\u001b[0;34m\u001b[0m\u001b[0;34m\u001b[0m\u001b[0m\n\u001b[0;32m---> 16\u001b[0;31m         \u001b[0m_\u001b[0m\u001b[0;34m,\u001b[0m \u001b[0mprobs\u001b[0m \u001b[0;34m=\u001b[0m \u001b[0mrvqe\u001b[0m\u001b[0;34m(\u001b[0m\u001b[0mparams\u001b[0m\u001b[0;34m,\u001b[0m \u001b[0msentence\u001b[0m\u001b[0;34m)\u001b[0m\u001b[0;34m\u001b[0m\u001b[0;34m\u001b[0m\u001b[0m\n\u001b[0m\u001b[1;32m     17\u001b[0m         \u001b[0mloss\u001b[0m \u001b[0;34m=\u001b[0m \u001b[0msum\u001b[0m\u001b[0;34m(\u001b[0m\u001b[0mcrossentropy\u001b[0m\u001b[0;34m(\u001b[0m\u001b[0ma\u001b[0m\u001b[0;34m,\u001b[0m \u001b[0mb\u001b[0m\u001b[0;34m)\u001b[0m \u001b[0;32mfor\u001b[0m \u001b[0ma\u001b[0m\u001b[0;34m,\u001b[0m \u001b[0mb\u001b[0m \u001b[0;32min\u001b[0m \u001b[0mzip\u001b[0m\u001b[0;34m(\u001b[0m\u001b[0msentence_onehot\u001b[0m\u001b[0;34m,\u001b[0m \u001b[0mprobs\u001b[0m\u001b[0;34m)\u001b[0m \u001b[0;34m)\u001b[0m\u001b[0;34m\u001b[0m\u001b[0;34m\u001b[0m\u001b[0m\n\u001b[1;32m     18\u001b[0m         \u001b[0;32mreturn\u001b[0m \u001b[0mloss\u001b[0m\u001b[0;34m\u001b[0m\u001b[0;34m\u001b[0m\u001b[0m\n",
      "\u001b[0;32m<ipython-input-499-76fd4fda9553>\u001b[0m in \u001b[0;36mrun\u001b[0;34m(params, inputs)\u001b[0m\n\u001b[1;32m     52\u001b[0m             \u001b[0;32mfor\u001b[0m \u001b[0mu\u001b[0m\u001b[0;34m,\u001b[0m \u001b[0mp\u001b[0m \u001b[0;32min\u001b[0m \u001b[0mls\u001b[0m\u001b[0;34m:\u001b[0m\u001b[0;34m\u001b[0m\u001b[0;34m\u001b[0m\u001b[0m\n\u001b[1;32m     53\u001b[0m                 \u001b[0;31m# unitary and RUS circuit\u001b[0m\u001b[0;34m\u001b[0m\u001b[0;34m\u001b[0m\u001b[0;34m\u001b[0m\u001b[0m\n\u001b[0;32m---> 54\u001b[0;31m                 \u001b[0mpsi\u001b[0m \u001b[0;34m=\u001b[0m \u001b[0mpsi\u001b[0m\u001b[0;34m.\u001b[0m\u001b[0mevolve\u001b[0m\u001b[0;34m(\u001b[0m\u001b[0mu\u001b[0m \u001b[0;34m+\u001b[0m \u001b[0mp\u001b[0m\u001b[0;34m)\u001b[0m\u001b[0;34m\u001b[0m\u001b[0;34m\u001b[0m\u001b[0m\n\u001b[0m\u001b[1;32m     55\u001b[0m                 \u001b[0mpsi\u001b[0m \u001b[0;34m=\u001b[0m \u001b[0mpostselect\u001b[0m\u001b[0;34m(\u001b[0m\u001b[0mpsi\u001b[0m\u001b[0;34m,\u001b[0m \u001b[0;34m-\u001b[0m\u001b[0;36m1\u001b[0m\u001b[0;34m,\u001b[0m \u001b[0;36m1\u001b[0m\u001b[0;34m)\u001b[0m  \u001b[0;31m# abbreviating the RUS application here\u001b[0m\u001b[0;34m\u001b[0m\u001b[0;34m\u001b[0m\u001b[0m\n\u001b[1;32m     56\u001b[0m \u001b[0;34m\u001b[0m\u001b[0m\n",
      "\u001b[0;32m~/miniconda3/envs/rvqe/lib/python3.8/site-packages/qiskit/quantum_info/states/statevector.py\u001b[0m in \u001b[0;36mevolve\u001b[0;34m(self, other, qargs)\u001b[0m\n\u001b[1;32m    200\u001b[0m         \u001b[0;31m# Evolution by a circuit or instruction\u001b[0m\u001b[0;34m\u001b[0m\u001b[0;34m\u001b[0m\u001b[0;34m\u001b[0m\u001b[0m\n\u001b[1;32m    201\u001b[0m         \u001b[0;32mif\u001b[0m \u001b[0misinstance\u001b[0m\u001b[0;34m(\u001b[0m\u001b[0mother\u001b[0m\u001b[0;34m,\u001b[0m \u001b[0;34m(\u001b[0m\u001b[0mQuantumCircuit\u001b[0m\u001b[0;34m,\u001b[0m \u001b[0mInstruction\u001b[0m\u001b[0;34m)\u001b[0m\u001b[0;34m)\u001b[0m\u001b[0;34m:\u001b[0m\u001b[0;34m\u001b[0m\u001b[0;34m\u001b[0m\u001b[0m\n\u001b[0;32m--> 202\u001b[0;31m             \u001b[0;32mreturn\u001b[0m \u001b[0mself\u001b[0m\u001b[0;34m.\u001b[0m\u001b[0m_evolve_instruction\u001b[0m\u001b[0;34m(\u001b[0m\u001b[0mother\u001b[0m\u001b[0;34m,\u001b[0m \u001b[0mqargs\u001b[0m\u001b[0;34m=\u001b[0m\u001b[0mqargs\u001b[0m\u001b[0;34m)\u001b[0m\u001b[0;34m\u001b[0m\u001b[0;34m\u001b[0m\u001b[0m\n\u001b[0m\u001b[1;32m    203\u001b[0m         \u001b[0;31m# Evolution by an Operator\u001b[0m\u001b[0;34m\u001b[0m\u001b[0;34m\u001b[0m\u001b[0;34m\u001b[0m\u001b[0m\n\u001b[1;32m    204\u001b[0m         \u001b[0;32mif\u001b[0m \u001b[0;32mnot\u001b[0m \u001b[0misinstance\u001b[0m\u001b[0;34m(\u001b[0m\u001b[0mother\u001b[0m\u001b[0;34m,\u001b[0m \u001b[0mOperator\u001b[0m\u001b[0;34m)\u001b[0m\u001b[0;34m:\u001b[0m\u001b[0;34m\u001b[0m\u001b[0;34m\u001b[0m\u001b[0m\n",
      "\u001b[0;32m~/miniconda3/envs/rvqe/lib/python3.8/site-packages/qiskit/quantum_info/states/statevector.py\u001b[0m in \u001b[0;36m_evolve_instruction\u001b[0;34m(self, obj, qargs)\u001b[0m\n\u001b[1;32m    571\u001b[0m         \u001b[0;34m\"\"\"Return a new statevector by applying an instruction.\"\"\"\u001b[0m\u001b[0;34m\u001b[0m\u001b[0;34m\u001b[0m\u001b[0m\n\u001b[1;32m    572\u001b[0m         \u001b[0;32mif\u001b[0m \u001b[0misinstance\u001b[0m\u001b[0;34m(\u001b[0m\u001b[0mobj\u001b[0m\u001b[0;34m,\u001b[0m \u001b[0mQuantumCircuit\u001b[0m\u001b[0;34m)\u001b[0m\u001b[0;34m:\u001b[0m\u001b[0;34m\u001b[0m\u001b[0;34m\u001b[0m\u001b[0m\n\u001b[0;32m--> 573\u001b[0;31m             \u001b[0mobj\u001b[0m \u001b[0;34m=\u001b[0m \u001b[0mobj\u001b[0m\u001b[0;34m.\u001b[0m\u001b[0mto_instruction\u001b[0m\u001b[0;34m(\u001b[0m\u001b[0;34m)\u001b[0m\u001b[0;34m\u001b[0m\u001b[0;34m\u001b[0m\u001b[0m\n\u001b[0m\u001b[1;32m    574\u001b[0m         \u001b[0mvec\u001b[0m \u001b[0;34m=\u001b[0m \u001b[0mStatevector\u001b[0m\u001b[0;34m(\u001b[0m\u001b[0mself\u001b[0m\u001b[0;34m.\u001b[0m\u001b[0mdata\u001b[0m\u001b[0;34m,\u001b[0m \u001b[0mdims\u001b[0m\u001b[0;34m=\u001b[0m\u001b[0mself\u001b[0m\u001b[0;34m.\u001b[0m\u001b[0mdims\u001b[0m\u001b[0;34m(\u001b[0m\u001b[0;34m)\u001b[0m\u001b[0;34m)\u001b[0m\u001b[0;34m\u001b[0m\u001b[0;34m\u001b[0m\u001b[0m\n\u001b[1;32m    575\u001b[0m         \u001b[0mvec\u001b[0m\u001b[0;34m.\u001b[0m\u001b[0m_append_instruction\u001b[0m\u001b[0;34m(\u001b[0m\u001b[0mobj\u001b[0m\u001b[0;34m,\u001b[0m \u001b[0mqargs\u001b[0m\u001b[0;34m=\u001b[0m\u001b[0mqargs\u001b[0m\u001b[0;34m)\u001b[0m\u001b[0;34m\u001b[0m\u001b[0;34m\u001b[0m\u001b[0m\n",
      "\u001b[0;32m~/miniconda3/envs/rvqe/lib/python3.8/site-packages/qiskit/circuit/quantumcircuit.py\u001b[0m in \u001b[0;36mto_instruction\u001b[0;34m(self, parameter_map)\u001b[0m\n\u001b[1;32m    593\u001b[0m         \"\"\"\n\u001b[1;32m    594\u001b[0m         \u001b[0;32mfrom\u001b[0m \u001b[0mqiskit\u001b[0m\u001b[0;34m.\u001b[0m\u001b[0mconverters\u001b[0m\u001b[0;34m.\u001b[0m\u001b[0mcircuit_to_instruction\u001b[0m \u001b[0;32mimport\u001b[0m \u001b[0mcircuit_to_instruction\u001b[0m\u001b[0;34m\u001b[0m\u001b[0;34m\u001b[0m\u001b[0m\n\u001b[0;32m--> 595\u001b[0;31m         \u001b[0;32mreturn\u001b[0m \u001b[0mcircuit_to_instruction\u001b[0m\u001b[0;34m(\u001b[0m\u001b[0mself\u001b[0m\u001b[0;34m,\u001b[0m \u001b[0mparameter_map\u001b[0m\u001b[0;34m)\u001b[0m\u001b[0;34m\u001b[0m\u001b[0;34m\u001b[0m\u001b[0m\n\u001b[0m\u001b[1;32m    596\u001b[0m \u001b[0;34m\u001b[0m\u001b[0m\n\u001b[1;32m    597\u001b[0m     \u001b[0;32mdef\u001b[0m \u001b[0mto_gate\u001b[0m\u001b[0;34m(\u001b[0m\u001b[0mself\u001b[0m\u001b[0;34m,\u001b[0m \u001b[0mparameter_map\u001b[0m\u001b[0;34m=\u001b[0m\u001b[0;32mNone\u001b[0m\u001b[0;34m)\u001b[0m\u001b[0;34m:\u001b[0m\u001b[0;34m\u001b[0m\u001b[0;34m\u001b[0m\u001b[0m\n",
      "\u001b[0;32m~/miniconda3/envs/rvqe/lib/python3.8/site-packages/qiskit/converters/circuit_to_instruction.py\u001b[0m in \u001b[0;36mcircuit_to_instruction\u001b[0;34m(circuit, parameter_map)\u001b[0m\n\u001b[1;32m     92\u001b[0m     \u001b[0;32mfrom\u001b[0m \u001b[0mqiskit\u001b[0m\u001b[0;34m.\u001b[0m\u001b[0mcircuit\u001b[0m\u001b[0;34m.\u001b[0m\u001b[0mequivalence_library\u001b[0m \u001b[0;32mimport\u001b[0m \u001b[0mSessionEquivalenceLibrary\u001b[0m \u001b[0;32mas\u001b[0m \u001b[0msel\u001b[0m\u001b[0;34m\u001b[0m\u001b[0;34m\u001b[0m\u001b[0m\n\u001b[1;32m     93\u001b[0m     \u001b[0;31m# pylint: enable=cyclic-import\u001b[0m\u001b[0;34m\u001b[0m\u001b[0;34m\u001b[0m\u001b[0;34m\u001b[0m\u001b[0m\n\u001b[0;32m---> 94\u001b[0;31m     \u001b[0msel\u001b[0m\u001b[0;34m.\u001b[0m\u001b[0madd_equivalence\u001b[0m\u001b[0;34m(\u001b[0m\u001b[0minstruction\u001b[0m\u001b[0;34m,\u001b[0m \u001b[0mtarget\u001b[0m\u001b[0;34m)\u001b[0m\u001b[0;34m\u001b[0m\u001b[0;34m\u001b[0m\u001b[0m\n\u001b[0m\u001b[1;32m     95\u001b[0m \u001b[0;34m\u001b[0m\u001b[0m\n\u001b[1;32m     96\u001b[0m     \u001b[0mdefinition\u001b[0m \u001b[0;34m=\u001b[0m \u001b[0mtarget\u001b[0m\u001b[0;34m.\u001b[0m\u001b[0mdata\u001b[0m\u001b[0;34m\u001b[0m\u001b[0;34m\u001b[0m\u001b[0m\n",
      "\u001b[0;32m~/miniconda3/envs/rvqe/lib/python3.8/site-packages/qiskit/circuit/equivalence.py\u001b[0m in \u001b[0;36madd_equivalence\u001b[0;34m(self, gate, equivalent_circuit)\u001b[0m\n\u001b[1;32m     67\u001b[0m \u001b[0;34m\u001b[0m\u001b[0m\n\u001b[1;32m     68\u001b[0m         equiv = Equivalence(params=gate.params.copy(),\n\u001b[0;32m---> 69\u001b[0;31m                             circuit=equivalent_circuit.copy())\n\u001b[0m\u001b[1;32m     70\u001b[0m \u001b[0;34m\u001b[0m\u001b[0m\n\u001b[1;32m     71\u001b[0m         \u001b[0;32mif\u001b[0m \u001b[0mkey\u001b[0m \u001b[0;32mnot\u001b[0m \u001b[0;32min\u001b[0m \u001b[0mself\u001b[0m\u001b[0;34m.\u001b[0m\u001b[0m_map\u001b[0m\u001b[0;34m:\u001b[0m\u001b[0;34m\u001b[0m\u001b[0;34m\u001b[0m\u001b[0m\n",
      "\u001b[0;32m~/miniconda3/envs/rvqe/lib/python3.8/site-packages/qiskit/circuit/quantumcircuit.py\u001b[0m in \u001b[0;36mcopy\u001b[0;34m(self, name)\u001b[0m\n\u001b[1;32m   1159\u001b[0m                            for instr, _, __ in self.data}\n\u001b[1;32m   1160\u001b[0m \u001b[0;34m\u001b[0m\u001b[0m\n\u001b[0;32m-> 1161\u001b[0;31m         instr_copies = {id_: instr.copy()\n\u001b[0m\u001b[1;32m   1162\u001b[0m                         for id_, instr in instr_instances.items()}\n\u001b[1;32m   1163\u001b[0m \u001b[0;34m\u001b[0m\u001b[0m\n",
      "\u001b[0;32m~/miniconda3/envs/rvqe/lib/python3.8/site-packages/qiskit/circuit/quantumcircuit.py\u001b[0m in \u001b[0;36m<dictcomp>\u001b[0;34m(.0)\u001b[0m\n\u001b[1;32m   1159\u001b[0m                            for instr, _, __ in self.data}\n\u001b[1;32m   1160\u001b[0m \u001b[0;34m\u001b[0m\u001b[0m\n\u001b[0;32m-> 1161\u001b[0;31m         instr_copies = {id_: instr.copy()\n\u001b[0m\u001b[1;32m   1162\u001b[0m                         for id_, instr in instr_instances.items()}\n\u001b[1;32m   1163\u001b[0m \u001b[0;34m\u001b[0m\u001b[0m\n",
      "\u001b[0;32m~/miniconda3/envs/rvqe/lib/python3.8/site-packages/qiskit/circuit/instruction.py\u001b[0m in \u001b[0;36mcopy\u001b[0;34m(self, name)\u001b[0m\n\u001b[1;32m    281\u001b[0m             \u001b[0mupdated\u001b[0m \u001b[0;32mif\u001b[0m \u001b[0mit\u001b[0m \u001b[0mwas\u001b[0m \u001b[0mprovided\u001b[0m\u001b[0;34m\u001b[0m\u001b[0;34m\u001b[0m\u001b[0m\n\u001b[1;32m    282\u001b[0m         \"\"\"\n\u001b[0;32m--> 283\u001b[0;31m         \u001b[0mcpy\u001b[0m \u001b[0;34m=\u001b[0m \u001b[0mself\u001b[0m\u001b[0;34m.\u001b[0m\u001b[0m__deepcopy__\u001b[0m\u001b[0;34m(\u001b[0m\u001b[0;34m)\u001b[0m\u001b[0;34m\u001b[0m\u001b[0;34m\u001b[0m\u001b[0m\n\u001b[0m\u001b[1;32m    284\u001b[0m \u001b[0;34m\u001b[0m\u001b[0m\n\u001b[1;32m    285\u001b[0m         \u001b[0;32mif\u001b[0m \u001b[0mname\u001b[0m\u001b[0;34m:\u001b[0m\u001b[0;34m\u001b[0m\u001b[0;34m\u001b[0m\u001b[0m\n",
      "\u001b[0;32m~/miniconda3/envs/rvqe/lib/python3.8/site-packages/qiskit/circuit/instruction.py\u001b[0m in \u001b[0;36m__deepcopy__\u001b[0;34m(self, _memo)\u001b[0m\n\u001b[1;32m    289\u001b[0m     \u001b[0;32mdef\u001b[0m \u001b[0m__deepcopy__\u001b[0m\u001b[0;34m(\u001b[0m\u001b[0mself\u001b[0m\u001b[0;34m,\u001b[0m \u001b[0m_memo\u001b[0m\u001b[0;34m=\u001b[0m\u001b[0;32mNone\u001b[0m\u001b[0;34m)\u001b[0m\u001b[0;34m:\u001b[0m\u001b[0;34m\u001b[0m\u001b[0;34m\u001b[0m\u001b[0m\n\u001b[1;32m    290\u001b[0m         \u001b[0mcpy\u001b[0m \u001b[0;34m=\u001b[0m \u001b[0mcopy\u001b[0m\u001b[0;34m.\u001b[0m\u001b[0mcopy\u001b[0m\u001b[0;34m(\u001b[0m\u001b[0mself\u001b[0m\u001b[0;34m)\u001b[0m\u001b[0;34m\u001b[0m\u001b[0;34m\u001b[0m\u001b[0m\n\u001b[0;32m--> 291\u001b[0;31m         \u001b[0mcpy\u001b[0m\u001b[0;34m.\u001b[0m\u001b[0m_params\u001b[0m \u001b[0;34m=\u001b[0m \u001b[0mcopy\u001b[0m\u001b[0;34m.\u001b[0m\u001b[0mcopy\u001b[0m\u001b[0;34m(\u001b[0m\u001b[0mself\u001b[0m\u001b[0;34m.\u001b[0m\u001b[0m_params\u001b[0m\u001b[0;34m)\u001b[0m\u001b[0;34m\u001b[0m\u001b[0;34m\u001b[0m\u001b[0m\n\u001b[0m\u001b[1;32m    292\u001b[0m         \u001b[0;32mif\u001b[0m \u001b[0mself\u001b[0m\u001b[0;34m.\u001b[0m\u001b[0m_definition\u001b[0m\u001b[0;34m:\u001b[0m\u001b[0;34m\u001b[0m\u001b[0;34m\u001b[0m\u001b[0m\n\u001b[1;32m    293\u001b[0m             \u001b[0mcpy\u001b[0m\u001b[0;34m.\u001b[0m\u001b[0m_definition\u001b[0m \u001b[0;34m=\u001b[0m \u001b[0mcopy\u001b[0m\u001b[0;34m.\u001b[0m\u001b[0mdeepcopy\u001b[0m\u001b[0;34m(\u001b[0m\u001b[0mself\u001b[0m\u001b[0;34m.\u001b[0m\u001b[0m_definition\u001b[0m\u001b[0;34m,\u001b[0m \u001b[0m_memo\u001b[0m\u001b[0;34m)\u001b[0m\u001b[0;34m\u001b[0m\u001b[0;34m\u001b[0m\u001b[0m\n",
      "\u001b[0;31mKeyboardInterrupt\u001b[0m: "
     ]
    }
   ],
   "source": [
    "EPOCHS = 20\n",
    "SENTENCE_LENGTH = 10\n",
    "gen = constant_set([1, 0])\n",
    "\n",
    "params = np.array([ rand2pi() for _ in range(param_count) ])\n",
    "\n",
    "\n",
    "epoch = 0\n",
    "while epoch < EPOCHS:\n",
    "    epoch += 1\n",
    "    \n",
    "    sentence = constant_sentence(SENTENCE_LENGTH, [1, 0])\n",
    "    sentence_onehot = [ bin_to_onehot(s, len(sentence[0])) for s in sentence ]\n",
    "    \n",
    "    def fun(params: np.array) -> float:\n",
    "        _, probs = rvqe(params, sentence)\n",
    "        loss = sum(crossentropy(a, b) for a, b in zip(sentence_onehot, probs) )\n",
    "        return loss\n",
    "    \n",
    "    params, loss = optim_step(fun, params)\n",
    "    out, _ = rvqe(params, sentence)\n",
    "    \n",
    "    print(f\"{epoch:03d}/{EPOCHS:03d}  {loss=:.3f} pred={' '.join(out)}\")"
   ]
  },
  {
   "cell_type": "code",
   "execution_count": null,
   "metadata": {},
   "outputs": [],
   "source": []
  },
  {
   "cell_type": "code",
   "execution_count": null,
   "metadata": {},
   "outputs": [],
   "source": []
  }
 ],
 "metadata": {
  "kernelspec": {
   "display_name": "Python 3",
   "language": "python",
   "name": "python3"
  },
  "language_info": {
   "codemirror_mode": {
    "name": "ipython",
    "version": 3
   },
   "file_extension": ".py",
   "mimetype": "text/x-python",
   "name": "python",
   "nbconvert_exporter": "python",
   "pygments_lexer": "ipython3",
   "version": "3.8.2"
  }
 },
 "nbformat": 4,
 "nbformat_minor": 4
}
